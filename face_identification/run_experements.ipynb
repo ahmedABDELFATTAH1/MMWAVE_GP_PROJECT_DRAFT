{
 "cells": [
  {
   "cell_type": "code",
   "execution_count": 2,
   "metadata": {},
   "outputs": [],
   "source": [
    "import numpy as np\n",
    "import pandas as pd\n",
    "import plotly.express as px\n",
    "\n",
    "color = px.colors.sequential.Rainbow[::-1]\n",
    "marker_size = 2\n",
    "\n",
    "def plot_3D (exp_name , depth_axis):\n",
    "    my_sample_x = np.loadtxt(\"3D_Experements/\"+exp_name+\"_x.txt\")\n",
    "    my_sample_y = np.loadtxt(\"3D_Experements/\"+exp_name+\"_y.txt\")\n",
    "    my_sample_z = np.loadtxt(\"3D_Experements/\"+exp_name+\"_z.txt\")\n",
    "    df = pd.DataFrame(my_sample_x,columns=['X (mm)'])\n",
    "    df['Y (mm)'] = my_sample_y\n",
    "    df['Z (mm)'] = my_sample_z\n",
    "    df.head()\n",
    "    min_depth = 0\n",
    "    max_depth = 0\n",
    "    if depth_axis == 'x':\n",
    "        df['Depth'] = my_sample_x\n",
    "        max_depth = np.amax(my_sample_x)\n",
    "        min_depth = np.amin(my_sample_x)\n",
    "\n",
    "    elif depth_axis == 'y':\n",
    "        df['Depth'] = my_sample_y\n",
    "        max_depth = np.amax(my_sample_y)\n",
    "        min_depth = np.amin(my_sample_y)\n",
    "\n",
    "    elif depth_axis == 'z':\n",
    "        df['Depth'] = my_sample_z\n",
    "        max_depth = np.amax(my_sample_z)\n",
    "        min_depth = np.amin(my_sample_z)\n",
    "        \n",
    "\n",
    "    else:\n",
    "        print(\"invalid depth axis\")\n",
    "        return\n",
    "\n",
    "    fig = px.scatter_3d(df, x='X (mm)', y='Y (mm)', z='Z (mm)', color='Depth', title=\"ٌRadar Point Cloud\" , range_color=[min_depth,max_depth],color_continuous_scale=color , opacity=1)\n",
    "    fig.update_traces(marker=dict(size=marker_size, line=dict(width=0))) \n",
    "    fig.show()\n",
    "\n"
   ]
  },
  {
   "cell_type": "code",
   "execution_count": 3,
   "metadata": {},
   "outputs": [],
   "source": [
    "import numpy as np\n",
    "import pandas as pd\n",
    "import plotly.express as px\n",
    "\n",
    "color = px.colors.sequential.Rainbow[::-1]\n",
    "marker_size = 2\n",
    "\n",
    "def plot_3D (exp_name , depth_axis):\n",
    "    dist = np.loadtxt(\"3D_Experements/\"+exp_name+\"_x.txt\")\n",
    "    upper_angle = np.loadtxt(\"3D_Experements/\"+exp_name+\"_y.txt\")\n",
    "    lower_angle = np.loadtxt(\"3D_Experements/\"+exp_name+\"_z.txt\")\n",
    "\n",
    "    # print(\"print upper_angle = \"+upper_angle)\n",
    "    #x , y , z = np.array(dist)*np.cos(uAngel)*np.sin(lAngel) , np.array(dist)*np.cos(uAngel)*np.cos(lAngel) , np.array(dist)*np.sin(uAngel)\n",
    "\n",
    "    my_sample_x = np.array(dist)*np.cos(upper_angle)*np.sin(lower_angle)\n",
    "    my_sample_y =  np.array(dist)*np.cos(upper_angle)*np.cos(lower_angle)\n",
    "    my_sample_z =  np.array(dist)*np.sin(upper_angle)\n",
    "\n",
    "    df = pd.DataFrame(my_sample_x,columns=['X (mm)'])\n",
    "    df['Y (mm)'] = my_sample_y\n",
    "    df['Z (mm)'] = my_sample_z\n",
    "    df.head()\n",
    "    min_depth = 0\n",
    "    max_depth = 0\n",
    "    if depth_axis == 'x':\n",
    "        df['Depth'] = my_sample_x\n",
    "        max_depth = np.amax(my_sample_x)\n",
    "        min_depth = np.amin(my_sample_x)\n",
    "\n",
    "    elif depth_axis == 'y':\n",
    "        df['Depth'] = my_sample_y\n",
    "        max_depth = np.amax(my_sample_y)\n",
    "        min_depth = np.amin(my_sample_y)\n",
    "\n",
    "    elif depth_axis == 'z':\n",
    "        df['Depth'] = my_sample_z\n",
    "        max_depth = np.amax(my_sample_z)\n",
    "        min_depth = np.amin(my_sample_z)\n",
    "        \n",
    "\n",
    "    else:\n",
    "        print(\"invalid depth axis\")\n",
    "        return\n",
    "   \n",
    "\n",
    "    fig = px.scatter_3d(df, x='X (mm)', y='Y (mm)', z='Z (mm)', color='Depth', title=\"ٌRadar Point Cloud\" , range_color=[min_depth-200,max_depth+200],color_continuous_scale=color , opacity=1)\n",
    "    fig.update_traces(marker=dict(size=marker_size, line=dict(width=0))) \n",
    "    fig.show()\n",
    "\n"
   ]
  },
  {
   "cell_type": "markdown",
   "metadata": {},
   "source": [
    "# 1 ) Corner mapping experement\n",
    "![title](img/corner.jpg)\n"
   ]
  },
  {
   "cell_type": "code",
   "execution_count": null,
   "metadata": {},
   "outputs": [],
   "source": [
    "plot_3D(\"3D_corner\",'y')\n",
    "plot_3D(\"3D_corner\",'z')"
   ]
  },
  {
   "cell_type": "code",
   "execution_count": null,
   "metadata": {},
   "outputs": [],
   "source": [
    "plot_3D(\"3D_corner(1)\",'y')\n",
    "plot_3D(\"3D_corner(1)\",'z')"
   ]
  },
  {
   "cell_type": "markdown",
   "metadata": {},
   "source": [
    "# 2 ) Cylinder mapping experement\n",
    "![title](img/cylinder.jpg)\n"
   ]
  },
  {
   "cell_type": "code",
   "execution_count": null,
   "metadata": {},
   "outputs": [],
   "source": [
    "plot_3D(\"3D_cylinder\",'y')\n",
    "plot_3D(\"3D_cylinder\",'z')"
   ]
  },
  {
   "cell_type": "code",
   "execution_count": null,
   "metadata": {},
   "outputs": [],
   "source": [
    "plot_3D(\"3D_cylinder(1)\",'y')\n",
    "plot_3D(\"3D_cylinder(1)\",'z')"
   ]
  },
  {
   "cell_type": "markdown",
   "metadata": {},
   "source": [
    "# 3 ) Body mapping experement\n",
    "![title](img/ezzat_body.jpg)\n"
   ]
  },
  {
   "cell_type": "code",
   "execution_count": null,
   "metadata": {},
   "outputs": [],
   "source": [
    "plot_3D(\"3D_ezzat_body\",'y')\n",
    "plot_3D(\"3D_ezzat_body\",'z')"
   ]
  },
  {
   "cell_type": "markdown",
   "metadata": {},
   "source": [
    "# 4 ) Face mapping experement\n",
    "![title](img/ezzat_face.jpg)\n"
   ]
  },
  {
   "cell_type": "code",
   "execution_count": null,
   "metadata": {},
   "outputs": [],
   "source": [
    "plot_3D(\"3D_ezzat_face\",'y')\n",
    "plot_3D(\"3D_ezzat_face\",'z')"
   ]
  },
  {
   "cell_type": "code",
   "execution_count": null,
   "metadata": {},
   "outputs": [],
   "source": [
    "plot_3D(\"waleed_face\",'y')\n",
    "plot_3D(\"waleed_face\",'z')"
   ]
  },
  {
   "cell_type": "code",
   "execution_count": null,
   "metadata": {},
   "outputs": [],
   "source": [
    "plot_3D(\"wall\",'y')\n",
    "plot_3D(\"wall\",'z')"
   ]
  },
  {
   "cell_type": "code",
   "execution_count": null,
   "metadata": {},
   "outputs": [],
   "source": [
    "#50\n",
    "plot_3D(\"wall1\",'y')\n",
    "plot_3D(\"wall1\",'z')"
   ]
  },
  {
   "cell_type": "code",
   "execution_count": null,
   "metadata": {},
   "outputs": [],
   "source": [
    "#50\n",
    "plot_3D(\"wall2\",'y')\n",
    "plot_3D(\"wall2\",'z')"
   ]
  },
  {
   "cell_type": "code",
   "execution_count": null,
   "metadata": {},
   "outputs": [],
   "source": [
    "#50\n",
    "plot_3D(\"wall4\",'y')\n",
    "# plot_3D(\"wall4\",'z')"
   ]
  },
  {
   "cell_type": "code",
   "execution_count": null,
   "metadata": {},
   "outputs": [],
   "source": [
    "#50\n",
    "plot_3D(\"wall4d\",'y')\n",
    "plot_3D(\"wall4d\",'z')"
   ]
  },
  {
   "cell_type": "code",
   "execution_count": null,
   "metadata": {},
   "outputs": [],
   "source": [
    "#50\n",
    "plot_3D(\"wall7\",'y')\n",
    "plot_3D(\"wall7\",'z')"
   ]
  },
  {
   "cell_type": "code",
   "execution_count": null,
   "metadata": {},
   "outputs": [],
   "source": [
    "plot_3D(\"hello3\",'y')\n",
    "plot_3D(\"hello3\",'z')"
   ]
  },
  {
   "cell_type": "code",
   "execution_count": 4,
   "metadata": {},
   "outputs": [],
   "source": [
    "import numpy as np\n",
    "from plotly import offline\n",
    "from plotly import graph_objs as go\n",
    "import torch\n",
    "from PIL import Image\n",
    "import plotly.express as px\n",
    "import cv2\n",
    "import pandas as pd\n",
    "color = px.colors.sequential.Rainbow[::-1]\n",
    "marker_size = 3\n",
    "\n",
    "def points_to_image(exp_name):\n",
    "    dist = np.loadtxt(\"3D_Experements/\"+exp_name+\"_x.txt\")\n",
    "    upper_angle = np.loadtxt(\"3D_Experements/\"+exp_name+\"_y.txt\")\n",
    "    lower_angle = np.loadtxt(\"3D_Experements/\"+exp_name+\"_z.txt\")\n",
    "\n",
    "    print(np.amax(upper_angle*180/np.pi))\n",
    "    print(np.amin(upper_angle*180/np.pi))\n",
    "    print(np.amax(lower_angle*180/np.pi))\n",
    "    print(np.amin(lower_angle*180/np.pi))\n",
    "    \n",
    "\n",
    "    #x , y , z = np.array(dist)*np.cos(uAngel)*np.sin(lAngel) , np.array(dist)*np.cos(uAngel)*np.cos(lAngel) , np.array(dist)*np.sin(uAngel)\n",
    "\n",
    "    my_sample_x = np.array(dist)*np.cos(upper_angle)*np.sin(lower_angle)\n",
    "    my_sample_y =  np.array(dist)*np.cos(upper_angle)*np.cos(lower_angle)\n",
    "    my_sample_z =  np.array(dist)*np.sin(upper_angle)\n",
    "    \n",
    "    my_sample_x = my_sample_x[~np.isnan(my_sample_x)]\n",
    "    my_sample_y = my_sample_y[~np.isnan(my_sample_y)]\n",
    "    my_sample_z = my_sample_z[~np.isnan(my_sample_z)]\n",
    "    \n",
    "    x_min = np.min(my_sample_x)\n",
    "    x_max = np.max(my_sample_x)\n",
    "    y_min = np.min(my_sample_y)\n",
    "    y_max = np.max(my_sample_y)\n",
    "    z_min = np.min(my_sample_z)\n",
    "    z_max = np.max(my_sample_z)\n",
    "    width = 1+(x_max - x_min).astype(int)\n",
    "    hight = 1+(z_max - z_min).astype(int)\n",
    "    \n",
    "    \n",
    "    \n",
    "    normalization_factor = (1 / y_max)\n",
    "    \n",
    "    my_sample_y = 1-  my_sample_y * normalization_factor\n",
    "    print(\"img :: \",width,hight)\n",
    "    img = np.zeros((width,hight))\n",
    "    \n",
    "    for i in range(len(my_sample_x)):\n",
    "        x = (my_sample_x[i] - x_min).astype(int)\n",
    "        z = (my_sample_z[i] - z_min).astype(int)\n",
    "#         print(\"x,z :: \",x,z)\n",
    "        img[x,z] = my_sample_y[i]\n",
    "        \n",
    "#     img = Image.fromarray(img)\n",
    "    print(len(my_sample_x))\n",
    "    \n",
    "    kernel = np.ones((5,5), np.uint8)\n",
    " \n",
    "    # The first parameter is the original image,\n",
    "    # kernel is the matrix with which image is\n",
    "    # convolved and third parameter is the number\n",
    "    # of iterations, which will determine how much\n",
    "    # you want to erode/dilate a given image.\n",
    "    img_erosion = cv2.erode(img, kernel, iterations=1)\n",
    "    img_dilation = cv2.dilate(img, kernel, iterations=2)\n",
    "\n",
    "    cv2.imshow('Input', img)\n",
    "    cv2.imshow('Erosion', img_erosion)\n",
    "    cv2.imshow('Dilation', img_dilation)\n",
    "\n",
    "    cv2.waitKey(0)\n",
    "#     img.show()\n",
    "    \n",
    "def plot_3D (exp_name , depth_axis):\n",
    "    dist = np.loadtxt(\"3D_Experements/\"+exp_name+\"_x.txt\")\n",
    "    upper_angle = np.loadtxt(\"3D_Experements/\"+exp_name+\"_y.txt\")\n",
    "    lower_angle = np.loadtxt(\"3D_Experements/\"+exp_name+\"_z.txt\")\n",
    "\n",
    "    print(np.amax(upper_angle*180/np.pi))\n",
    "    print(np.amin(upper_angle*180/np.pi))\n",
    "    print(np.amax(lower_angle*180/np.pi))\n",
    "    print(np.amin(lower_angle*180/np.pi))\n",
    "    \n",
    "\n",
    "    #x , y , z = np.array(dist)*np.cos(uAngel)*np.sin(lAngel) , np.array(dist)*np.cos(uAngel)*np.cos(lAngel) , np.array(dist)*np.sin(uAngel)\n",
    "\n",
    "    my_sample_x = np.array(dist)*np.cos(upper_angle)*np.sin(lower_angle)\n",
    "    my_sample_y =  np.array(dist)*np.cos(upper_angle)*np.cos(lower_angle)\n",
    "    my_sample_z =  np.array(dist)*np.sin(upper_angle)\n",
    "    \n",
    "    my_sample_x = my_sample_x[~np.isnan(my_sample_x)]\n",
    "    my_sample_y = my_sample_y[~np.isnan(my_sample_y)]\n",
    "    my_sample_z = my_sample_z[~np.isnan(my_sample_z)]\n",
    "\n",
    "    df = pd.DataFrame(my_sample_x,columns=['X (mm)'])\n",
    "    df['Y (mm)'] = my_sample_y\n",
    "    df['Z (mm)'] = my_sample_z\n",
    "    df.head()\n",
    "    min_depth = 0\n",
    "    max_depth = 0\n",
    "    if depth_axis == 'x':\n",
    "        df['Depth'] = my_sample_x\n",
    "        max_depth = np.amax(my_sample_x)\n",
    "        min_depth = np.amin(my_sample_x)\n",
    "\n",
    "    elif depth_axis == 'y':\n",
    "        df['Depth'] = my_sample_y\n",
    "        max_depth = np.amax(my_sample_y)\n",
    "        min_depth = np.amin(my_sample_y)\n",
    "\n",
    "    elif depth_axis == 'z':\n",
    "        df['Depth'] = my_sample_z\n",
    "        max_depth = np.amax(my_sample_z)\n",
    "        min_depth = np.amin(my_sample_z)\n",
    "        \n",
    "\n",
    "    else:\n",
    "        print(\"invalid depth axis\")\n",
    "        return\n",
    "   \n",
    "\n",
    "    fig = px.scatter_3d(df, x='X (mm)', y='Y (mm)', z='Z (mm)', color='Depth', title=\"ٌRadar Point Cloud\" , range_color=[min_depth-200,max_depth+200],color_continuous_scale=color , opacity=1)\n",
    "    fig.update_traces(marker=dict(size=marker_size, line=dict(width=0))) \n",
    "    fig.show()\n",
    "    \n",
    "    \n",
    "def plot_3D_threshold (exp_name , depth_axis ,threshold):\n",
    "    dist = np.loadtxt(\"3D_Experements/\"+exp_name+\"_x.txt\")\n",
    "    upper_angle = np.loadtxt(\"3D_Experements/\"+exp_name+\"_y.txt\")\n",
    "    lower_angle = np.loadtxt(\"3D_Experements/\"+exp_name+\"_z.txt\")\n",
    "\n",
    "    print(np.amax(upper_angle*180/np.pi))\n",
    "    print(np.amin(upper_angle*180/np.pi))\n",
    "    print(np.amax(lower_angle*180/np.pi))\n",
    "    print(np.amin(lower_angle*180/np.pi))\n",
    "    \n",
    "\n",
    "    #x , y , z = np.array(dist)*np.cos(uAngel)*np.sin(lAngel) , np.array(dist)*np.cos(uAngel)*np.cos(lAngel) , np.array(dist)*np.sin(uAngel)\n",
    "\n",
    "    my_sample_x = np.array(dist)*np.cos(upper_angle)*np.sin(lower_angle)\n",
    "    my_sample_y =  np.array(dist)*np.cos(upper_angle)*np.cos(lower_angle)\n",
    "    my_sample_z =  np.array(dist)*np.sin(upper_angle)\n",
    "    my_sample_x = my_sample_x[~np.isnan(my_sample_x)]\n",
    "    my_sample_y = my_sample_y[~np.isnan(my_sample_y)]\n",
    "    my_sample_z = my_sample_z[~np.isnan(my_sample_z)]\n",
    "\n",
    "    df = pd.DataFrame()\n",
    "    \n",
    "    indx = []\n",
    "    min_depth = 0\n",
    "    max_depth = 0\n",
    "    if depth_axis == 'x':\n",
    "        min_depth = np.amin(my_sample_x)\n",
    "        max_depth = (min_depth + threshold)\n",
    "        indx = my_sample_x<= (min_depth + threshold)\n",
    "        df['Depth'] = my_sample_x[indx]\n",
    "\n",
    "    elif depth_axis == 'y':\n",
    "        min_depth = np.amin(my_sample_y)\n",
    "        max_depth = (min_depth + threshold)\n",
    "        indx = my_sample_y <= (min_depth + threshold)\n",
    "#         print(my_sample_y , (min_depth + threshold))\n",
    "#         print(type(my_sample_y),type(my_sample_y[indx]))\n",
    "        df['Depth'] = my_sample_y[indx]\n",
    "\n",
    "    elif depth_axis == 'z':\n",
    "        min_depth = np.amin(my_sample_z)\n",
    "        max_depth = (min_depth + threshold)\n",
    "        indx = my_sample_z<= (min_depth + threshold)\n",
    "        df['Depth'] = my_sample_z[indx]\n",
    "        \n",
    "\n",
    "    else:\n",
    "        print(\"invalid depth axis\")\n",
    "        return\n",
    "    df['X (mm)'] = my_sample_x[indx]\n",
    "    df['Y (mm)'] = my_sample_y[indx]\n",
    "    df['Z (mm)'] = my_sample_z[indx]\n",
    "    df.head()\n",
    "   \n",
    "\n",
    "    fig = px.scatter_3d(df, x='X (mm)', y='Y (mm)', z='Z (mm)', color='Depth', title=\"ٌRadar Point Cloud\" , range_color=[min_depth-100,max_depth+100],color_continuous_scale=color , opacity=1)\n",
    "    fig.update_traces(marker=dict(size=marker_size, line=dict(width=0))) \n",
    "    fig.show()\n",
    "\n",
    "\n",
    "def plot_2D (exp_name):\n",
    "    dist = np.loadtxt(\"3D_Experements/\"+exp_name+\"_x.txt\")\n",
    "    upper_angle = np.loadtxt(\"3D_Experements/\"+exp_name+\"_y.txt\")\n",
    "    lower_angle = np.loadtxt(\"3D_Experements/\"+exp_name+\"_z.txt\")\n",
    "\n",
    "    print(np.amax(upper_angle*180/np.pi))\n",
    "    print(np.amin(upper_angle*180/np.pi))\n",
    "    print(np.amax(lower_angle*180/np.pi))\n",
    "    print(np.amin(lower_angle*180/np.pi))\n",
    "    \n",
    "\n",
    "    #x , y , z = np.array(dist)*np.cos(uAngel)*np.sin(lAngel) , np.array(dist)*np.cos(uAngel)*np.cos(lAngel) , np.array(dist)*np.sin(uAngel)\n",
    "\n",
    "    my_sample_x = np.array(dist)*np.cos(upper_angle)*np.sin(lower_angle)\n",
    "    my_sample_y =  np.array(dist)*np.cos(upper_angle)*np.cos(lower_angle)\n",
    "    my_sample_z =  np.array(dist)*np.sin(upper_angle)\n",
    "\n",
    "    minx = np.min(my_sample_x)\n",
    "    miny = np.min(my_sample_y)\n",
    "    minz = np.min(my_sample_z)\n",
    "\n",
    "    maxx = np.max(my_sample_x)\n",
    "    maxy = np.max(my_sample_y)\n",
    "    maxz = np.max(my_sample_z)\n",
    "\n",
    "    # img =np.zeros(int(maxx-minx),int(maxz-minz))\n",
    "    # img =np.zeros((int(maxx-minx),int(maxz-minz)), dtype=np.float64)\n",
    "    # img =np.zeros(len(my_sample_x),len(my_sample_z)), dtype=np.float64)\n",
    "\n",
    "    # for i in range(len(my_sample_x) - 1):\n",
    "    #     img[int(my_sample_x[i] - minx -1)][int(my_sample_z[i] - minz -1)] = (my_sample_y[i] / maxy)*255\n",
    "    \n",
    "    trace = go.Surface(x = my_sample_x, y = my_sample_y, z =my_sample_z )\n",
    "    data = [trace]\n",
    "    layout = go.Layout(title = '3D Surface plot')\n",
    "    fig = go.Figure(data = data)\n",
    "    plot(fig)\n",
    "    offline.init_notebook_mode(connected=False)\n",
    "\n",
    "    df3 = {'x':[1, 2, 3, 4, 5],'y':[10, 20, 30, 40, 50],'z': [[5, 4, 3, 2, 1]]*5}\n",
    "    offline.iplot(dict(data=[go.Surface(x=df3['x'], y=df3['y'], z=df3['z'])]))\n"
   ]
  },
  {
   "cell_type": "code",
   "execution_count": null,
   "metadata": {},
   "outputs": [],
   "source": []
  },
  {
   "cell_type": "code",
   "execution_count": 16,
   "metadata": {},
   "outputs": [
    {
     "output_type": "stream",
     "name": "stdout",
     "text": [
      "13.5\n-13.5\n18.0\n-18.0\n"
     ]
    },
    {
     "output_type": "display_data",
     "data": {
      "application/vnd.plotly.v1+json": {
       "config": {
        "plotlyServerURL": "https://plot.ly"
       },
       "data": [
        {
         "hovertemplate": "X (mm)=%{x}<br>Y (mm)=%{y}<br>Z (mm)=%{z}<br>Depth=%{marker.color}<extra></extra>",
         "legendgroup": "",
         "marker": {
          "color": [
           437.829329695328,
           456.2710957247403,
           457.20458622448115,
           461.9229325335559,
           443.8937995409328,
           451.940176234839,
           455.12527724488075,
           461.645201616654,
           456.34246424448065,
           463.37599659230705,
           461.8135877091947,
           457.9969464884575,
           459.0540230748657,
           458.3529505587861,
           454.8846183698712,
           462.21033624346273,
           452.1027125447216,
           453.3080604336819,
           400.7648918606909,
           396.40533197758043,
           463.6064360217123,
           439.11860851871216,
           436.0455269004206,
           437.5606377389672,
           440.6443972772932,
           452.4468428387069,
           461.27479211415726,
           407.1346101390089,
           410.12092757279135,
           421.64966892784787,
           396.9971917272869,
           389.882590291375,
           396.7998402233488,
           401.95985862004005,
           402.7551927632417,
           407.14467057379994,
           411.13628499119017,
           406.7428679391154,
           405.9396592004365,
           400.76783862558227,
           403.13258944839833,
           401.13149867398266,
           445.6444853677531,
           442.5257337373077,
           447.0694526882997,
           456.86518065449104,
           409.6675482932604,
           401.36208027283647,
           402.5558677442642,
           407.34596910781687,
           403.75083450361336,
           415.7434335482752,
           411.3395570402465,
           398.57016608342997,
           397.3881982899371,
           395.8140563219907,
           389.91080073098806,
           395.41080780359505,
           415.96896902302666,
           381.1690087958892,
           391.6891242487063,
           394.04373046190955,
           380.1690845631581,
           381.681006894789,
           418.70528016791377,
           415.5381879841795,
           419.94818564229746,
           409.2828348958264,
           403.55150948463586,
           402.7546028281837,
           397.58438218207186,
           399.96955771748924,
           394.04373046190955,
           451.7481233001746,
           432.7046145769661,
           431.5192108556632,
           458.0501436932734,
           397.7877866043413,
           399.77219688521063,
           397.3881982899371,
           398.57016608342997,
           399.35879324295774,
           407.74836751850063,
           411.7459005333879,
           411.3395570402465,
           376.6488069488413,
           377.51878837544024,
           383.93963463233104,
           397.7877866043413,
           387.5808908173852,
           384.8684853577536,
           380.4168588268084,
           387.00705308252236,
           389.33351341886555,
           383.3711880048494,
           388.8638434188818,
           374.10125455726507,
           382.81681688387334,
           399.1614417390196,
           399.1614417390196,
           398.7675175873681,
           397.98005803964367,
           400.76783862558227,
           399.18030915968853,
           408.9968221773941,
           457.3719718247992,
           445.8437411979692,
           431.5244454820037,
           406.07951784408715,
           399.7780875068921,
           396.9971917272869,
           397.78270653570553,
           402.15741441603814,
           410.12092757279135,
           417.6718418624908,
           420.8170232309241,
           411.65268416551265,
           374.5393611183328,
           380.5261019250396,
           386.0512861101949,
           383.34958527573235,
           383.1178463930188,
           392.88681018789174,
           402.3382967873848,
           387.71008637441224,
           412.26154525668363,
           408.7008303133779,
           404.7328610870344,
           404.333438617132,
           395.6225371167472,
           394.44931057586746,
           396.81567828977063,
           430.03023574726603,
           435.2326031335908,
           450.1944967998443,
           430.2584980387489,
           437.15946270895523,
           447.57125800111737,
           461.53803675807785,
           405.67317435094577,
           398.583120747543,
           402.9271287097516,
           406.8773946774943,
           402.5294882796969,
           397.79602533442255,
           392.6894586839536,
           391.1339294559981,
           400.8681702096964,
           395.89367271872936,
           391.70367478259556,
           389.8621908520278,
           396.400200751886,
           462.9041056419046,
           394.8054153155517,
           429.9595028759237,
           453.37624131245326,
           434.4976326726221,
           446.08250253379555,
           460.57588452058843,
           408.6944286050735,
           421.8334499415809,
           457.114851969892,
           457.114851969892,
           460.5337664499828,
           462.112245251142,
           399.332159664915,
           455.02324175739875,
           454.9911445294561,
           458.1977475937692,
           463.2516778711858,
           460.25456641746183,
           460.0523478992547,
           454.4725626539825,
           455.91592327849975
          ],
          "coloraxis": "coloraxis",
          "line": {
           "width": 0
          },
          "opacity": 1,
          "size": 3,
          "symbol": "circle"
         },
         "mode": "markers",
         "name": "",
         "scene": "scene",
         "showlegend": false,
         "type": "scatter3d",
         "x": [
          -142.25937280646298,
          -148.25146582273794,
          -148.55477527235004,
          -150.08785892181626,
          -144.2298385065105,
          -131.30075883237612,
          -132.22611621719722,
          -134.1203293510583,
          -132.57974173024593,
          -118.97473436680893,
          -118.5735759485748,
          -117.59362903990889,
          -117.865040176865,
          -117.68503534928254,
          -101.6787588682292,
          -88.17133720931467,
          -86.24320486859362,
          -71.79694344638978,
          -50.62837969178285,
          -50.07763920145091,
          -58.56711290623833,
          -55.473580878288814,
          -55.085360387535886,
          -41.361658094888085,
          -41.65315919592446,
          -42.76881877745644,
          -43.60330567622548,
          -38.48555169446305,
          -38.76784180469138,
          -39.85762872121177,
          -37.527283518246044,
          -36.85475567480428,
          -24.964529913953374,
          -25.28917075440392,
          -25.33920893737892,
          -25.615371473247468,
          -25.866502566122445,
          -25.590092194184653,
          -25.53955858365544,
          -25.214175213092908,
          -25.362952724248178,
          -25.23705476403147,
          -28.03757451033617,
          -27.841359289259923,
          -14.049723560037894,
          -14.357566713191718,
          -12.874321361991404,
          -12.613311514367018,
          -12.650827797043325,
          -12.80136279686895,
          -12.688381140335593,
          -13.065263748464373,
          -12.926866353701,
          -12.525572076280522,
          -12.488427241947543,
          -12.438957837672854,
          -12.253440556948103,
          -12.426285242452163,
          -13.072351486296126,
          0,
          0,
          0,
          0,
          0,
          0,
          0,
          0,
          0,
          0,
          0,
          0,
          0,
          0,
          0,
          0,
          13.56103752316701,
          14.394805676900031,
          12.500984810623823,
          12.563347416049583,
          12.488427241947543,
          12.525572076280522,
          12.550355683204854,
          12.814008676378519,
          12.939636212421446,
          12.926866353701,
          11.836665612085092,
          11.864005879850165,
          12.06578910254267,
          12.500984810623823,
          12.18022018814618,
          12.09497941255436,
          23.933800090767303,
          24.348419969502462,
          24.494788447442307,
          24.119670727961502,
          24.465239315674307,
          23.536455949643255,
          24.08479265335026,
          25.11310928749752,
          25.11310928749752,
          25.08832568057319,
          25.038782925152397,
          25.214175213092908,
          25.11429632499084,
          25.731898975090907,
          28.775405418502913,
          42.14464190030115,
          40.79106993225615,
          38.38581610813012,
          37.79015556502774,
          37.527283518246044,
          37.60153652944506,
          38.01506817741582,
          38.76784180469138,
          39.48161335591732,
          39.7789205293408,
          38.91263543329589,
          35.40439349778992,
          35.97030712208041,
          36.492590799969214,
          36.23720487959221,
          48.39903940644162,
          49.63314653071044,
          50.827146958216126,
          48.979174228966414,
          52.08074476950894,
          51.630921863897356,
          51.1296507778401,
          51.07919198547992,
          49.97874921323103,
          49.830536233545224,
          50.12947799601755,
          54.32545239498549,
          54.98266423334821,
          56.87279096058277,
          68.14625140674283,
          69.23925683373287,
          70.8883232038556,
          73.10044364041342,
          64.25231867425258,
          63.129364502406666,
          63.81738777226641,
          64.4430484367004,
          63.75440771530178,
          63.00470083591757,
          62.19590013500311,
          61.94952850882492,
          63.49128078258372,
          62.70339778158109,
          74.72147221128363,
          74.37019036430628,
          75.61738245491021,
          88.3036808000545,
          75.31316086257986,
          82.01916171440563,
          86.48614347385728,
          97.1217276584486,
          99.7112528733379,
          102.95090757413061,
          91.35402820575206,
          108.308421288362,
          117.3671456618217,
          117.3671456618217,
          118.24497370013832,
          118.65025817204156,
          102.53107189334754,
          132.19647216774396,
          147.83558446917326,
          148.87747296276936,
          150.51959445328987,
          149.54577391016971,
          149.48006913066118,
          147.66708700372246,
          148.13606329939515
         ],
         "y": [
          437.829329695328,
          456.2710957247403,
          457.20458622448115,
          461.9229325335559,
          443.8937995409328,
          451.940176234839,
          455.12527724488075,
          461.645201616654,
          456.34246424448065,
          463.37599659230705,
          461.8135877091947,
          457.9969464884575,
          459.0540230748657,
          458.3529505587861,
          454.8846183698712,
          462.21033624346273,
          452.1027125447216,
          453.3080604336819,
          400.7648918606909,
          396.40533197758043,
          463.6064360217123,
          439.11860851871216,
          436.0455269004206,
          437.5606377389672,
          440.6443972772932,
          452.4468428387069,
          461.27479211415726,
          407.1346101390089,
          410.12092757279135,
          421.64966892784787,
          396.9971917272869,
          389.882590291375,
          396.7998402233488,
          401.95985862004005,
          402.7551927632417,
          407.14467057379994,
          411.13628499119017,
          406.7428679391154,
          405.9396592004365,
          400.76783862558227,
          403.13258944839833,
          401.13149867398266,
          445.6444853677531,
          442.5257337373077,
          447.0694526882997,
          456.86518065449104,
          409.6675482932604,
          401.36208027283647,
          402.5558677442642,
          407.34596910781687,
          403.75083450361336,
          415.7434335482752,
          411.3395570402465,
          398.57016608342997,
          397.3881982899371,
          395.8140563219907,
          389.91080073098806,
          395.41080780359505,
          415.96896902302666,
          381.1690087958892,
          391.6891242487063,
          394.04373046190955,
          380.1690845631581,
          381.681006894789,
          418.70528016791377,
          415.5381879841795,
          419.94818564229746,
          409.2828348958264,
          403.55150948463586,
          402.7546028281837,
          397.58438218207186,
          399.96955771748924,
          394.04373046190955,
          451.7481233001746,
          432.7046145769661,
          431.5192108556632,
          458.0501436932734,
          397.7877866043413,
          399.77219688521063,
          397.3881982899371,
          398.57016608342997,
          399.35879324295774,
          407.74836751850063,
          411.7459005333879,
          411.3395570402465,
          376.6488069488413,
          377.51878837544024,
          383.93963463233104,
          397.7877866043413,
          387.5808908173852,
          384.8684853577536,
          380.4168588268084,
          387.00705308252236,
          389.33351341886555,
          383.3711880048494,
          388.8638434188818,
          374.10125455726507,
          382.81681688387334,
          399.1614417390196,
          399.1614417390196,
          398.7675175873681,
          397.98005803964367,
          400.76783862558227,
          399.18030915968853,
          408.9968221773941,
          457.3719718247992,
          445.8437411979692,
          431.5244454820037,
          406.07951784408715,
          399.7780875068921,
          396.9971917272869,
          397.78270653570553,
          402.15741441603814,
          410.12092757279135,
          417.6718418624908,
          420.8170232309241,
          411.65268416551265,
          374.5393611183328,
          380.5261019250396,
          386.0512861101949,
          383.34958527573235,
          383.1178463930188,
          392.88681018789174,
          402.3382967873848,
          387.71008637441224,
          412.26154525668363,
          408.7008303133779,
          404.7328610870344,
          404.333438617132,
          395.6225371167472,
          394.44931057586746,
          396.81567828977063,
          430.03023574726603,
          435.2326031335908,
          450.1944967998443,
          430.2584980387489,
          437.15946270895523,
          447.57125800111737,
          461.53803675807785,
          405.67317435094577,
          398.583120747543,
          402.9271287097516,
          406.8773946774943,
          402.5294882796969,
          397.79602533442255,
          392.6894586839536,
          391.1339294559981,
          400.8681702096964,
          395.89367271872936,
          391.70367478259556,
          389.8621908520278,
          396.400200751886,
          462.9041056419046,
          394.8054153155517,
          429.9595028759237,
          453.37624131245326,
          434.4976326726221,
          446.08250253379555,
          460.57588452058843,
          408.6944286050735,
          421.8334499415809,
          457.114851969892,
          457.114851969892,
          460.5337664499828,
          462.112245251142,
          399.332159664915,
          455.02324175739875,
          454.9911445294561,
          458.1977475937692,
          463.2516778711858,
          460.25456641746183,
          460.0523478992547,
          454.4725626539825,
          455.91592327849975
         ],
         "z": [
          -65.51907285097593,
          52.965094153277846,
          83.90140093635186,
          100.5824984968302,
          112.05377465083458,
          112.98755610625821,
          98.14905095255205,
          83.90140093635186,
          67.63259133003967,
          -114.85511901710545,
          -83.21368453523422,
          82.52596813411658,
          98.14905095255205,
          113.61007707654063,
          96.52675258969995,
          37.03269318354281,
          110.49747222512855,
          110.18621173998734,
          6.345756193975553,
          18.842580283857064,
          66.505381474539,
          91.65985750114365,
          105.51730446286923,
          105.51730446286923,
          91.65985750114365,
          79.31662492890094,
          65.94177654678867,
          6.424292780534656,
          -6.471414732470119,
          -19.973135100888488,
          -31.383638291137977,
          -43.23531856987183,
          -43.893724436418104,
          -31.697474674049356,
          -19.031006086695633,
          -6.408585463222836,
          6.471414732470119,
          19.219431889534203,
          32.011311056960736,
          44.33266168078228,
          57.48770263053372,
          70.1470729139991,
          92.4710066825697,
          106.45108591829286,
          107.38486737371647,
          79.77510252964603,
          58.33311002215921,
          44.33266168078228,
          31.697474674049356,
          19.219431889534203,
          6.345756193975553,
          -6.534244001717401,
          -19.407857692372776,
          -31.383638291137977,
          -43.893724436418104,
          -56.36049277503305,
          -68.08392371064619,
          -81.92606732403105,
          -99.91461573032751,
          -91.51058263151491,
          -81.11491814260499,
          -68.77164011176382,
          -54.10607306403173,
          -42.13797545896138,
          -32.95282020569488,
          -19.596283495211345,
          -6.5970732709646835,
          6.429528552971929,
          19.031006086695633,
          31.697474674049356,
          43.893724436418104,
          56.924097702783385,
          68.77164011176382,
          93.5525389244711,
          103.8831869158779,
          103.649741552022,
          94.90445422684785,
          69.45935651288146,
          56.924097702783385,
          43.893724436418104,
          31.383638291137977,
          18.842580283857064,
          6.408585463222836,
          -6.471414732470119,
          -19.407857692372776,
          -29.65753818512539,
          -41.699038214597195,
          -54.669677991782066,
          -69.45935651288146,
          -80.30376896117895,
          -92.44436408693853,
          -91.51058263151491,
          -80.30376896117895,
          -68.08392371064619,
          -54.669677991782066,
          -43.01584994768974,
          -29.500619993669698,
          -18.088877072502783,
          -6.28292692472827,
          6.28292692472827,
          18.842580283857064,
          31.383638291137977,
          44.33266168078228,
          56.924097702783385,
          71.52250571623438,
          94.90445422684785,
          92.74138974304505,
          75.6488041229402,
          58.051307558284044,
          44.33266168078228,
          31.383638291137977,
          18.842580283857064,
          6.345756193975553,
          -6.471414732470119,
          -19.784709298049915,
          -33.26665658860625,
          -45.64947341387483,
          -53.5424681362814,
          -66.70849090841091,
          -80.30376896117895,
          -92.44436408693853,
          -67.39620730952855,
          -56.36049277503305,
          -44.77159892514646,
          -30.75596552531522,
          -19.596283495211345,
          -6.471414732470119,
          6.408585463222836,
          19.219431889534203,
          31.383638291137977,
          43.893724436418104,
          56.924097702783385,
          75.6488041229402,
          90.8487083197176,
          108.94116979942252,
          104.58352300744562,
          91.65985750114365,
          79.0873861285284,
          66.505381474539,
          32.32514743987212,
          19.031006086695633,
          6.408585463222836,
          -6.471414732470119,
          -19.219431889534203,
          -31.697474674049356,
          -43.893724436418104,
          -56.36049277503305,
          -70.83478931511674,
          -83.00759956593244,
          -31.383638291137977,
          -18.716963081964682,
          44.55213030296437,
          67.06898640228934,
          70.1470729139991,
          90.64592102436109,
          110.80873271026977,
          92.20062362209435,
          79.77510252964603,
          7.413853771179359,
          -59.601221109597454,
          -20.5384125094042,
          -7.413853771179359,
          7.413853771179359,
          22.422670537789905,
          52.67246932370172,
          98.98083427490388,
          82.697897234396,
          -114.85511901710545,
          -99.77134931540415,
          -69.32340611329066,
          7.602341578921207,
          53.40403139764203,
          98.96020013397809,
          115.08856438096136
         ]
        }
       ],
       "layout": {
        "coloraxis": {
         "cmax": 564.1012545572651,
         "cmin": 274.10125455726507,
         "colorbar": {
          "title": {
           "text": "Depth"
          }
         },
         "colorscale": [
          [
           0,
           "rgb(255,0,0)"
          ],
          [
           0.125,
           "rgb(255,111,0)"
          ],
          [
           0.25,
           "rgb(255,234,0)"
          ],
          [
           0.375,
           "rgb(151,255,0)"
          ],
          [
           0.5,
           "rgb(44,255,150)"
          ],
          [
           0.625,
           "rgb(0,152,255)"
          ],
          [
           0.75,
           "rgb(0,25,255)"
          ],
          [
           0.875,
           "rgb(0,0,200)"
          ],
          [
           1,
           "rgb(150,0,90)"
          ]
         ]
        },
        "legend": {
         "tracegroupgap": 0
        },
        "scene": {
         "domain": {
          "x": [
           0,
           1
          ],
          "y": [
           0,
           1
          ]
         },
         "xaxis": {
          "title": {
           "text": "X (mm)"
          }
         },
         "yaxis": {
          "title": {
           "text": "Y (mm)"
          }
         },
         "zaxis": {
          "title": {
           "text": "Z (mm)"
          }
         }
        },
        "template": {
         "data": {
          "bar": [
           {
            "error_x": {
             "color": "#2a3f5f"
            },
            "error_y": {
             "color": "#2a3f5f"
            },
            "marker": {
             "line": {
              "color": "#E5ECF6",
              "width": 0.5
             }
            },
            "type": "bar"
           }
          ],
          "barpolar": [
           {
            "marker": {
             "line": {
              "color": "#E5ECF6",
              "width": 0.5
             }
            },
            "type": "barpolar"
           }
          ],
          "carpet": [
           {
            "aaxis": {
             "endlinecolor": "#2a3f5f",
             "gridcolor": "white",
             "linecolor": "white",
             "minorgridcolor": "white",
             "startlinecolor": "#2a3f5f"
            },
            "baxis": {
             "endlinecolor": "#2a3f5f",
             "gridcolor": "white",
             "linecolor": "white",
             "minorgridcolor": "white",
             "startlinecolor": "#2a3f5f"
            },
            "type": "carpet"
           }
          ],
          "choropleth": [
           {
            "colorbar": {
             "outlinewidth": 0,
             "ticks": ""
            },
            "type": "choropleth"
           }
          ],
          "contour": [
           {
            "colorbar": {
             "outlinewidth": 0,
             "ticks": ""
            },
            "colorscale": [
             [
              0,
              "#0d0887"
             ],
             [
              0.1111111111111111,
              "#46039f"
             ],
             [
              0.2222222222222222,
              "#7201a8"
             ],
             [
              0.3333333333333333,
              "#9c179e"
             ],
             [
              0.4444444444444444,
              "#bd3786"
             ],
             [
              0.5555555555555556,
              "#d8576b"
             ],
             [
              0.6666666666666666,
              "#ed7953"
             ],
             [
              0.7777777777777778,
              "#fb9f3a"
             ],
             [
              0.8888888888888888,
              "#fdca26"
             ],
             [
              1,
              "#f0f921"
             ]
            ],
            "type": "contour"
           }
          ],
          "contourcarpet": [
           {
            "colorbar": {
             "outlinewidth": 0,
             "ticks": ""
            },
            "type": "contourcarpet"
           }
          ],
          "heatmap": [
           {
            "colorbar": {
             "outlinewidth": 0,
             "ticks": ""
            },
            "colorscale": [
             [
              0,
              "#0d0887"
             ],
             [
              0.1111111111111111,
              "#46039f"
             ],
             [
              0.2222222222222222,
              "#7201a8"
             ],
             [
              0.3333333333333333,
              "#9c179e"
             ],
             [
              0.4444444444444444,
              "#bd3786"
             ],
             [
              0.5555555555555556,
              "#d8576b"
             ],
             [
              0.6666666666666666,
              "#ed7953"
             ],
             [
              0.7777777777777778,
              "#fb9f3a"
             ],
             [
              0.8888888888888888,
              "#fdca26"
             ],
             [
              1,
              "#f0f921"
             ]
            ],
            "type": "heatmap"
           }
          ],
          "heatmapgl": [
           {
            "colorbar": {
             "outlinewidth": 0,
             "ticks": ""
            },
            "colorscale": [
             [
              0,
              "#0d0887"
             ],
             [
              0.1111111111111111,
              "#46039f"
             ],
             [
              0.2222222222222222,
              "#7201a8"
             ],
             [
              0.3333333333333333,
              "#9c179e"
             ],
             [
              0.4444444444444444,
              "#bd3786"
             ],
             [
              0.5555555555555556,
              "#d8576b"
             ],
             [
              0.6666666666666666,
              "#ed7953"
             ],
             [
              0.7777777777777778,
              "#fb9f3a"
             ],
             [
              0.8888888888888888,
              "#fdca26"
             ],
             [
              1,
              "#f0f921"
             ]
            ],
            "type": "heatmapgl"
           }
          ],
          "histogram": [
           {
            "marker": {
             "colorbar": {
              "outlinewidth": 0,
              "ticks": ""
             }
            },
            "type": "histogram"
           }
          ],
          "histogram2d": [
           {
            "colorbar": {
             "outlinewidth": 0,
             "ticks": ""
            },
            "colorscale": [
             [
              0,
              "#0d0887"
             ],
             [
              0.1111111111111111,
              "#46039f"
             ],
             [
              0.2222222222222222,
              "#7201a8"
             ],
             [
              0.3333333333333333,
              "#9c179e"
             ],
             [
              0.4444444444444444,
              "#bd3786"
             ],
             [
              0.5555555555555556,
              "#d8576b"
             ],
             [
              0.6666666666666666,
              "#ed7953"
             ],
             [
              0.7777777777777778,
              "#fb9f3a"
             ],
             [
              0.8888888888888888,
              "#fdca26"
             ],
             [
              1,
              "#f0f921"
             ]
            ],
            "type": "histogram2d"
           }
          ],
          "histogram2dcontour": [
           {
            "colorbar": {
             "outlinewidth": 0,
             "ticks": ""
            },
            "colorscale": [
             [
              0,
              "#0d0887"
             ],
             [
              0.1111111111111111,
              "#46039f"
             ],
             [
              0.2222222222222222,
              "#7201a8"
             ],
             [
              0.3333333333333333,
              "#9c179e"
             ],
             [
              0.4444444444444444,
              "#bd3786"
             ],
             [
              0.5555555555555556,
              "#d8576b"
             ],
             [
              0.6666666666666666,
              "#ed7953"
             ],
             [
              0.7777777777777778,
              "#fb9f3a"
             ],
             [
              0.8888888888888888,
              "#fdca26"
             ],
             [
              1,
              "#f0f921"
             ]
            ],
            "type": "histogram2dcontour"
           }
          ],
          "mesh3d": [
           {
            "colorbar": {
             "outlinewidth": 0,
             "ticks": ""
            },
            "type": "mesh3d"
           }
          ],
          "parcoords": [
           {
            "line": {
             "colorbar": {
              "outlinewidth": 0,
              "ticks": ""
             }
            },
            "type": "parcoords"
           }
          ],
          "pie": [
           {
            "automargin": true,
            "type": "pie"
           }
          ],
          "scatter": [
           {
            "marker": {
             "colorbar": {
              "outlinewidth": 0,
              "ticks": ""
             }
            },
            "type": "scatter"
           }
          ],
          "scatter3d": [
           {
            "line": {
             "colorbar": {
              "outlinewidth": 0,
              "ticks": ""
             }
            },
            "marker": {
             "colorbar": {
              "outlinewidth": 0,
              "ticks": ""
             }
            },
            "type": "scatter3d"
           }
          ],
          "scattercarpet": [
           {
            "marker": {
             "colorbar": {
              "outlinewidth": 0,
              "ticks": ""
             }
            },
            "type": "scattercarpet"
           }
          ],
          "scattergeo": [
           {
            "marker": {
             "colorbar": {
              "outlinewidth": 0,
              "ticks": ""
             }
            },
            "type": "scattergeo"
           }
          ],
          "scattergl": [
           {
            "marker": {
             "colorbar": {
              "outlinewidth": 0,
              "ticks": ""
             }
            },
            "type": "scattergl"
           }
          ],
          "scattermapbox": [
           {
            "marker": {
             "colorbar": {
              "outlinewidth": 0,
              "ticks": ""
             }
            },
            "type": "scattermapbox"
           }
          ],
          "scatterpolar": [
           {
            "marker": {
             "colorbar": {
              "outlinewidth": 0,
              "ticks": ""
             }
            },
            "type": "scatterpolar"
           }
          ],
          "scatterpolargl": [
           {
            "marker": {
             "colorbar": {
              "outlinewidth": 0,
              "ticks": ""
             }
            },
            "type": "scatterpolargl"
           }
          ],
          "scatterternary": [
           {
            "marker": {
             "colorbar": {
              "outlinewidth": 0,
              "ticks": ""
             }
            },
            "type": "scatterternary"
           }
          ],
          "surface": [
           {
            "colorbar": {
             "outlinewidth": 0,
             "ticks": ""
            },
            "colorscale": [
             [
              0,
              "#0d0887"
             ],
             [
              0.1111111111111111,
              "#46039f"
             ],
             [
              0.2222222222222222,
              "#7201a8"
             ],
             [
              0.3333333333333333,
              "#9c179e"
             ],
             [
              0.4444444444444444,
              "#bd3786"
             ],
             [
              0.5555555555555556,
              "#d8576b"
             ],
             [
              0.6666666666666666,
              "#ed7953"
             ],
             [
              0.7777777777777778,
              "#fb9f3a"
             ],
             [
              0.8888888888888888,
              "#fdca26"
             ],
             [
              1,
              "#f0f921"
             ]
            ],
            "type": "surface"
           }
          ],
          "table": [
           {
            "cells": {
             "fill": {
              "color": "#EBF0F8"
             },
             "line": {
              "color": "white"
             }
            },
            "header": {
             "fill": {
              "color": "#C8D4E3"
             },
             "line": {
              "color": "white"
             }
            },
            "type": "table"
           }
          ]
         },
         "layout": {
          "annotationdefaults": {
           "arrowcolor": "#2a3f5f",
           "arrowhead": 0,
           "arrowwidth": 1
          },
          "autotypenumbers": "strict",
          "coloraxis": {
           "colorbar": {
            "outlinewidth": 0,
            "ticks": ""
           }
          },
          "colorscale": {
           "diverging": [
            [
             0,
             "#8e0152"
            ],
            [
             0.1,
             "#c51b7d"
            ],
            [
             0.2,
             "#de77ae"
            ],
            [
             0.3,
             "#f1b6da"
            ],
            [
             0.4,
             "#fde0ef"
            ],
            [
             0.5,
             "#f7f7f7"
            ],
            [
             0.6,
             "#e6f5d0"
            ],
            [
             0.7,
             "#b8e186"
            ],
            [
             0.8,
             "#7fbc41"
            ],
            [
             0.9,
             "#4d9221"
            ],
            [
             1,
             "#276419"
            ]
           ],
           "sequential": [
            [
             0,
             "#0d0887"
            ],
            [
             0.1111111111111111,
             "#46039f"
            ],
            [
             0.2222222222222222,
             "#7201a8"
            ],
            [
             0.3333333333333333,
             "#9c179e"
            ],
            [
             0.4444444444444444,
             "#bd3786"
            ],
            [
             0.5555555555555556,
             "#d8576b"
            ],
            [
             0.6666666666666666,
             "#ed7953"
            ],
            [
             0.7777777777777778,
             "#fb9f3a"
            ],
            [
             0.8888888888888888,
             "#fdca26"
            ],
            [
             1,
             "#f0f921"
            ]
           ],
           "sequentialminus": [
            [
             0,
             "#0d0887"
            ],
            [
             0.1111111111111111,
             "#46039f"
            ],
            [
             0.2222222222222222,
             "#7201a8"
            ],
            [
             0.3333333333333333,
             "#9c179e"
            ],
            [
             0.4444444444444444,
             "#bd3786"
            ],
            [
             0.5555555555555556,
             "#d8576b"
            ],
            [
             0.6666666666666666,
             "#ed7953"
            ],
            [
             0.7777777777777778,
             "#fb9f3a"
            ],
            [
             0.8888888888888888,
             "#fdca26"
            ],
            [
             1,
             "#f0f921"
            ]
           ]
          },
          "colorway": [
           "#636efa",
           "#EF553B",
           "#00cc96",
           "#ab63fa",
           "#FFA15A",
           "#19d3f3",
           "#FF6692",
           "#B6E880",
           "#FF97FF",
           "#FECB52"
          ],
          "font": {
           "color": "#2a3f5f"
          },
          "geo": {
           "bgcolor": "white",
           "lakecolor": "white",
           "landcolor": "#E5ECF6",
           "showlakes": true,
           "showland": true,
           "subunitcolor": "white"
          },
          "hoverlabel": {
           "align": "left"
          },
          "hovermode": "closest",
          "mapbox": {
           "style": "light"
          },
          "paper_bgcolor": "white",
          "plot_bgcolor": "#E5ECF6",
          "polar": {
           "angularaxis": {
            "gridcolor": "white",
            "linecolor": "white",
            "ticks": ""
           },
           "bgcolor": "#E5ECF6",
           "radialaxis": {
            "gridcolor": "white",
            "linecolor": "white",
            "ticks": ""
           }
          },
          "scene": {
           "xaxis": {
            "backgroundcolor": "#E5ECF6",
            "gridcolor": "white",
            "gridwidth": 2,
            "linecolor": "white",
            "showbackground": true,
            "ticks": "",
            "zerolinecolor": "white"
           },
           "yaxis": {
            "backgroundcolor": "#E5ECF6",
            "gridcolor": "white",
            "gridwidth": 2,
            "linecolor": "white",
            "showbackground": true,
            "ticks": "",
            "zerolinecolor": "white"
           },
           "zaxis": {
            "backgroundcolor": "#E5ECF6",
            "gridcolor": "white",
            "gridwidth": 2,
            "linecolor": "white",
            "showbackground": true,
            "ticks": "",
            "zerolinecolor": "white"
           }
          },
          "shapedefaults": {
           "line": {
            "color": "#2a3f5f"
           }
          },
          "ternary": {
           "aaxis": {
            "gridcolor": "white",
            "linecolor": "white",
            "ticks": ""
           },
           "baxis": {
            "gridcolor": "white",
            "linecolor": "white",
            "ticks": ""
           },
           "bgcolor": "#E5ECF6",
           "caxis": {
            "gridcolor": "white",
            "linecolor": "white",
            "ticks": ""
           }
          },
          "title": {
           "x": 0.05
          },
          "xaxis": {
           "automargin": true,
           "gridcolor": "white",
           "linecolor": "white",
           "ticks": "",
           "title": {
            "standoff": 15
           },
           "zerolinecolor": "white",
           "zerolinewidth": 2
          },
          "yaxis": {
           "automargin": true,
           "gridcolor": "white",
           "linecolor": "white",
           "ticks": "",
           "title": {
            "standoff": 15
           },
           "zerolinecolor": "white",
           "zerolinewidth": 2
          }
         }
        },
        "title": {
         "text": "ٌRadar Point Cloud"
        }
       }
      }
     },
     "metadata": {}
    }
   ],
   "source": [
    "# plot_3D(\"waleed2_12_7\",'y')\\\n",
    "plot_3D_threshold(\"nassar_14_7_200\",'y',90)\n",
    "# points_to_image(\"gedo_13_7\")"
   ]
  },
  {
   "cell_type": "code",
   "execution_count": null,
   "metadata": {},
   "outputs": [],
   "source": []
  },
  {
   "cell_type": "code",
   "execution_count": null,
   "metadata": {},
   "outputs": [],
   "source": [
    "import numpy as np\n",
    "y = 1184*np.cos((np.pi*.45*75)/180)*np.cos((np.pi*.45*50)/180)\n",
    "print(y)"
   ]
  },
  {
   "cell_type": "code",
   "execution_count": null,
   "metadata": {},
   "outputs": [],
   "source": []
  }
 ],
 "metadata": {
  "kernelspec": {
   "name": "python3",
   "display_name": "Python 3.7.9 64-bit ('tensorflow': conda)"
  },
  "language_info": {
   "codemirror_mode": {
    "name": "ipython",
    "version": 3
   },
   "file_extension": ".py",
   "mimetype": "text/x-python",
   "name": "python",
   "nbconvert_exporter": "python",
   "pygments_lexer": "ipython3",
   "version": "3.7.9"
  },
  "interpreter": {
   "hash": "78f5414a2b82b24a0f75db7369e80ac59b30f4e57f7ac86c9d8f1053b13985a0"
  }
 },
 "nbformat": 4,
 "nbformat_minor": 4
}