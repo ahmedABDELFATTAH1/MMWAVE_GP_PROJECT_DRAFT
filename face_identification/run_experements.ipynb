{
 "cells": [
  {
   "cell_type": "code",
   "execution_count": 2,
   "metadata": {},
   "outputs": [],
   "source": [
    "import numpy as np\n",
    "import pandas as pd\n",
    "import plotly.express as px\n",
    "\n",
    "color = px.colors.sequential.Rainbow[::-1]\n",
    "marker_size = 2\n",
    "\n",
    "def plot_3D (exp_name , depth_axis):\n",
    "    my_sample_x = np.loadtxt(\"3D_Experements/\"+exp_name+\"_x.txt\")\n",
    "    my_sample_y = np.loadtxt(\"3D_Experements/\"+exp_name+\"_y.txt\")\n",
    "    my_sample_z = np.loadtxt(\"3D_Experements/\"+exp_name+\"_z.txt\")\n",
    "    df = pd.DataFrame(my_sample_x,columns=['X (mm)'])\n",
    "    df['Y (mm)'] = my_sample_y\n",
    "    df['Z (mm)'] = my_sample_z\n",
    "    df.head()\n",
    "    min_depth = 0\n",
    "    max_depth = 0\n",
    "    if depth_axis == 'x':\n",
    "        df['Depth'] = my_sample_x\n",
    "        max_depth = np.amax(my_sample_x)\n",
    "        min_depth = np.amin(my_sample_x)\n",
    "\n",
    "    elif depth_axis == 'y':\n",
    "        df['Depth'] = my_sample_y\n",
    "        max_depth = np.amax(my_sample_y)\n",
    "        min_depth = np.amin(my_sample_y)\n",
    "\n",
    "    elif depth_axis == 'z':\n",
    "        df['Depth'] = my_sample_z\n",
    "        max_depth = np.amax(my_sample_z)\n",
    "        min_depth = np.amin(my_sample_z)\n",
    "        \n",
    "\n",
    "    else:\n",
    "        print(\"invalid depth axis\")\n",
    "        return\n",
    "\n",
    "    fig = px.scatter_3d(df, x='X (mm)', y='Y (mm)', z='Z (mm)', color='Depth', title=\"ٌRadar Point Cloud\" , range_color=[min_depth,max_depth],color_continuous_scale=color , opacity=1)\n",
    "    fig.update_traces(marker=dict(size=marker_size, line=dict(width=0))) \n",
    "    fig.show()\n",
    "\n"
   ]
  },
  {
   "cell_type": "code",
   "execution_count": 3,
   "metadata": {},
   "outputs": [],
   "source": [
    "import numpy as np\n",
    "import pandas as pd\n",
    "import plotly.express as px\n",
    "\n",
    "color = px.colors.sequential.Rainbow[::-1]\n",
    "marker_size = 2\n",
    "\n",
    "def plot_3D (exp_name , depth_axis):\n",
    "    dist = np.loadtxt(\"3D_Experements/\"+exp_name+\"_x.txt\")\n",
    "    upper_angle = np.loadtxt(\"3D_Experements/\"+exp_name+\"_y.txt\")\n",
    "    lower_angle = np.loadtxt(\"3D_Experements/\"+exp_name+\"_z.txt\")\n",
    "\n",
    "    # print(\"print upper_angle = \"+upper_angle)\n",
    "    #x , y , z = np.array(dist)*np.cos(uAngel)*np.sin(lAngel) , np.array(dist)*np.cos(uAngel)*np.cos(lAngel) , np.array(dist)*np.sin(uAngel)\n",
    "\n",
    "    my_sample_x = np.array(dist)*np.cos(upper_angle)*np.sin(lower_angle)\n",
    "    my_sample_y =  np.array(dist)*np.cos(upper_angle)*np.cos(lower_angle)\n",
    "    my_sample_z =  np.array(dist)*np.sin(upper_angle)\n",
    "\n",
    "    df = pd.DataFrame(my_sample_x,columns=['X (mm)'])\n",
    "    df['Y (mm)'] = my_sample_y\n",
    "    df['Z (mm)'] = my_sample_z\n",
    "    df.head()\n",
    "    min_depth = 0\n",
    "    max_depth = 0\n",
    "    if depth_axis == 'x':\n",
    "        df['Depth'] = my_sample_x\n",
    "        max_depth = np.amax(my_sample_x)\n",
    "        min_depth = np.amin(my_sample_x)\n",
    "\n",
    "    elif depth_axis == 'y':\n",
    "        df['Depth'] = my_sample_y\n",
    "        max_depth = np.amax(my_sample_y)\n",
    "        min_depth = np.amin(my_sample_y)\n",
    "\n",
    "    elif depth_axis == 'z':\n",
    "        df['Depth'] = my_sample_z\n",
    "        max_depth = np.amax(my_sample_z)\n",
    "        min_depth = np.amin(my_sample_z)\n",
    "        \n",
    "\n",
    "    else:\n",
    "        print(\"invalid depth axis\")\n",
    "        return\n",
    "   \n",
    "\n",
    "    fig = px.scatter_3d(df, x='X (mm)', y='Y (mm)', z='Z (mm)', color='Depth', title=\"ٌRadar Point Cloud\" , range_color=[min_depth-200,max_depth+200],color_continuous_scale=color , opacity=1)\n",
    "    fig.update_traces(marker=dict(size=marker_size, line=dict(width=0))) \n",
    "    fig.show()\n",
    "\n"
   ]
  },
  {
   "cell_type": "markdown",
   "metadata": {},
   "source": [
    "# 1 ) Corner mapping experement\n",
    "![title](img/corner.jpg)\n"
   ]
  },
  {
   "cell_type": "code",
   "execution_count": null,
   "metadata": {},
   "outputs": [],
   "source": [
    "plot_3D(\"3D_corner\",'y')\n",
    "plot_3D(\"3D_corner\",'z')"
   ]
  },
  {
   "cell_type": "code",
   "execution_count": null,
   "metadata": {},
   "outputs": [],
   "source": [
    "plot_3D(\"3D_corner(1)\",'y')\n",
    "plot_3D(\"3D_corner(1)\",'z')"
   ]
  },
  {
   "cell_type": "markdown",
   "metadata": {},
   "source": [
    "# 2 ) Cylinder mapping experement\n",
    "![title](img/cylinder.jpg)\n"
   ]
  },
  {
   "cell_type": "code",
   "execution_count": null,
   "metadata": {},
   "outputs": [],
   "source": [
    "plot_3D(\"3D_cylinder\",'y')\n",
    "plot_3D(\"3D_cylinder\",'z')"
   ]
  },
  {
   "cell_type": "code",
   "execution_count": null,
   "metadata": {},
   "outputs": [],
   "source": [
    "plot_3D(\"3D_cylinder(1)\",'y')\n",
    "plot_3D(\"3D_cylinder(1)\",'z')"
   ]
  },
  {
   "cell_type": "markdown",
   "metadata": {},
   "source": [
    "# 3 ) Body mapping experement\n",
    "![title](img/ezzat_body.jpg)\n"
   ]
  },
  {
   "cell_type": "code",
   "execution_count": null,
   "metadata": {},
   "outputs": [],
   "source": [
    "plot_3D(\"3D_ezzat_body\",'y')\n",
    "plot_3D(\"3D_ezzat_body\",'z')"
   ]
  },
  {
   "cell_type": "markdown",
   "metadata": {},
   "source": [
    "# 4 ) Face mapping experement\n",
    "![title](img/ezzat_face.jpg)\n"
   ]
  },
  {
   "cell_type": "code",
   "execution_count": null,
   "metadata": {},
   "outputs": [],
   "source": [
    "plot_3D(\"3D_ezzat_face\",'y')\n",
    "plot_3D(\"3D_ezzat_face\",'z')"
   ]
  },
  {
   "cell_type": "code",
   "execution_count": null,
   "metadata": {},
   "outputs": [],
   "source": [
    "plot_3D(\"waleed_face\",'y')\n",
    "plot_3D(\"waleed_face\",'z')"
   ]
  },
  {
   "cell_type": "code",
   "execution_count": null,
   "metadata": {},
   "outputs": [],
   "source": [
    "plot_3D(\"wall\",'y')\n",
    "plot_3D(\"wall\",'z')"
   ]
  },
  {
   "cell_type": "code",
   "execution_count": null,
   "metadata": {},
   "outputs": [],
   "source": [
    "#50\n",
    "plot_3D(\"wall1\",'y')\n",
    "plot_3D(\"wall1\",'z')"
   ]
  },
  {
   "cell_type": "code",
   "execution_count": null,
   "metadata": {},
   "outputs": [],
   "source": [
    "#50\n",
    "plot_3D(\"wall2\",'y')\n",
    "plot_3D(\"wall2\",'z')"
   ]
  },
  {
   "cell_type": "code",
   "execution_count": null,
   "metadata": {},
   "outputs": [],
   "source": [
    "#50\n",
    "plot_3D(\"wall4\",'y')\n",
    "# plot_3D(\"wall4\",'z')"
   ]
  },
  {
   "cell_type": "code",
   "execution_count": null,
   "metadata": {},
   "outputs": [],
   "source": [
    "#50\n",
    "plot_3D(\"wall4d\",'y')\n",
    "plot_3D(\"wall4d\",'z')"
   ]
  },
  {
   "cell_type": "code",
   "execution_count": null,
   "metadata": {},
   "outputs": [],
   "source": [
    "#50\n",
    "plot_3D(\"wall7\",'y')\n",
    "plot_3D(\"wall7\",'z')"
   ]
  },
  {
   "cell_type": "code",
   "execution_count": null,
   "metadata": {},
   "outputs": [],
   "source": [
    "plot_3D(\"hello3\",'y')\n",
    "plot_3D(\"hello3\",'z')"
   ]
  },
  {
   "cell_type": "code",
   "execution_count": 4,
   "metadata": {},
   "outputs": [],
   "source": [
    "import numpy as np\n",
    "from plotly import offline\n",
    "from plotly import graph_objs as go\n",
    "import torch\n",
    "from PIL import Image\n",
    "import plotly.express as px\n",
    "import cv2\n",
    "import pandas as pd\n",
    "color = px.colors.sequential.Rainbow[::-1]\n",
    "marker_size = 3\n",
    "\n",
    "def points_to_image(exp_name):\n",
    "    dist = np.loadtxt(\"3D_Experements/\"+exp_name+\"_x.txt\")\n",
    "    upper_angle = np.loadtxt(\"3D_Experements/\"+exp_name+\"_y.txt\")\n",
    "    lower_angle = np.loadtxt(\"3D_Experements/\"+exp_name+\"_z.txt\")\n",
    "\n",
    "    print(np.amax(upper_angle*180/np.pi))\n",
    "    print(np.amin(upper_angle*180/np.pi))\n",
    "    print(np.amax(lower_angle*180/np.pi))\n",
    "    print(np.amin(lower_angle*180/np.pi))\n",
    "    \n",
    "\n",
    "    #x , y , z = np.array(dist)*np.cos(uAngel)*np.sin(lAngel) , np.array(dist)*np.cos(uAngel)*np.cos(lAngel) , np.array(dist)*np.sin(uAngel)\n",
    "\n",
    "    my_sample_x = np.array(dist)*np.cos(upper_angle)*np.sin(lower_angle)\n",
    "    my_sample_y =  np.array(dist)*np.cos(upper_angle)*np.cos(lower_angle)\n",
    "    my_sample_z =  np.array(dist)*np.sin(upper_angle)\n",
    "    \n",
    "    my_sample_x = my_sample_x[~np.isnan(my_sample_x)]\n",
    "    my_sample_y = my_sample_y[~np.isnan(my_sample_y)]\n",
    "    my_sample_z = my_sample_z[~np.isnan(my_sample_z)]\n",
    "    \n",
    "    x_min = np.min(my_sample_x)\n",
    "    x_max = np.max(my_sample_x)\n",
    "    y_min = np.min(my_sample_y)\n",
    "    y_max = np.max(my_sample_y)\n",
    "    z_min = np.min(my_sample_z)\n",
    "    z_max = np.max(my_sample_z)\n",
    "    width = 1+(x_max - x_min).astype(int)\n",
    "    hight = 1+(z_max - z_min).astype(int)\n",
    "    \n",
    "    \n",
    "    \n",
    "    normalization_factor = (1 / y_max)\n",
    "    \n",
    "    my_sample_y = 1-  my_sample_y * normalization_factor\n",
    "    print(\"img :: \",width,hight)\n",
    "    img = np.zeros((width,hight))\n",
    "    \n",
    "    for i in range(len(my_sample_x)):\n",
    "        x = (my_sample_x[i] - x_min).astype(int)\n",
    "        z = (my_sample_z[i] - z_min).astype(int)\n",
    "#         print(\"x,z :: \",x,z)\n",
    "        img[x,z] = my_sample_y[i]\n",
    "        \n",
    "#     img = Image.fromarray(img)\n",
    "    print(len(my_sample_x))\n",
    "    \n",
    "    kernel = np.ones((5,5), np.uint8)\n",
    " \n",
    "    # The first parameter is the original image,\n",
    "    # kernel is the matrix with which image is\n",
    "    # convolved and third parameter is the number\n",
    "    # of iterations, which will determine how much\n",
    "    # you want to erode/dilate a given image.\n",
    "    img_erosion = cv2.erode(img, kernel, iterations=1)\n",
    "    img_dilation = cv2.dilate(img, kernel, iterations=2)\n",
    "\n",
    "    cv2.imshow('Input', img)\n",
    "    cv2.imshow('Erosion', img_erosion)\n",
    "    cv2.imshow('Dilation', img_dilation)\n",
    "\n",
    "    cv2.waitKey(0)\n",
    "#     img.show()\n",
    "    \n",
    "def plot_3D (exp_name , depth_axis):\n",
    "    dist = np.loadtxt(\"3D_Experements/\"+exp_name+\"_x.txt\")\n",
    "    upper_angle = np.loadtxt(\"3D_Experements/\"+exp_name+\"_y.txt\")\n",
    "    lower_angle = np.loadtxt(\"3D_Experements/\"+exp_name+\"_z.txt\")\n",
    "\n",
    "    print(np.amax(upper_angle*180/np.pi))\n",
    "    print(np.amin(upper_angle*180/np.pi))\n",
    "    print(np.amax(lower_angle*180/np.pi))\n",
    "    print(np.amin(lower_angle*180/np.pi))\n",
    "    \n",
    "\n",
    "    #x , y , z = np.array(dist)*np.cos(uAngel)*np.sin(lAngel) , np.array(dist)*np.cos(uAngel)*np.cos(lAngel) , np.array(dist)*np.sin(uAngel)\n",
    "\n",
    "    my_sample_x = np.array(dist)*np.cos(upper_angle)*np.sin(lower_angle)\n",
    "    my_sample_y =  np.array(dist)*np.cos(upper_angle)*np.cos(lower_angle)\n",
    "    my_sample_z =  np.array(dist)*np.sin(upper_angle)\n",
    "    \n",
    "    my_sample_x = my_sample_x[~np.isnan(my_sample_x)]\n",
    "    my_sample_y = my_sample_y[~np.isnan(my_sample_y)]\n",
    "    my_sample_z = my_sample_z[~np.isnan(my_sample_z)]\n",
    "\n",
    "    df = pd.DataFrame(my_sample_x,columns=['X (mm)'])\n",
    "    df['Y (mm)'] = my_sample_y\n",
    "    df['Z (mm)'] = my_sample_z\n",
    "    df.head()\n",
    "    min_depth = 0\n",
    "    max_depth = 0\n",
    "    if depth_axis == 'x':\n",
    "        df['Depth'] = my_sample_x\n",
    "        max_depth = np.amax(my_sample_x)\n",
    "        min_depth = np.amin(my_sample_x)\n",
    "\n",
    "    elif depth_axis == 'y':\n",
    "        df['Depth'] = my_sample_y\n",
    "        max_depth = np.amax(my_sample_y)\n",
    "        min_depth = np.amin(my_sample_y)\n",
    "\n",
    "    elif depth_axis == 'z':\n",
    "        df['Depth'] = my_sample_z\n",
    "        max_depth = np.amax(my_sample_z)\n",
    "        min_depth = np.amin(my_sample_z)\n",
    "        \n",
    "\n",
    "    else:\n",
    "        print(\"invalid depth axis\")\n",
    "        return\n",
    "   \n",
    "\n",
    "    fig = px.scatter_3d(df, x='X (mm)', y='Y (mm)', z='Z (mm)', color='Depth', title=\"ٌRadar Point Cloud\" , range_color=[min_depth-200,max_depth+200],color_continuous_scale=color , opacity=1)\n",
    "    fig.update_traces(marker=dict(size=marker_size, line=dict(width=0))) \n",
    "    fig.show()\n",
    "    \n",
    "    \n",
    "def plot_3D_threshold (exp_name , depth_axis ,threshold):\n",
    "    dist = np.loadtxt(\"3D_Experements/\"+exp_name+\"_x.txt\")\n",
    "    upper_angle = np.loadtxt(\"3D_Experements/\"+exp_name+\"_y.txt\")\n",
    "    lower_angle = np.loadtxt(\"3D_Experements/\"+exp_name+\"_z.txt\")\n",
    "\n",
    "    print(np.amax(upper_angle*180/np.pi))\n",
    "    print(np.amin(upper_angle*180/np.pi))\n",
    "    print(np.amax(lower_angle*180/np.pi))\n",
    "    print(np.amin(lower_angle*180/np.pi))\n",
    "    \n",
    "\n",
    "    #x , y , z = np.array(dist)*np.cos(uAngel)*np.sin(lAngel) , np.array(dist)*np.cos(uAngel)*np.cos(lAngel) , np.array(dist)*np.sin(uAngel)\n",
    "\n",
    "    my_sample_x = np.array(dist)*np.cos(upper_angle)*np.sin(lower_angle)\n",
    "    my_sample_y =  np.array(dist)*np.cos(upper_angle)*np.cos(lower_angle)\n",
    "    my_sample_z =  np.array(dist)*np.sin(upper_angle)\n",
    "    my_sample_x = my_sample_x[~np.isnan(my_sample_x)]\n",
    "    my_sample_y = my_sample_y[~np.isnan(my_sample_y)]\n",
    "    my_sample_z = my_sample_z[~np.isnan(my_sample_z)]\n",
    "\n",
    "    df = pd.DataFrame()\n",
    "    \n",
    "    indx = []\n",
    "    min_depth = 0\n",
    "    max_depth = 0\n",
    "    if depth_axis == 'x':\n",
    "        min_depth = np.amin(my_sample_x)\n",
    "        max_depth = (min_depth + threshold)\n",
    "        indx = my_sample_x<= (min_depth + threshold)\n",
    "        df['Depth'] = my_sample_x[indx]\n",
    "\n",
    "    elif depth_axis == 'y':\n",
    "        min_depth = np.amin(my_sample_y)\n",
    "        max_depth = (min_depth + threshold)\n",
    "        indx = my_sample_y <= (min_depth + threshold)\n",
    "#         print(my_sample_y , (min_depth + threshold))\n",
    "#         print(type(my_sample_y),type(my_sample_y[indx]))\n",
    "        df['Depth'] = my_sample_y[indx]\n",
    "\n",
    "    elif depth_axis == 'z':\n",
    "        min_depth = np.amin(my_sample_z)\n",
    "        max_depth = (min_depth + threshold)\n",
    "        indx = my_sample_z<= (min_depth + threshold)\n",
    "        df['Depth'] = my_sample_z[indx]\n",
    "        \n",
    "\n",
    "    else:\n",
    "        print(\"invalid depth axis\")\n",
    "        return\n",
    "    df['X (mm)'] = my_sample_x[indx]\n",
    "    df['Y (mm)'] = my_sample_y[indx]\n",
    "    df['Z (mm)'] = my_sample_z[indx]\n",
    "    df.head()\n",
    "   \n",
    "\n",
    "    fig = px.scatter_3d(df, x='X (mm)', y='Y (mm)', z='Z (mm)', color='Depth', title=\"ٌRadar Point Cloud\" , range_color=[min_depth-100,max_depth+100],color_continuous_scale=color , opacity=1)\n",
    "    fig.update_traces(marker=dict(size=marker_size, line=dict(width=0))) \n",
    "    fig.show()\n",
    "\n",
    "\n",
    "def plot_2D (exp_name):\n",
    "    dist = np.loadtxt(\"3D_Experements/\"+exp_name+\"_x.txt\")\n",
    "    upper_angle = np.loadtxt(\"3D_Experements/\"+exp_name+\"_y.txt\")\n",
    "    lower_angle = np.loadtxt(\"3D_Experements/\"+exp_name+\"_z.txt\")\n",
    "\n",
    "    print(np.amax(upper_angle*180/np.pi))\n",
    "    print(np.amin(upper_angle*180/np.pi))\n",
    "    print(np.amax(lower_angle*180/np.pi))\n",
    "    print(np.amin(lower_angle*180/np.pi))\n",
    "    \n",
    "\n",
    "    #x , y , z = np.array(dist)*np.cos(uAngel)*np.sin(lAngel) , np.array(dist)*np.cos(uAngel)*np.cos(lAngel) , np.array(dist)*np.sin(uAngel)\n",
    "\n",
    "    my_sample_x = np.array(dist)*np.cos(upper_angle)*np.sin(lower_angle)\n",
    "    my_sample_y =  np.array(dist)*np.cos(upper_angle)*np.cos(lower_angle)\n",
    "    my_sample_z =  np.array(dist)*np.sin(upper_angle)\n",
    "\n",
    "    minx = np.min(my_sample_x)\n",
    "    miny = np.min(my_sample_y)\n",
    "    minz = np.min(my_sample_z)\n",
    "\n",
    "    maxx = np.max(my_sample_x)\n",
    "    maxy = np.max(my_sample_y)\n",
    "    maxz = np.max(my_sample_z)\n",
    "\n",
    "    # img =np.zeros(int(maxx-minx),int(maxz-minz))\n",
    "    # img =np.zeros((int(maxx-minx),int(maxz-minz)), dtype=np.float64)\n",
    "    # img =np.zeros(len(my_sample_x),len(my_sample_z)), dtype=np.float64)\n",
    "\n",
    "    # for i in range(len(my_sample_x) - 1):\n",
    "    #     img[int(my_sample_x[i] - minx -1)][int(my_sample_z[i] - minz -1)] = (my_sample_y[i] / maxy)*255\n",
    "    \n",
    "    trace = go.Surface(x = my_sample_x, y = my_sample_y, z =my_sample_z )\n",
    "    data = [trace]\n",
    "    layout = go.Layout(title = '3D Surface plot')\n",
    "    fig = go.Figure(data = data)\n",
    "    plot(fig)\n",
    "    offline.init_notebook_mode(connected=False)\n",
    "\n",
    "    df3 = {'x':[1, 2, 3, 4, 5],'y':[10, 20, 30, 40, 50],'z': [[5, 4, 3, 2, 1]]*5}\n",
    "    offline.iplot(dict(data=[go.Surface(x=df3['x'], y=df3['y'], z=df3['z'])]))\n"
   ]
  },
  {
   "cell_type": "code",
   "execution_count": null,
   "metadata": {},
   "outputs": [],
   "source": []
  },
  {
   "cell_type": "code",
   "execution_count": 21,
   "metadata": {},
   "outputs": [
    {
     "output_type": "stream",
     "name": "stdout",
     "text": [
      "13.5\n-13.5\n17.1\n-18.0\n"
     ]
    },
    {
     "output_type": "display_data",
     "data": {
      "application/vnd.plotly.v1+json": {
       "config": {
        "plotlyServerURL": "https://plot.ly"
       },
       "data": [
        {
         "hovertemplate": "X (mm)=%{x}<br>Y (mm)=%{y}<br>Z (mm)=%{z}<br>Depth=%{marker.color}<extra></extra>",
         "legendgroup": "",
         "marker": {
          "color": [
           408.50031159684806,
           400.19588658426994,
           392.8971184794888,
           410.9984183947132,
           409.23392318241616,
           401.07255866967637,
           395.810545642056,
           397.93843099368615,
           389.43887544127807,
           400.1251121972635,
           390.89203204202755,
           396.5795124253288,
           395.37975961963303,
           403.54623485438793,
           409.60623058067335,
           413.5333138333574,
           409.43001636864017,
           409.660609287355,
           396.62121277667575,
           402.62484907043967,
           398.559883730878,
           418.7634637139206,
           411.70426743349105,
           412.9704562059957,
           402.29019849215337,
           410.90114515217795,
           390.57233246113407,
           404.24411490798053,
           397.91486763882057,
           395.2255233763971,
           404.06379895133074,
           391.0944244308235,
           392.2949504381852,
           407.00428145633805,
           406.76956151996575,
           416.4102774781118,
           409.5073395847059,
           406.4038237084063,
           401.6750964674924,
           400.6690516800001,
           403.3566637640644,
           399.2895948834206,
           407.29265989478114,
           409.8589312715731,
           407.9249160558749,
           399.8134243264612,
           383.97922930363103,
           404.30330663165006,
           412.53115069728636,
           407.11880262623276,
           398.5300537471987,
           404.5636341240693,
           398.68602829487315,
           404.29233425853033,
           409.7049860195272,
           391.20709209524074,
           388.2278698574119,
           377.077018438896,
           386.8757827259683,
           393.82834293942597,
           388.6321300482478,
           389.52561685422836,
           396.92317730410105,
           408.03541423789216,
           406.02554255339385,
           378.18921786417894,
           377.7974482755684,
           386.95996863914155,
           387.7866380347696,
           389.42181629237376,
           377.0232066601006,
           384.12277742892695,
           399.97467066524155,
           381.86028602674446,
           374.42479719587936,
           374.7368729719057,
           386.8039254884537,
           386.6965604071793,
           382.3912822426002,
           381.86028602674446,
           377.1473321409225,
           399.9628919620786,
           388.8668676023027,
           374.6709899176626,
           378.139493484689,
           376.1165022367165,
           377.60919751064455,
           373.29182744614917,
           399.3652426930267,
           416.4585714624396,
           373.7657205772228,
           378.47835342126626,
           382.99416948605113,
           383.31338766698104,
           383.41981342100655,
           383.31338766698104,
           382.99416948605113,
           370.5103880860817,
           374.8127143161956,
           375.6405748102726,
           370.3370108700583,
           372.7051819585583,
           383.6162916539019,
           380.5930995687236,
           377.09336444143537,
           375.21313966427107,
           369.1577592763704,
           362.82684510953374,
           368.1070723794514,
           365.26886504369,
           366.1860230726659,
           362.9118543964458,
           366.0788938060446,
           383.7039849783029,
           387.8085454219039,
           383.7039849783029,
           383.38444151323944,
           386.84010853247514,
           370.16630593215143,
           369.23917879416496,
           368.1070723794514,
           369.72844270672596,
           381.92119244284066,
           388.8927853811976,
           380.9809248995945,
           391.0279145121026,
           373.2576427770256,
           362.9947706819837,
           364.3174692843282,
           361.4657695320777,
           366.3555033588588,
           363.0798193133746,
           367.58013659919203,
           375.8840402553097,
           383.9881565355992,
           387.88033941239405,
           335.6166464601318,
           335.1506024431151,
           358.3912532858402,
           357.49361821853836,
           360.3574967921072,
           351.1579846814842,
           345.75444804608685,
           359.7456813511344,
           353.93173459978726,
           361.6769856905324,
           359.71239479664666,
           345.722456072671,
           351.12549272953913,
           352.4049414599116,
           353.4887562647308,
           342.43106574038893,
           343.0986295182784,
           339.58065909498055,
           383.8460532260184,
           383.9526268729577,
           383.8460532260184,
           371.5411917156846,
           363.04622425771316,
           366.3216052106486,
           365.404107599497,
           360.32415362755,
           366.9064137510915,
           362.4192792352716,
           371.44214680088515,
           388.8999846134757,
           384.7616223376617,
           398.5532674058146,
           361.2030189714411,
           370.6114522440138,
           371.9619048937173,
           369.1366554250574,
           362.1051697566053,
           366.7980229110476,
           363.31559521306707,
           375.60583185106725,
           383.7039499164376,
           383.597445294707,
           350.34003824117184,
           350.8502827844804,
           354.14681437733924,
           357.22902137908784,
           356.1337387280272,
           354.8407521485238,
           357.2768992000124,
           363.3868026347133,
           361.4427361353792,
           364.8896400991835,
           362.94956274685626,
           352.9256152397596,
           354.4137951716836,
           355.70522598388084,
           360.7636262048135,
           373.59264138064344,
           378.30309195204524,
           382.81681688387334,
           387.12688607033084,
           397.21463791445206,
           379.1448884193962,
           362.87844100450496,
           362.37454071195907,
           361.6694719748782,
           356.7991907520133,
           363.6097865613005,
           418.73333577691506,
           393.4467043969172,
           390.2683470396303,
           393.3562077664957,
           414.62215238118193,
           403.8661998073889,
           395.3639703995055,
           369.54543874808587,
           360.12874551972453,
           357.06560158697863,
           357.76169515382367,
           368.21082496723903,
           378.4776599378557,
           382.56782457328944,
           382.4616353056226,
           368.21082496723903,
           373.662214938438,
           368.96778830654455,
           372.0011217456495,
           370.8605470710328,
           353.7900890751166,
           356.219022835198,
           350.62338890030543,
           364.2474983535617,
           358.24849382313306,
           349.8106205497016,
           360.275059304054,
           368.6575347739868,
           362.12850875496275,
           367.19051329832286,
           368.1124964172373,
           368.8301257253881,
           369.34300283835415,
           377.60032353319406,
           381.681006894789,
           373.62558328547624,
           373.31443297640095,
           368.8301257253881,
           364.15429753103047,
           351.39737294140576,
           377.8732265269176,
           402.25833179748037,
           396.45203662299514,
           394.33107593481543,
           404.7605446300123,
           414.6887939750937,
           413.75647456615906,
           371.5069192811717,
           389.8683129608895,
           411.408096864551,
           367.05285071716645,
           363.81391518520684,
           368.2798150123008,
           372.5500676574597,
           372.65350500960653,
           376.5133662495603,
           368.2798150123008,
           367.7684142633069,
           367.05285071716645,
           370.0704411987349,
           368.93578609050616,
           375.41751843149984,
           381.62950124690434,
           368.18163951059717,
           384.1966912053515,
           390.68815513019405,
           387.2225901614382,
           360.9499061757641,
           361.8562196784701,
           366.50254000407904,
           367.0121804903119,
           398.91533201573316,
           375.32156942615234,
           379.16704825257807,
           364.38126880220926,
           356.6503211867651,
           365.7894394575839,
           365.85411685750006,
           402.8679473396781,
           416.993841385843,
           399.7197898399112,
           397.81239284228826,
           411.0505293763047,
           402.7067621509464,
           415.451396061436,
           404.55931251159706,
           424.0554922137411,
           409.0441384819078,
           418.1174250504928,
           423.08473239646315,
           360.6276201506237,
           369.7792964287779,
           369.47134925513495,
           361.10811745142115,
           368.2404152339587,
           364.3873821117612,
           364.8623914699466,
           367.19555434969794,
           401.8285563518339,
           407.17057445032435,
           416.20230221934736,
           397.74980993171596,
           406.3394366344814,
           396.75359650816296,
           399.41494446079435,
           401.8285563518339,
           425.15011246344136,
           401.8143923074995,
           396.9006405726497,
           419.76807233129455,
           411.28793984106545,
           406.3167621259751,
           380.92234565711965,
           407.1593439549315,
           407.3369878182107,
           410.18644557479394,
           412.78661152211157,
           411.28793984106545,
           406.5821834488908,
           407.8326193479226,
           404.9995130053662,
           401.9243953036084,
           407.7213817743335,
           415.52757442995886,
           402.74650247295796,
           403.37379300477335,
           410.63401324033714,
           393.0622590958392,
           406.46714943966447,
           397.07115342950294,
           415.4474177551296,
           404.05203641855707,
           406.04209137792793,
           398.0780361353011,
           404.89938310591
          ],
          "coloraxis": "coloraxis",
          "line": {
           "width": 0
          },
          "opacity": 1,
          "size": 3,
          "symbol": "circle"
         },
         "mode": "markers",
         "name": "",
         "scene": "scene",
         "showlegend": false,
         "type": "scatter3d",
         "x": [
          -132.72979715509544,
          -130.03152590261962,
          -127.6600123871397,
          -112.43644402855465,
          -111.95373276180335,
          -109.72103608180781,
          -108.28151221315544,
          -108.8636357725896,
          -106.53842049349302,
          -99.39159438992483,
          -97.09808536041295,
          -98.51086282957377,
          -98.21284268388219,
          -100.24140567426996,
          -101.7467164355068,
          -102.72220898493173,
          -91.5184515514043,
          -91.56999517550561,
          -88.65534473437212,
          -89.99731643971086,
          -89.08868903425982,
          -83.29723193944145,
          -81.89307049550354,
          -82.14493110179198,
          -80.02049575570675,
          -81.73331954123219,
          -77.68966728283903,
          -70.55189218506672,
          -69.44726170442745,
          -68.9778959933293,
          -70.52042201280288,
          -68.25690380898965,
          -68.46642913864358,
          -61.19035623138375,
          -61.155067667661925,
          -62.60448446911105,
          -61.56667418557,
          -61.10008144762382,
          -60.38914911207882,
          -60.23789704487425,
          -60.64196144500099,
          -50.44200634162086,
          -51.453028570169835,
          -51.777224038124004,
          -51.532901098019536,
          -50.50818138957195,
          -48.50785737414336,
          -51.07538543048264,
          -52.114803857245974,
          -51.431065289495784,
          -40.83260928681984,
          -41.45079812305165,
          -40.848590133694486,
          -41.42300126982826,
          -41.97757097538577,
          -40.08231296877493,
          -39.777067689348556,
          -38.63457327793218,
          -39.63853548822378,
          -40.35088119984554,
          -39.81848739726622,
          -39.910032306636275,
          -40.66797187150756,
          -41.806509918396955,
          -41.60058239941034,
          -38.74852705420225,
          -38.70838710894145,
          -39.647161012115234,
          -30.51947029711687,
          -30.648161616952823,
          -29.67236987664077,
          -30.231118213869575,
          -31.478689267969155,
          -30.053056278841787,
          -29.46787061677732,
          -29.49243151300921,
          -30.44212914240384,
          -30.433679327254183,
          -30.094846587347046,
          -30.053056278841787,
          -29.682138763841884,
          -31.47776226392605,
          -30.604486207844147,
          -29.48724640418946,
          -29.760223555041712,
          -29.60101069093501,
          -20.78109154399861,
          -20.54349229289173,
          -21.978399156077383,
          -22.91910195752019,
          -20.569572209916622,
          -20.828924087971874,
          -21.077444483282182,
          -21.09501212274686,
          -21.100869086379163,
          -21.09501212274686,
          -21.077444483282182,
          -20.390420422961938,
          -20.627191761768174,
          -20.672751681458923,
          -20.380878897433483,
          -20.511207238232394,
          -21.111681937790408,
          -20.945305610382725,
          -11.850636394118919,
          -11.791547950050452,
          -11.601249954986596,
          -11.402292962081965,
          -11.568230789035754,
          -11.479036530215929,
          -11.507859382438319,
          -11.404964486548618,
          -11.504492709604449,
          -12.05838351382216,
          -12.187374522313778,
          -12.05838351382216,
          -12.04834145587666,
          -12.156940166980396,
          -11.6329448105083,
          -11.603808666413927,
          -11.568230789035754,
          -11.619184404295481,
          -12.002357001302622,
          -12.221448135729375,
          -11.97280790333664,
          -3.0711892080060137,
          -2.9316189503577874,
          -2.8510128840088766,
          -2.861401548148197,
          -2.8390038901331343,
          -2.877408559471306,
          -2.8516808681327452,
          -2.8870270042213937,
          -2.9522470520658324,
          -3.0158979412651523,
          -3.046467702663678,
          -2.635981177767359,
          -2.6323208013533037,
          -2.8148561994827994,
          -2.807806045186616,
          -2.8302993574074553,
          -2.7580450725738044,
          -2.715604922436687,
          -2.8254940713655325,
          -2.779830501436163,
          5.681676112906076,
          5.650813852947478,
          5.431042333570117,
          5.51592001593598,
          5.536019202714939,
          5.5530451262074125,
          5.379337042470455,
          5.389823972302152,
          5.334559276701464,
          6.029935655108597,
          6.031609847739139,
          6.029935655108597,
          5.836635443920425,
          5.703185831156928,
          5.754639626828859,
          5.740226422596426,
          5.660424128618645,
          5.763826533506136,
          5.6933369917254915,
          5.83507952206533,
          6.109329153662447,
          15.117325314091303,
          15.65920052463083,
          14.191705266881248,
          14.561363616935148,
          14.614423046050792,
          14.503418692103782,
          14.227150867767403,
          14.411533570376722,
          14.274708613476593,
          14.757593326133202,
          15.075769251482345,
          15.071584673497739,
          13.764897591566715,
          13.784945154273387,
          13.914466233310977,
          14.035566476229468,
          13.99253270366565,
          13.941731122597481,
          14.037447600936888,
          14.277506360692817,
          14.201123779903954,
          22.956910291144148,
          22.834850970076136,
          22.204197648099097,
          22.297825993329653,
          22.379075933160156,
          22.69732349989592,
          23.504456720875286,
          23.800813151189793,
          24.08479265335026,
          24.355959222056445,
          24.990626772666722,
          23.85377449582848,
          22.830376369321602,
          22.798673650087064,
          22.754314485102665,
          22.447902362534425,
          22.876388731674826,
          26.344468488415405,
          24.753568489177145,
          24.55360319363025,
          24.747874923786597,
          35.910170122917904,
          34.978603672498615,
          34.242230802144896,
          32.006103623213924,
          31.190529602665926,
          30.925232586806622,
          30.985520823369278,
          31.89051354283988,
          32.779717817868146,
          33.13396446640258,
          33.12476747910886,
          31.89051354283988,
          32.36265508218569,
          31.956073673033508,
          32.21878882033623,
          32.1200043478517,
          30.64154245866177,
          30.85191092074441,
          30.36727650023995,
          31.547252257516664,
          39.55100193154295,
          38.61945204957649,
          39.77473684357268,
          40.70017075109415,
          39.97935956795767,
          40.538210072352975,
          40.63999795630996,
          40.71922496952057,
          40.77584712993522,
          41.68746382165038,
          42.13797545896138,
          41.24864841300143,
          41.214297099074315,
          40.71922496952057,
          40.203008730973295,
          38.794631144509836,
          41.71759259265148,
          44.409733277918555,
          43.768712322853354,
          43.53455608292137,
          54.36613784544426,
          55.699668446733526,
          55.57444229469232,
          49.89961756929336,
          52.36586106330409,
          55.25901573562516,
          49.30136136884004,
          48.86631793899194,
          49.46616327674755,
          50.0397299126799,
          50.053623285983676,
          50.57206746494246,
          49.46616327674755,
          49.397473568763594,
          49.30136136884004,
          49.70667444161498,
          49.55427120755622,
          50.42487670160172,
          51.259250304751504,
          49.45297665831481,
          60.85077791109829,
          61.87892479172139,
          61.33003322373668,
          57.16884887484228,
          57.31239483172694,
          58.04829967606703,
          58.12901879924574,
          63.18198159818847,
          59.44509671528773,
          60.05416072699102,
          57.71232332398233,
          56.4878615127319,
          57.93535564511528,
          57.94559953890264,
          63.80801436408967,
          66.0453361866752,
          63.309395200435596,
          63.00729319449039,
          65.10400804037039,
          73.54731398723098,
          75.87489742998368,
          73.88564975870945,
          77.44628440622897,
          74.70472441753749,
          76.3618007789861,
          77.26899218320749,
          65.86229809010288,
          67.53369095458774,
          67.47744981438333,
          65.9500524790856,
          67.25264134464355,
          66.54895254804163,
          66.63570466073706,
          67.06181586379678,
          83.21469358731576,
          84.320972352667,
          86.19135325761503,
          82.37002580996324,
          84.14885198545834,
          82.16371992781994,
          82.71485859356858,
          83.21469358731576,
          88.04435567859721,
          83.21176035474527,
          91.99662879441485,
          97.2970148757938,
          95.33142570540227,
          94.1791685806307,
          88.29305889341683,
          94.37446856209606,
          94.41564419870907,
          95.07611304330338,
          95.67879914911094,
          95.33142570540227,
          104.39256161270062,
          104.71361898300917,
          103.98620090995966,
          103.19664488115396,
          104.6850580284783,
          106.68934764306594,
          103.40772612578836,
          103.56878695963042,
          105.43289468278189,
          110.85502202376495,
          114.63559209861555,
          111.98564715849935,
          117.16828970275635,
          124.30263703523232,
          124.9148578805657,
          122.46479457454318,
          124.56331491389032
         ],
         "y": [
          408.50031159684806,
          400.19588658426994,
          392.8971184794888,
          410.9984183947132,
          409.23392318241616,
          401.07255866967637,
          395.810545642056,
          397.93843099368615,
          389.43887544127807,
          400.1251121972635,
          390.89203204202755,
          396.5795124253288,
          395.37975961963303,
          403.54623485438793,
          409.60623058067335,
          413.5333138333574,
          409.43001636864017,
          409.660609287355,
          396.62121277667575,
          402.62484907043967,
          398.559883730878,
          418.7634637139206,
          411.70426743349105,
          412.9704562059957,
          402.29019849215337,
          410.90114515217795,
          390.57233246113407,
          404.24411490798053,
          397.91486763882057,
          395.2255233763971,
          404.06379895133074,
          391.0944244308235,
          392.2949504381852,
          407.00428145633805,
          406.76956151996575,
          416.4102774781118,
          409.5073395847059,
          406.4038237084063,
          401.6750964674924,
          400.6690516800001,
          403.3566637640644,
          399.2895948834206,
          407.29265989478114,
          409.8589312715731,
          407.9249160558749,
          399.8134243264612,
          383.97922930363103,
          404.30330663165006,
          412.53115069728636,
          407.11880262623276,
          398.5300537471987,
          404.5636341240693,
          398.68602829487315,
          404.29233425853033,
          409.7049860195272,
          391.20709209524074,
          388.2278698574119,
          377.077018438896,
          386.8757827259683,
          393.82834293942597,
          388.6321300482478,
          389.52561685422836,
          396.92317730410105,
          408.03541423789216,
          406.02554255339385,
          378.18921786417894,
          377.7974482755684,
          386.95996863914155,
          387.7866380347696,
          389.42181629237376,
          377.0232066601006,
          384.12277742892695,
          399.97467066524155,
          381.86028602674446,
          374.42479719587936,
          374.7368729719057,
          386.8039254884537,
          386.6965604071793,
          382.3912822426002,
          381.86028602674446,
          377.1473321409225,
          399.9628919620786,
          388.8668676023027,
          374.6709899176626,
          378.139493484689,
          376.1165022367165,
          377.60919751064455,
          373.29182744614917,
          399.3652426930267,
          416.4585714624396,
          373.7657205772228,
          378.47835342126626,
          382.99416948605113,
          383.31338766698104,
          383.41981342100655,
          383.31338766698104,
          382.99416948605113,
          370.5103880860817,
          374.8127143161956,
          375.6405748102726,
          370.3370108700583,
          372.7051819585583,
          383.6162916539019,
          380.5930995687236,
          377.09336444143537,
          375.21313966427107,
          369.1577592763704,
          362.82684510953374,
          368.1070723794514,
          365.26886504369,
          366.1860230726659,
          362.9118543964458,
          366.0788938060446,
          383.7039849783029,
          387.8085454219039,
          383.7039849783029,
          383.38444151323944,
          386.84010853247514,
          370.16630593215143,
          369.23917879416496,
          368.1070723794514,
          369.72844270672596,
          381.92119244284066,
          388.8927853811976,
          380.9809248995945,
          391.0279145121026,
          373.2576427770256,
          362.9947706819837,
          364.3174692843282,
          361.4657695320777,
          366.3555033588588,
          363.0798193133746,
          367.58013659919203,
          375.8840402553097,
          383.9881565355992,
          387.88033941239405,
          335.6166464601318,
          335.1506024431151,
          358.3912532858402,
          357.49361821853836,
          360.3574967921072,
          351.1579846814842,
          345.75444804608685,
          359.7456813511344,
          353.93173459978726,
          361.6769856905324,
          359.71239479664666,
          345.722456072671,
          351.12549272953913,
          352.4049414599116,
          353.4887562647308,
          342.43106574038893,
          343.0986295182784,
          339.58065909498055,
          383.8460532260184,
          383.9526268729577,
          383.8460532260184,
          371.5411917156846,
          363.04622425771316,
          366.3216052106486,
          365.404107599497,
          360.32415362755,
          366.9064137510915,
          362.4192792352716,
          371.44214680088515,
          388.8999846134757,
          384.7616223376617,
          398.5532674058146,
          361.2030189714411,
          370.6114522440138,
          371.9619048937173,
          369.1366554250574,
          362.1051697566053,
          366.7980229110476,
          363.31559521306707,
          375.60583185106725,
          383.7039499164376,
          383.597445294707,
          350.34003824117184,
          350.8502827844804,
          354.14681437733924,
          357.22902137908784,
          356.1337387280272,
          354.8407521485238,
          357.2768992000124,
          363.3868026347133,
          361.4427361353792,
          364.8896400991835,
          362.94956274685626,
          352.9256152397596,
          354.4137951716836,
          355.70522598388084,
          360.7636262048135,
          373.59264138064344,
          378.30309195204524,
          382.81681688387334,
          387.12688607033084,
          397.21463791445206,
          379.1448884193962,
          362.87844100450496,
          362.37454071195907,
          361.6694719748782,
          356.7991907520133,
          363.6097865613005,
          418.73333577691506,
          393.4467043969172,
          390.2683470396303,
          393.3562077664957,
          414.62215238118193,
          403.8661998073889,
          395.3639703995055,
          369.54543874808587,
          360.12874551972453,
          357.06560158697863,
          357.76169515382367,
          368.21082496723903,
          378.4776599378557,
          382.56782457328944,
          382.4616353056226,
          368.21082496723903,
          373.662214938438,
          368.96778830654455,
          372.0011217456495,
          370.8605470710328,
          353.7900890751166,
          356.219022835198,
          350.62338890030543,
          364.2474983535617,
          358.24849382313306,
          349.8106205497016,
          360.275059304054,
          368.6575347739868,
          362.12850875496275,
          367.19051329832286,
          368.1124964172373,
          368.8301257253881,
          369.34300283835415,
          377.60032353319406,
          381.681006894789,
          373.62558328547624,
          373.31443297640095,
          368.8301257253881,
          364.15429753103047,
          351.39737294140576,
          377.8732265269176,
          402.25833179748037,
          396.45203662299514,
          394.33107593481543,
          404.7605446300123,
          414.6887939750937,
          413.75647456615906,
          371.5069192811717,
          389.8683129608895,
          411.408096864551,
          367.05285071716645,
          363.81391518520684,
          368.2798150123008,
          372.5500676574597,
          372.65350500960653,
          376.5133662495603,
          368.2798150123008,
          367.7684142633069,
          367.05285071716645,
          370.0704411987349,
          368.93578609050616,
          375.41751843149984,
          381.62950124690434,
          368.18163951059717,
          384.1966912053515,
          390.68815513019405,
          387.2225901614382,
          360.9499061757641,
          361.8562196784701,
          366.50254000407904,
          367.0121804903119,
          398.91533201573316,
          375.32156942615234,
          379.16704825257807,
          364.38126880220926,
          356.6503211867651,
          365.7894394575839,
          365.85411685750006,
          402.8679473396781,
          416.993841385843,
          399.7197898399112,
          397.81239284228826,
          411.0505293763047,
          402.7067621509464,
          415.451396061436,
          404.55931251159706,
          424.0554922137411,
          409.0441384819078,
          418.1174250504928,
          423.08473239646315,
          360.6276201506237,
          369.7792964287779,
          369.47134925513495,
          361.10811745142115,
          368.2404152339587,
          364.3873821117612,
          364.8623914699466,
          367.19555434969794,
          401.8285563518339,
          407.17057445032435,
          416.20230221934736,
          397.74980993171596,
          406.3394366344814,
          396.75359650816296,
          399.41494446079435,
          401.8285563518339,
          425.15011246344136,
          401.8143923074995,
          396.9006405726497,
          419.76807233129455,
          411.28793984106545,
          406.3167621259751,
          380.92234565711965,
          407.1593439549315,
          407.3369878182107,
          410.18644557479394,
          412.78661152211157,
          411.28793984106545,
          406.5821834488908,
          407.8326193479226,
          404.9995130053662,
          401.9243953036084,
          407.7213817743335,
          415.52757442995886,
          402.74650247295796,
          403.37379300477335,
          410.63401324033714,
          393.0622590958392,
          406.46714943966447,
          397.07115342950294,
          415.4474177551296,
          404.05203641855707,
          406.04209137792793,
          398.0780361353011,
          404.89938310591
         ],
         "z": [
          20.255773805146344,
          39.776447095958716,
          48.895557342460464,
          -40.27835810032413,
          -30.04001134938955,
          59.17851741378471,
          68.30172817264699,
          78.70015212600433,
          86.92483680619924,
          98.98083427490388,
          86.71436504637794,
          77.95062686766144,
          67.8091676329404,
          59.17851741378471,
          49.953393919580996,
          40.27835810032413,
          19.784709298049915,
          59.74212234153504,
          67.64498078637153,
          78.70015212600433,
          98.04705281948027,
          81.44841140659496,
          59.74212234153504,
          49.83585652212316,
          38.772625087227894,
          29.663334091089997,
          18.779771682910873,
          -68.30172817264699,
          -57.48770263053372,
          -47.48510857296641,
          -38.772625087227894,
          28.10954040060433,
          37.64332532740573,
          78.5127708114186,
          68.46591501921586,
          59.92999065078514,
          49.013094739918294,
          -29.098318203640666,
          -38.396191833953836,
          -47.95525816279776,
          -58.051307558284044,
          -66.98823340009608,
          -58.42704417678427,
          -48.895557342460464,
          -38.86673340054641,
          -28.53330231619133,
          27.403270541292663,
          38.52166958504519,
          59.17851741378471,
          68.30172817264699,
          96.17948990863302,
          87.55625208566316,
          76.45157635097564,
          67.64498078637153,
          58.61491248603438,
          46.54480939330371,
          36.89045882085761,
          26.838254653843332,
          18.34011147628754,
          9.32966687410962,
          0,
          -18.46572867817992,
          -28.250794372466665,
          -38.772625087227894,
          -48.307870355171275,
          -54.10607306403173,
          -63.211935929012235,
          -74.20300057594694,
          -74.20300057594694,
          -65.01799124126973,
          -53.82427060015657,
          -45.60451021364101,
          -37.92565026736127,
          -27.120762597567996,
          -17.71202546682564,
          -8.858471577437417,
          0,
          9.141188755440739,
          18.088877072502783,
          27.120762597567996,
          35.761159061035436,
          47.48510857296641,
          55.51508538340756,
          62.555188542736786,
          81.6630428106666,
          90.5768011760913,
          72.14180611550397,
          62.22681484959906,
          56.924097702783385,
          49.36570693229181,
          35.384725807761384,
          26.838254653843332,
          18.088877072502783,
          9.046949696106298,
          0,
          -9.046949696106298,
          -18.088877072502783,
          -26.273238766393998,
          -44.42913623906263,
          -53.5424681362814,
          -61.73425430989247,
          -71.20489954257535,
          -82.71540160977312,
          -91.51058263151491,
          -90.5768011760913,
          -80.82115577138137,
          -70.45537428423245,
          -60.42075953734157,
          -52.41525828078074,
          -43.25376226448425,
          -34.63185930121327,
          -25.708222878944664,
          -17.27236526020231,
          -9.046949696106298,
          0,
          9.046949696106298,
          18.088877072502783,
          27.403270541292663,
          35.008292554487326,
          43.7239118543156,
          52.41525828078074,
          61.57006746332361,
          72.89133137384687,
          83.76776040887965,
          91.51058263151491,
          84.18870392852227,
          71.20489954257535,
          60.42075953734157,
          51.851653353030414,
          42.7836126746529,
          34.63185930121327,
          25.708222878944664,
          17.335173861148498,
          8.858471577437417,
          0,
          -9.141188755440739,
          -15.827767438439933,
          -23.730667272871997,
          -33.87899279466515,
          -42.31346308482155,
          -51.28804842528008,
          -58.450517378515215,
          -65.95822273417505,
          -77.45360761424048,
          -84.97411244354956,
          -86.8416753543968,
          -77.45360761424048,
          -65.95822273417505,
          -58.450517378515215,
          -50.16083856977942,
          -41.8433134949902,
          -32.373259781568926,
          -24.29568316032133,
          -16.016193241278504,
          -9.046949696106298,
          0,
          9.046949696106298,
          17.52359966398707,
          25.708222878944664,
          34.63185930121327,
          43.25376226448425,
          51.28804842528008,
          61.07750692361702,
          69.14370508213237,
          79.97926873209616,
          93.37814554236216,
          92.44436408693853,
          85.87247800709271,
          68.95632376754665,
          61.73425430989247,
          52.978863208531074,
          43.7239118543156,
          34.25542604793921,
          25.99073082266933,
          17.146748058309928,
          8.858471577437417,
          0,
          -9.046949696106298,
          -16.534364199084575,
          -24.860699047770666,
          -33.50255954139109,
          -42.31346308482155,
          -50.72444349752975,
          -59.10726476479066,
          -68.20679850920375,
          -78.29549465352571,
          -86.8416753543968,
          -87.77545680982043,
          -78.29549465352571,
          -67.45727325086085,
          -59.10726476479066,
          -50.72444349752975,
          -42.7836126746529,
          -35.384725807761384,
          -26.838254653843332,
          -18.088877072502783,
          -9.141188755440739,
          0,
          8.952710636771856,
          17.146748058309928,
          25.708222878944664,
          34.25542604793921,
          42.31346308482155,
          51.851653353030414,
          69.83413874062305,
          75.2023675870708,
          84.18870392852227,
          94.62318748292698,
          99.91461573032751,
          87.2756230725681,
          75.70205109263274,
          52.79099489928097,
          42.7836126746529,
          33.87899279466515,
          25.425714935219997,
          17.429386762567784,
          8.952710636771856,
          0,
          -9.046949696106298,
          -17.429386762567784,
          -26.555746710118665,
          -35.008292554487326,
          -44.19406144414695,
          -52.978863208531074,
          -59.10726476479066,
          -68.20679850920375,
          -75.76983353567005,
          -87.77545680982043,
          -86.53041486925561,
          -75.76983353567005,
          -69.14370508213237,
          -61.73425430989247,
          -51.851653353030414,
          -43.7239118543156,
          -35.008292554487326,
          -26.273238766393998,
          -17.52359966398707,
          -8.952710636771856,
          0,
          8.858471577437417,
          17.71202546682564,
          26.273238766393998,
          34.63185930121327,
          41.8433134949902,
          54.10607306403173,
          77.20110160931854,
          85.87247800709271,
          95.2457084532094,
          98.04705281948027,
          90.08191320351882,
          79.63705869893296,
          62.39100169616792,
          55.98475615653283,
          49.13063213737613,
          35.008292554487326,
          25.99073082266933,
          17.52359966398707,
          8.858471577437417,
          0,
          -8.952710636771856,
          -17.52359966398707,
          -26.273238766393998,
          -35.008292554487326,
          -44.19406144414695,
          -52.978863208531074,
          -63.047749082443374,
          -73.45347531760405,
          -79.97926873209616,
          -74.20300057594694,
          -65.83892547411405,
          -55.796887847282726,
          -43.25376226448425,
          -34.63185930121327,
          -26.273238766393998,
          -17.52359966398707,
          -9.5181449927785,
          0,
          9.046949696106298,
          17.39798246209469,
          25.56696890708233,
          35.008292554487326,
          43.84144925177344,
          58.051307558284044,
          70.27197033147334,
          77.20110160931854,
          86.71436504637794,
          99.91461573032751,
          98.28049818333616,
          90.92380024280405,
          78.45031037322337,
          71.7496519505931,
          59.17851741378471,
          50.30600611195451,
          40.654791353598185,
          17.288067410438856,
          -8.858471577437417,
          -17.71202546682564,
          -25.99073082266933,
          -35.384725807761384,
          -43.84144925177344,
          -61.73425430989247,
          -71.20489954257535,
          -68.30172817264699,
          -59.17851741378471,
          -50.30600611195451,
          -38.396191833953836,
          -29.38082614736533,
          47.95525816279776,
          58.051307558284044,
          68.30172817264699,
          82.82254104689028,
          98.51394354719207,
          97.81360745562436,
          82.19793666493786,
          70.27197033147334,
          49.36570693229181,
          27.68577848501733,
          -29.59270710515883,
          -39.52549159377601,
          -49.83585652212316,
          -60.30572726928537,
          -70.27197033147334,
          -59.74212234153504,
          -49.83585652212316,
          -39.52549159377601,
          -29.38082614736533,
          29.80458806295233,
          50.77615570178586,
          59.17851741378471,
          89.66096968387622,
          101.78217864117475,
          98.04705281948027,
          90.92380024280405,
          78.70015212600433,
          51.08958876167343,
          60.16482603734779,
          70.70980192232365,
          79.44967738434723,
          91.20442925589911
         ]
        }
       ],
       "layout": {
        "coloraxis": {
         "cmax": 525.1506024431151,
         "cmin": 235.15060244311508,
         "colorbar": {
          "title": {
           "text": "Depth"
          }
         },
         "colorscale": [
          [
           0,
           "rgb(255,0,0)"
          ],
          [
           0.125,
           "rgb(255,111,0)"
          ],
          [
           0.25,
           "rgb(255,234,0)"
          ],
          [
           0.375,
           "rgb(151,255,0)"
          ],
          [
           0.5,
           "rgb(44,255,150)"
          ],
          [
           0.625,
           "rgb(0,152,255)"
          ],
          [
           0.75,
           "rgb(0,25,255)"
          ],
          [
           0.875,
           "rgb(0,0,200)"
          ],
          [
           1,
           "rgb(150,0,90)"
          ]
         ]
        },
        "legend": {
         "tracegroupgap": 0
        },
        "scene": {
         "domain": {
          "x": [
           0,
           1
          ],
          "y": [
           0,
           1
          ]
         },
         "xaxis": {
          "title": {
           "text": "X (mm)"
          }
         },
         "yaxis": {
          "title": {
           "text": "Y (mm)"
          }
         },
         "zaxis": {
          "title": {
           "text": "Z (mm)"
          }
         }
        },
        "template": {
         "data": {
          "bar": [
           {
            "error_x": {
             "color": "#2a3f5f"
            },
            "error_y": {
             "color": "#2a3f5f"
            },
            "marker": {
             "line": {
              "color": "#E5ECF6",
              "width": 0.5
             }
            },
            "type": "bar"
           }
          ],
          "barpolar": [
           {
            "marker": {
             "line": {
              "color": "#E5ECF6",
              "width": 0.5
             }
            },
            "type": "barpolar"
           }
          ],
          "carpet": [
           {
            "aaxis": {
             "endlinecolor": "#2a3f5f",
             "gridcolor": "white",
             "linecolor": "white",
             "minorgridcolor": "white",
             "startlinecolor": "#2a3f5f"
            },
            "baxis": {
             "endlinecolor": "#2a3f5f",
             "gridcolor": "white",
             "linecolor": "white",
             "minorgridcolor": "white",
             "startlinecolor": "#2a3f5f"
            },
            "type": "carpet"
           }
          ],
          "choropleth": [
           {
            "colorbar": {
             "outlinewidth": 0,
             "ticks": ""
            },
            "type": "choropleth"
           }
          ],
          "contour": [
           {
            "colorbar": {
             "outlinewidth": 0,
             "ticks": ""
            },
            "colorscale": [
             [
              0,
              "#0d0887"
             ],
             [
              0.1111111111111111,
              "#46039f"
             ],
             [
              0.2222222222222222,
              "#7201a8"
             ],
             [
              0.3333333333333333,
              "#9c179e"
             ],
             [
              0.4444444444444444,
              "#bd3786"
             ],
             [
              0.5555555555555556,
              "#d8576b"
             ],
             [
              0.6666666666666666,
              "#ed7953"
             ],
             [
              0.7777777777777778,
              "#fb9f3a"
             ],
             [
              0.8888888888888888,
              "#fdca26"
             ],
             [
              1,
              "#f0f921"
             ]
            ],
            "type": "contour"
           }
          ],
          "contourcarpet": [
           {
            "colorbar": {
             "outlinewidth": 0,
             "ticks": ""
            },
            "type": "contourcarpet"
           }
          ],
          "heatmap": [
           {
            "colorbar": {
             "outlinewidth": 0,
             "ticks": ""
            },
            "colorscale": [
             [
              0,
              "#0d0887"
             ],
             [
              0.1111111111111111,
              "#46039f"
             ],
             [
              0.2222222222222222,
              "#7201a8"
             ],
             [
              0.3333333333333333,
              "#9c179e"
             ],
             [
              0.4444444444444444,
              "#bd3786"
             ],
             [
              0.5555555555555556,
              "#d8576b"
             ],
             [
              0.6666666666666666,
              "#ed7953"
             ],
             [
              0.7777777777777778,
              "#fb9f3a"
             ],
             [
              0.8888888888888888,
              "#fdca26"
             ],
             [
              1,
              "#f0f921"
             ]
            ],
            "type": "heatmap"
           }
          ],
          "heatmapgl": [
           {
            "colorbar": {
             "outlinewidth": 0,
             "ticks": ""
            },
            "colorscale": [
             [
              0,
              "#0d0887"
             ],
             [
              0.1111111111111111,
              "#46039f"
             ],
             [
              0.2222222222222222,
              "#7201a8"
             ],
             [
              0.3333333333333333,
              "#9c179e"
             ],
             [
              0.4444444444444444,
              "#bd3786"
             ],
             [
              0.5555555555555556,
              "#d8576b"
             ],
             [
              0.6666666666666666,
              "#ed7953"
             ],
             [
              0.7777777777777778,
              "#fb9f3a"
             ],
             [
              0.8888888888888888,
              "#fdca26"
             ],
             [
              1,
              "#f0f921"
             ]
            ],
            "type": "heatmapgl"
           }
          ],
          "histogram": [
           {
            "marker": {
             "colorbar": {
              "outlinewidth": 0,
              "ticks": ""
             }
            },
            "type": "histogram"
           }
          ],
          "histogram2d": [
           {
            "colorbar": {
             "outlinewidth": 0,
             "ticks": ""
            },
            "colorscale": [
             [
              0,
              "#0d0887"
             ],
             [
              0.1111111111111111,
              "#46039f"
             ],
             [
              0.2222222222222222,
              "#7201a8"
             ],
             [
              0.3333333333333333,
              "#9c179e"
             ],
             [
              0.4444444444444444,
              "#bd3786"
             ],
             [
              0.5555555555555556,
              "#d8576b"
             ],
             [
              0.6666666666666666,
              "#ed7953"
             ],
             [
              0.7777777777777778,
              "#fb9f3a"
             ],
             [
              0.8888888888888888,
              "#fdca26"
             ],
             [
              1,
              "#f0f921"
             ]
            ],
            "type": "histogram2d"
           }
          ],
          "histogram2dcontour": [
           {
            "colorbar": {
             "outlinewidth": 0,
             "ticks": ""
            },
            "colorscale": [
             [
              0,
              "#0d0887"
             ],
             [
              0.1111111111111111,
              "#46039f"
             ],
             [
              0.2222222222222222,
              "#7201a8"
             ],
             [
              0.3333333333333333,
              "#9c179e"
             ],
             [
              0.4444444444444444,
              "#bd3786"
             ],
             [
              0.5555555555555556,
              "#d8576b"
             ],
             [
              0.6666666666666666,
              "#ed7953"
             ],
             [
              0.7777777777777778,
              "#fb9f3a"
             ],
             [
              0.8888888888888888,
              "#fdca26"
             ],
             [
              1,
              "#f0f921"
             ]
            ],
            "type": "histogram2dcontour"
           }
          ],
          "mesh3d": [
           {
            "colorbar": {
             "outlinewidth": 0,
             "ticks": ""
            },
            "type": "mesh3d"
           }
          ],
          "parcoords": [
           {
            "line": {
             "colorbar": {
              "outlinewidth": 0,
              "ticks": ""
             }
            },
            "type": "parcoords"
           }
          ],
          "pie": [
           {
            "automargin": true,
            "type": "pie"
           }
          ],
          "scatter": [
           {
            "marker": {
             "colorbar": {
              "outlinewidth": 0,
              "ticks": ""
             }
            },
            "type": "scatter"
           }
          ],
          "scatter3d": [
           {
            "line": {
             "colorbar": {
              "outlinewidth": 0,
              "ticks": ""
             }
            },
            "marker": {
             "colorbar": {
              "outlinewidth": 0,
              "ticks": ""
             }
            },
            "type": "scatter3d"
           }
          ],
          "scattercarpet": [
           {
            "marker": {
             "colorbar": {
              "outlinewidth": 0,
              "ticks": ""
             }
            },
            "type": "scattercarpet"
           }
          ],
          "scattergeo": [
           {
            "marker": {
             "colorbar": {
              "outlinewidth": 0,
              "ticks": ""
             }
            },
            "type": "scattergeo"
           }
          ],
          "scattergl": [
           {
            "marker": {
             "colorbar": {
              "outlinewidth": 0,
              "ticks": ""
             }
            },
            "type": "scattergl"
           }
          ],
          "scattermapbox": [
           {
            "marker": {
             "colorbar": {
              "outlinewidth": 0,
              "ticks": ""
             }
            },
            "type": "scattermapbox"
           }
          ],
          "scatterpolar": [
           {
            "marker": {
             "colorbar": {
              "outlinewidth": 0,
              "ticks": ""
             }
            },
            "type": "scatterpolar"
           }
          ],
          "scatterpolargl": [
           {
            "marker": {
             "colorbar": {
              "outlinewidth": 0,
              "ticks": ""
             }
            },
            "type": "scatterpolargl"
           }
          ],
          "scatterternary": [
           {
            "marker": {
             "colorbar": {
              "outlinewidth": 0,
              "ticks": ""
             }
            },
            "type": "scatterternary"
           }
          ],
          "surface": [
           {
            "colorbar": {
             "outlinewidth": 0,
             "ticks": ""
            },
            "colorscale": [
             [
              0,
              "#0d0887"
             ],
             [
              0.1111111111111111,
              "#46039f"
             ],
             [
              0.2222222222222222,
              "#7201a8"
             ],
             [
              0.3333333333333333,
              "#9c179e"
             ],
             [
              0.4444444444444444,
              "#bd3786"
             ],
             [
              0.5555555555555556,
              "#d8576b"
             ],
             [
              0.6666666666666666,
              "#ed7953"
             ],
             [
              0.7777777777777778,
              "#fb9f3a"
             ],
             [
              0.8888888888888888,
              "#fdca26"
             ],
             [
              1,
              "#f0f921"
             ]
            ],
            "type": "surface"
           }
          ],
          "table": [
           {
            "cells": {
             "fill": {
              "color": "#EBF0F8"
             },
             "line": {
              "color": "white"
             }
            },
            "header": {
             "fill": {
              "color": "#C8D4E3"
             },
             "line": {
              "color": "white"
             }
            },
            "type": "table"
           }
          ]
         },
         "layout": {
          "annotationdefaults": {
           "arrowcolor": "#2a3f5f",
           "arrowhead": 0,
           "arrowwidth": 1
          },
          "autotypenumbers": "strict",
          "coloraxis": {
           "colorbar": {
            "outlinewidth": 0,
            "ticks": ""
           }
          },
          "colorscale": {
           "diverging": [
            [
             0,
             "#8e0152"
            ],
            [
             0.1,
             "#c51b7d"
            ],
            [
             0.2,
             "#de77ae"
            ],
            [
             0.3,
             "#f1b6da"
            ],
            [
             0.4,
             "#fde0ef"
            ],
            [
             0.5,
             "#f7f7f7"
            ],
            [
             0.6,
             "#e6f5d0"
            ],
            [
             0.7,
             "#b8e186"
            ],
            [
             0.8,
             "#7fbc41"
            ],
            [
             0.9,
             "#4d9221"
            ],
            [
             1,
             "#276419"
            ]
           ],
           "sequential": [
            [
             0,
             "#0d0887"
            ],
            [
             0.1111111111111111,
             "#46039f"
            ],
            [
             0.2222222222222222,
             "#7201a8"
            ],
            [
             0.3333333333333333,
             "#9c179e"
            ],
            [
             0.4444444444444444,
             "#bd3786"
            ],
            [
             0.5555555555555556,
             "#d8576b"
            ],
            [
             0.6666666666666666,
             "#ed7953"
            ],
            [
             0.7777777777777778,
             "#fb9f3a"
            ],
            [
             0.8888888888888888,
             "#fdca26"
            ],
            [
             1,
             "#f0f921"
            ]
           ],
           "sequentialminus": [
            [
             0,
             "#0d0887"
            ],
            [
             0.1111111111111111,
             "#46039f"
            ],
            [
             0.2222222222222222,
             "#7201a8"
            ],
            [
             0.3333333333333333,
             "#9c179e"
            ],
            [
             0.4444444444444444,
             "#bd3786"
            ],
            [
             0.5555555555555556,
             "#d8576b"
            ],
            [
             0.6666666666666666,
             "#ed7953"
            ],
            [
             0.7777777777777778,
             "#fb9f3a"
            ],
            [
             0.8888888888888888,
             "#fdca26"
            ],
            [
             1,
             "#f0f921"
            ]
           ]
          },
          "colorway": [
           "#636efa",
           "#EF553B",
           "#00cc96",
           "#ab63fa",
           "#FFA15A",
           "#19d3f3",
           "#FF6692",
           "#B6E880",
           "#FF97FF",
           "#FECB52"
          ],
          "font": {
           "color": "#2a3f5f"
          },
          "geo": {
           "bgcolor": "white",
           "lakecolor": "white",
           "landcolor": "#E5ECF6",
           "showlakes": true,
           "showland": true,
           "subunitcolor": "white"
          },
          "hoverlabel": {
           "align": "left"
          },
          "hovermode": "closest",
          "mapbox": {
           "style": "light"
          },
          "paper_bgcolor": "white",
          "plot_bgcolor": "#E5ECF6",
          "polar": {
           "angularaxis": {
            "gridcolor": "white",
            "linecolor": "white",
            "ticks": ""
           },
           "bgcolor": "#E5ECF6",
           "radialaxis": {
            "gridcolor": "white",
            "linecolor": "white",
            "ticks": ""
           }
          },
          "scene": {
           "xaxis": {
            "backgroundcolor": "#E5ECF6",
            "gridcolor": "white",
            "gridwidth": 2,
            "linecolor": "white",
            "showbackground": true,
            "ticks": "",
            "zerolinecolor": "white"
           },
           "yaxis": {
            "backgroundcolor": "#E5ECF6",
            "gridcolor": "white",
            "gridwidth": 2,
            "linecolor": "white",
            "showbackground": true,
            "ticks": "",
            "zerolinecolor": "white"
           },
           "zaxis": {
            "backgroundcolor": "#E5ECF6",
            "gridcolor": "white",
            "gridwidth": 2,
            "linecolor": "white",
            "showbackground": true,
            "ticks": "",
            "zerolinecolor": "white"
           }
          },
          "shapedefaults": {
           "line": {
            "color": "#2a3f5f"
           }
          },
          "ternary": {
           "aaxis": {
            "gridcolor": "white",
            "linecolor": "white",
            "ticks": ""
           },
           "baxis": {
            "gridcolor": "white",
            "linecolor": "white",
            "ticks": ""
           },
           "bgcolor": "#E5ECF6",
           "caxis": {
            "gridcolor": "white",
            "linecolor": "white",
            "ticks": ""
           }
          },
          "title": {
           "x": 0.05
          },
          "xaxis": {
           "automargin": true,
           "gridcolor": "white",
           "linecolor": "white",
           "ticks": "",
           "title": {
            "standoff": 15
           },
           "zerolinecolor": "white",
           "zerolinewidth": 2
          },
          "yaxis": {
           "automargin": true,
           "gridcolor": "white",
           "linecolor": "white",
           "ticks": "",
           "title": {
            "standoff": 15
           },
           "zerolinecolor": "white",
           "zerolinewidth": 2
          }
         }
        },
        "title": {
         "text": "ٌRadar Point Cloud"
        }
       }
      }
     },
     "metadata": {}
    }
   ],
   "source": [
    "# plot_3D(\"waleed2_12_7\",'y')\\\n",
    "plot_3D_threshold(\"ta7a_14_7_0\",'y',90)\n",
    "# points_to_image(\"gedo_13_7\")"
   ]
  },
  {
   "cell_type": "code",
   "execution_count": null,
   "metadata": {},
   "outputs": [],
   "source": []
  },
  {
   "cell_type": "code",
   "execution_count": null,
   "metadata": {},
   "outputs": [],
   "source": [
    "import numpy as np\n",
    "y = 1184*np.cos((np.pi*.45*75)/180)*np.cos((np.pi*.45*50)/180)\n",
    "print(y)"
   ]
  },
  {
   "cell_type": "code",
   "execution_count": null,
   "metadata": {},
   "outputs": [],
   "source": []
  }
 ],
 "metadata": {
  "kernelspec": {
   "name": "python3",
   "display_name": "Python 3.7.9 64-bit ('tensorflow': conda)"
  },
  "language_info": {
   "codemirror_mode": {
    "name": "ipython",
    "version": 3
   },
   "file_extension": ".py",
   "mimetype": "text/x-python",
   "name": "python",
   "nbconvert_exporter": "python",
   "pygments_lexer": "ipython3",
   "version": "3.7.9"
  },
  "interpreter": {
   "hash": "78f5414a2b82b24a0f75db7369e80ac59b30f4e57f7ac86c9d8f1053b13985a0"
  }
 },
 "nbformat": 4,
 "nbformat_minor": 4
}