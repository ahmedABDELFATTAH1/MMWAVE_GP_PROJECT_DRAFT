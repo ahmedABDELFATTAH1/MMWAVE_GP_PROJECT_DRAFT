{
 "cells": [
  {
   "cell_type": "code",
   "execution_count": 2,
   "metadata": {},
   "outputs": [],
   "source": [
    "import numpy as np\n",
    "import pandas as pd\n",
    "import plotly.express as px\n",
    "\n",
    "color = px.colors.sequential.Rainbow[::-1]\n",
    "marker_size = 2\n",
    "\n",
    "def plot_3D (exp_name , depth_axis):\n",
    "    my_sample_x = np.loadtxt(\"3D_Experements/\"+exp_name+\"_x.txt\")\n",
    "    my_sample_y = np.loadtxt(\"3D_Experements/\"+exp_name+\"_y.txt\")\n",
    "    my_sample_z = np.loadtxt(\"3D_Experements/\"+exp_name+\"_z.txt\")\n",
    "    df = pd.DataFrame(my_sample_x,columns=['X (mm)'])\n",
    "    df['Y (mm)'] = my_sample_y\n",
    "    df['Z (mm)'] = my_sample_z\n",
    "    df.head()\n",
    "    min_depth = 0\n",
    "    max_depth = 0\n",
    "    if depth_axis == 'x':\n",
    "        df['Depth'] = my_sample_x\n",
    "        max_depth = np.amax(my_sample_x)\n",
    "        min_depth = np.amin(my_sample_x)\n",
    "\n",
    "    elif depth_axis == 'y':\n",
    "        df['Depth'] = my_sample_y\n",
    "        max_depth = np.amax(my_sample_y)\n",
    "        min_depth = np.amin(my_sample_y)\n",
    "\n",
    "    elif depth_axis == 'z':\n",
    "        df['Depth'] = my_sample_z\n",
    "        max_depth = np.amax(my_sample_z)\n",
    "        min_depth = np.amin(my_sample_z)\n",
    "        \n",
    "\n",
    "    else:\n",
    "        print(\"invalid depth axis\")\n",
    "        return\n",
    "\n",
    "    fig = px.scatter_3d(df, x='X (mm)', y='Y (mm)', z='Z (mm)', color='Depth', title=\"ٌRadar Point Cloud\" , range_color=[min_depth,max_depth],color_continuous_scale=color , opacity=1)\n",
    "    fig.update_traces(marker=dict(size=marker_size, line=dict(width=0))) \n",
    "    fig.show()\n",
    "\n"
   ]
  },
  {
   "cell_type": "code",
   "execution_count": 3,
   "metadata": {},
   "outputs": [],
   "source": [
    "import numpy as np\n",
    "import pandas as pd\n",
    "import plotly.express as px\n",
    "\n",
    "color = px.colors.sequential.Rainbow[::-1]\n",
    "marker_size = 2\n",
    "\n",
    "def plot_3D (exp_name , depth_axis):\n",
    "    dist = np.loadtxt(\"3D_Experements/\"+exp_name+\"_x.txt\")\n",
    "    upper_angle = np.loadtxt(\"3D_Experements/\"+exp_name+\"_y.txt\")\n",
    "    lower_angle = np.loadtxt(\"3D_Experements/\"+exp_name+\"_z.txt\")\n",
    "\n",
    "    # print(\"print upper_angle = \"+upper_angle)\n",
    "    #x , y , z = np.array(dist)*np.cos(uAngel)*np.sin(lAngel) , np.array(dist)*np.cos(uAngel)*np.cos(lAngel) , np.array(dist)*np.sin(uAngel)\n",
    "\n",
    "    my_sample_x = np.array(dist)*np.cos(upper_angle)*np.sin(lower_angle)\n",
    "    my_sample_y =  np.array(dist)*np.cos(upper_angle)*np.cos(lower_angle)\n",
    "    my_sample_z =  np.array(dist)*np.sin(upper_angle)\n",
    "\n",
    "    df = pd.DataFrame(my_sample_x,columns=['X (mm)'])\n",
    "    df['Y (mm)'] = my_sample_y\n",
    "    df['Z (mm)'] = my_sample_z\n",
    "    df.head()\n",
    "    min_depth = 0\n",
    "    max_depth = 0\n",
    "    if depth_axis == 'x':\n",
    "        df['Depth'] = my_sample_x\n",
    "        max_depth = np.amax(my_sample_x)\n",
    "        min_depth = np.amin(my_sample_x)\n",
    "\n",
    "    elif depth_axis == 'y':\n",
    "        df['Depth'] = my_sample_y\n",
    "        max_depth = np.amax(my_sample_y)\n",
    "        min_depth = np.amin(my_sample_y)\n",
    "\n",
    "    elif depth_axis == 'z':\n",
    "        df['Depth'] = my_sample_z\n",
    "        max_depth = np.amax(my_sample_z)\n",
    "        min_depth = np.amin(my_sample_z)\n",
    "        \n",
    "\n",
    "    else:\n",
    "        print(\"invalid depth axis\")\n",
    "        return\n",
    "   \n",
    "\n",
    "    fig = px.scatter_3d(df, x='X (mm)', y='Y (mm)', z='Z (mm)', color='Depth', title=\"ٌRadar Point Cloud\" , range_color=[min_depth-200,max_depth+200],color_continuous_scale=color , opacity=1)\n",
    "    fig.update_traces(marker=dict(size=marker_size, line=dict(width=0))) \n",
    "    fig.show()\n",
    "\n"
   ]
  },
  {
   "cell_type": "markdown",
   "metadata": {},
   "source": [
    "# 1 ) Corner mapping experement\n",
    "![title](img/corner.jpg)\n"
   ]
  },
  {
   "cell_type": "code",
   "execution_count": null,
   "metadata": {},
   "outputs": [],
   "source": [
    "plot_3D(\"3D_corner\",'y')\n",
    "plot_3D(\"3D_corner\",'z')"
   ]
  },
  {
   "cell_type": "code",
   "execution_count": null,
   "metadata": {},
   "outputs": [],
   "source": [
    "plot_3D(\"3D_corner(1)\",'y')\n",
    "plot_3D(\"3D_corner(1)\",'z')"
   ]
  },
  {
   "cell_type": "markdown",
   "metadata": {},
   "source": [
    "# 2 ) Cylinder mapping experement\n",
    "![title](img/cylinder.jpg)\n"
   ]
  },
  {
   "cell_type": "code",
   "execution_count": null,
   "metadata": {},
   "outputs": [],
   "source": [
    "plot_3D(\"3D_cylinder\",'y')\n",
    "plot_3D(\"3D_cylinder\",'z')"
   ]
  },
  {
   "cell_type": "code",
   "execution_count": null,
   "metadata": {},
   "outputs": [],
   "source": [
    "plot_3D(\"3D_cylinder(1)\",'y')\n",
    "plot_3D(\"3D_cylinder(1)\",'z')"
   ]
  },
  {
   "cell_type": "markdown",
   "metadata": {},
   "source": [
    "# 3 ) Body mapping experement\n",
    "![title](img/ezzat_body.jpg)\n"
   ]
  },
  {
   "cell_type": "code",
   "execution_count": null,
   "metadata": {},
   "outputs": [],
   "source": [
    "plot_3D(\"3D_ezzat_body\",'y')\n",
    "plot_3D(\"3D_ezzat_body\",'z')"
   ]
  },
  {
   "cell_type": "markdown",
   "metadata": {},
   "source": [
    "# 4 ) Face mapping experement\n",
    "![title](img/ezzat_face.jpg)\n"
   ]
  },
  {
   "cell_type": "code",
   "execution_count": null,
   "metadata": {},
   "outputs": [],
   "source": [
    "plot_3D(\"3D_ezzat_face\",'y')\n",
    "plot_3D(\"3D_ezzat_face\",'z')"
   ]
  },
  {
   "cell_type": "code",
   "execution_count": null,
   "metadata": {},
   "outputs": [],
   "source": [
    "plot_3D(\"waleed_face\",'y')\n",
    "plot_3D(\"waleed_face\",'z')"
   ]
  },
  {
   "cell_type": "code",
   "execution_count": null,
   "metadata": {},
   "outputs": [],
   "source": [
    "plot_3D(\"wall\",'y')\n",
    "plot_3D(\"wall\",'z')"
   ]
  },
  {
   "cell_type": "code",
   "execution_count": null,
   "metadata": {},
   "outputs": [],
   "source": [
    "#50\n",
    "plot_3D(\"wall1\",'y')\n",
    "plot_3D(\"wall1\",'z')"
   ]
  },
  {
   "cell_type": "code",
   "execution_count": null,
   "metadata": {},
   "outputs": [],
   "source": [
    "#50\n",
    "plot_3D(\"wall2\",'y')\n",
    "plot_3D(\"wall2\",'z')"
   ]
  },
  {
   "cell_type": "code",
   "execution_count": null,
   "metadata": {},
   "outputs": [],
   "source": [
    "#50\n",
    "plot_3D(\"wall4\",'y')\n",
    "# plot_3D(\"wall4\",'z')"
   ]
  },
  {
   "cell_type": "code",
   "execution_count": null,
   "metadata": {},
   "outputs": [],
   "source": [
    "#50\n",
    "plot_3D(\"wall4d\",'y')\n",
    "plot_3D(\"wall4d\",'z')"
   ]
  },
  {
   "cell_type": "code",
   "execution_count": null,
   "metadata": {},
   "outputs": [],
   "source": [
    "#50\n",
    "plot_3D(\"wall7\",'y')\n",
    "plot_3D(\"wall7\",'z')"
   ]
  },
  {
   "cell_type": "code",
   "execution_count": null,
   "metadata": {},
   "outputs": [],
   "source": [
    "plot_3D(\"hello3\",'y')\n",
    "plot_3D(\"hello3\",'z')"
   ]
  },
  {
   "cell_type": "code",
   "execution_count": 4,
   "metadata": {},
   "outputs": [],
   "source": [
    "import numpy as np\n",
    "from plotly import offline\n",
    "from plotly import graph_objs as go\n",
    "import torch\n",
    "from PIL import Image\n",
    "import plotly.express as px\n",
    "import cv2\n",
    "import pandas as pd\n",
    "color = px.colors.sequential.Rainbow[::-1]\n",
    "marker_size = 3\n",
    "\n",
    "def points_to_image(exp_name):\n",
    "    dist = np.loadtxt(\"3D_Experements/\"+exp_name+\"_x.txt\")\n",
    "    upper_angle = np.loadtxt(\"3D_Experements/\"+exp_name+\"_y.txt\")\n",
    "    lower_angle = np.loadtxt(\"3D_Experements/\"+exp_name+\"_z.txt\")\n",
    "\n",
    "    print(np.amax(upper_angle*180/np.pi))\n",
    "    print(np.amin(upper_angle*180/np.pi))\n",
    "    print(np.amax(lower_angle*180/np.pi))\n",
    "    print(np.amin(lower_angle*180/np.pi))\n",
    "    \n",
    "\n",
    "    #x , y , z = np.array(dist)*np.cos(uAngel)*np.sin(lAngel) , np.array(dist)*np.cos(uAngel)*np.cos(lAngel) , np.array(dist)*np.sin(uAngel)\n",
    "\n",
    "    my_sample_x = np.array(dist)*np.cos(upper_angle)*np.sin(lower_angle)\n",
    "    my_sample_y =  np.array(dist)*np.cos(upper_angle)*np.cos(lower_angle)\n",
    "    my_sample_z =  np.array(dist)*np.sin(upper_angle)\n",
    "    \n",
    "    my_sample_x = my_sample_x[~np.isnan(my_sample_x)]\n",
    "    my_sample_y = my_sample_y[~np.isnan(my_sample_y)]\n",
    "    my_sample_z = my_sample_z[~np.isnan(my_sample_z)]\n",
    "    \n",
    "    x_min = np.min(my_sample_x)\n",
    "    x_max = np.max(my_sample_x)\n",
    "    y_min = np.min(my_sample_y)\n",
    "    y_max = np.max(my_sample_y)\n",
    "    z_min = np.min(my_sample_z)\n",
    "    z_max = np.max(my_sample_z)\n",
    "    width = 1+(x_max - x_min).astype(int)\n",
    "    hight = 1+(z_max - z_min).astype(int)\n",
    "    \n",
    "    \n",
    "    \n",
    "    normalization_factor = (1 / y_max)\n",
    "    \n",
    "    my_sample_y = 1-  my_sample_y * normalization_factor\n",
    "    print(\"img :: \",width,hight)\n",
    "    img = np.zeros((width,hight))\n",
    "    \n",
    "    for i in range(len(my_sample_x)):\n",
    "        x = (my_sample_x[i] - x_min).astype(int)\n",
    "        z = (my_sample_z[i] - z_min).astype(int)\n",
    "#         print(\"x,z :: \",x,z)\n",
    "        img[x,z] = my_sample_y[i]\n",
    "        \n",
    "#     img = Image.fromarray(img)\n",
    "    print(len(my_sample_x))\n",
    "    \n",
    "    kernel = np.ones((5,5), np.uint8)\n",
    " \n",
    "    # The first parameter is the original image,\n",
    "    # kernel is the matrix with which image is\n",
    "    # convolved and third parameter is the number\n",
    "    # of iterations, which will determine how much\n",
    "    # you want to erode/dilate a given image.\n",
    "    img_erosion = cv2.erode(img, kernel, iterations=1)\n",
    "    img_dilation = cv2.dilate(img, kernel, iterations=2)\n",
    "\n",
    "    cv2.imshow('Input', img)\n",
    "    cv2.imshow('Erosion', img_erosion)\n",
    "    cv2.imshow('Dilation', img_dilation)\n",
    "\n",
    "    cv2.waitKey(0)\n",
    "#     img.show()\n",
    "    \n",
    "def plot_3D (exp_name , depth_axis):\n",
    "    dist = np.loadtxt(\"3D_Experements/\"+exp_name+\"_x.txt\")\n",
    "    upper_angle = np.loadtxt(\"3D_Experements/\"+exp_name+\"_y.txt\")\n",
    "    lower_angle = np.loadtxt(\"3D_Experements/\"+exp_name+\"_z.txt\")\n",
    "\n",
    "    print(np.amax(upper_angle*180/np.pi))\n",
    "    print(np.amin(upper_angle*180/np.pi))\n",
    "    print(np.amax(lower_angle*180/np.pi))\n",
    "    print(np.amin(lower_angle*180/np.pi))\n",
    "    \n",
    "\n",
    "    #x , y , z = np.array(dist)*np.cos(uAngel)*np.sin(lAngel) , np.array(dist)*np.cos(uAngel)*np.cos(lAngel) , np.array(dist)*np.sin(uAngel)\n",
    "\n",
    "    my_sample_x = np.array(dist)*np.cos(upper_angle)*np.sin(lower_angle)\n",
    "    my_sample_y =  np.array(dist)*np.cos(upper_angle)*np.cos(lower_angle)\n",
    "    my_sample_z =  np.array(dist)*np.sin(upper_angle)\n",
    "    \n",
    "    my_sample_x = my_sample_x[~np.isnan(my_sample_x)]\n",
    "    my_sample_y = my_sample_y[~np.isnan(my_sample_y)]\n",
    "    my_sample_z = my_sample_z[~np.isnan(my_sample_z)]\n",
    "\n",
    "    df = pd.DataFrame(my_sample_x,columns=['X (mm)'])\n",
    "    df['Y (mm)'] = my_sample_y\n",
    "    df['Z (mm)'] = my_sample_z\n",
    "    df.head()\n",
    "    min_depth = 0\n",
    "    max_depth = 0\n",
    "    if depth_axis == 'x':\n",
    "        df['Depth'] = my_sample_x\n",
    "        max_depth = np.amax(my_sample_x)\n",
    "        min_depth = np.amin(my_sample_x)\n",
    "\n",
    "    elif depth_axis == 'y':\n",
    "        df['Depth'] = my_sample_y\n",
    "        max_depth = np.amax(my_sample_y)\n",
    "        min_depth = np.amin(my_sample_y)\n",
    "\n",
    "    elif depth_axis == 'z':\n",
    "        df['Depth'] = my_sample_z\n",
    "        max_depth = np.amax(my_sample_z)\n",
    "        min_depth = np.amin(my_sample_z)\n",
    "        \n",
    "\n",
    "    else:\n",
    "        print(\"invalid depth axis\")\n",
    "        return\n",
    "   \n",
    "\n",
    "    fig = px.scatter_3d(df, x='X (mm)', y='Y (mm)', z='Z (mm)', color='Depth', title=\"ٌRadar Point Cloud\" , range_color=[min_depth-200,max_depth+200],color_continuous_scale=color , opacity=1)\n",
    "    fig.update_traces(marker=dict(size=marker_size, line=dict(width=0))) \n",
    "    fig.show()\n",
    "    \n",
    "    \n",
    "def plot_3D_threshold (exp_name , depth_axis ,threshold):\n",
    "    dist = np.loadtxt(\"3D_Experements/\"+exp_name+\"_x.txt\")\n",
    "    upper_angle = np.loadtxt(\"3D_Experements/\"+exp_name+\"_y.txt\")\n",
    "    lower_angle = np.loadtxt(\"3D_Experements/\"+exp_name+\"_z.txt\")\n",
    "\n",
    "    print(np.amax(upper_angle*180/np.pi))\n",
    "    print(np.amin(upper_angle*180/np.pi))\n",
    "    print(np.amax(lower_angle*180/np.pi))\n",
    "    print(np.amin(lower_angle*180/np.pi))\n",
    "    \n",
    "\n",
    "    #x , y , z = np.array(dist)*np.cos(uAngel)*np.sin(lAngel) , np.array(dist)*np.cos(uAngel)*np.cos(lAngel) , np.array(dist)*np.sin(uAngel)\n",
    "\n",
    "    my_sample_x = np.array(dist)*np.cos(upper_angle)*np.sin(lower_angle)\n",
    "    my_sample_y =  np.array(dist)*np.cos(upper_angle)*np.cos(lower_angle)\n",
    "    my_sample_z =  np.array(dist)*np.sin(upper_angle)\n",
    "    my_sample_x = my_sample_x[~np.isnan(my_sample_x)]\n",
    "    my_sample_y = my_sample_y[~np.isnan(my_sample_y)]\n",
    "    my_sample_z = my_sample_z[~np.isnan(my_sample_z)]\n",
    "\n",
    "    df = pd.DataFrame()\n",
    "    \n",
    "    indx = []\n",
    "    min_depth = 0\n",
    "    max_depth = 0\n",
    "    if depth_axis == 'x':\n",
    "        min_depth = np.amin(my_sample_x)\n",
    "        max_depth = (min_depth + threshold)\n",
    "        indx = my_sample_x<= (min_depth + threshold)\n",
    "        df['Depth'] = my_sample_x[indx]\n",
    "\n",
    "    elif depth_axis == 'y':\n",
    "        min_depth = np.amin(my_sample_y)\n",
    "        max_depth = (min_depth + threshold)\n",
    "        indx = my_sample_y <= (min_depth + threshold)\n",
    "#         print(my_sample_y , (min_depth + threshold))\n",
    "#         print(type(my_sample_y),type(my_sample_y[indx]))\n",
    "        df['Depth'] = my_sample_y[indx]\n",
    "\n",
    "    elif depth_axis == 'z':\n",
    "        min_depth = np.amin(my_sample_z)\n",
    "        max_depth = (min_depth + threshold)\n",
    "        indx = my_sample_z<= (min_depth + threshold)\n",
    "        df['Depth'] = my_sample_z[indx]\n",
    "        \n",
    "\n",
    "    else:\n",
    "        print(\"invalid depth axis\")\n",
    "        return\n",
    "    df['X (mm)'] = my_sample_x[indx]\n",
    "    df['Y (mm)'] = my_sample_y[indx]\n",
    "    df['Z (mm)'] = my_sample_z[indx]\n",
    "    df.head()\n",
    "   \n",
    "\n",
    "    fig = px.scatter_3d(df, x='X (mm)', y='Y (mm)', z='Z (mm)', color='Depth', title=\"ٌRadar Point Cloud\" , range_color=[min_depth-100,max_depth+100],color_continuous_scale=color , opacity=1)\n",
    "    fig.update_traces(marker=dict(size=marker_size, line=dict(width=0))) \n",
    "    fig.show()\n",
    "\n",
    "\n",
    "def plot_2D (exp_name):\n",
    "    dist = np.loadtxt(\"3D_Experements/\"+exp_name+\"_x.txt\")\n",
    "    upper_angle = np.loadtxt(\"3D_Experements/\"+exp_name+\"_y.txt\")\n",
    "    lower_angle = np.loadtxt(\"3D_Experements/\"+exp_name+\"_z.txt\")\n",
    "\n",
    "    print(np.amax(upper_angle*180/np.pi))\n",
    "    print(np.amin(upper_angle*180/np.pi))\n",
    "    print(np.amax(lower_angle*180/np.pi))\n",
    "    print(np.amin(lower_angle*180/np.pi))\n",
    "    \n",
    "\n",
    "    #x , y , z = np.array(dist)*np.cos(uAngel)*np.sin(lAngel) , np.array(dist)*np.cos(uAngel)*np.cos(lAngel) , np.array(dist)*np.sin(uAngel)\n",
    "\n",
    "    my_sample_x = np.array(dist)*np.cos(upper_angle)*np.sin(lower_angle)\n",
    "    my_sample_y =  np.array(dist)*np.cos(upper_angle)*np.cos(lower_angle)\n",
    "    my_sample_z =  np.array(dist)*np.sin(upper_angle)\n",
    "\n",
    "    minx = np.min(my_sample_x)\n",
    "    miny = np.min(my_sample_y)\n",
    "    minz = np.min(my_sample_z)\n",
    "\n",
    "    maxx = np.max(my_sample_x)\n",
    "    maxy = np.max(my_sample_y)\n",
    "    maxz = np.max(my_sample_z)\n",
    "\n",
    "    # img =np.zeros(int(maxx-minx),int(maxz-minz))\n",
    "    # img =np.zeros((int(maxx-minx),int(maxz-minz)), dtype=np.float64)\n",
    "    # img =np.zeros(len(my_sample_x),len(my_sample_z)), dtype=np.float64)\n",
    "\n",
    "    # for i in range(len(my_sample_x) - 1):\n",
    "    #     img[int(my_sample_x[i] - minx -1)][int(my_sample_z[i] - minz -1)] = (my_sample_y[i] / maxy)*255\n",
    "    \n",
    "    trace = go.Surface(x = my_sample_x, y = my_sample_y, z =my_sample_z )\n",
    "    data = [trace]\n",
    "    layout = go.Layout(title = '3D Surface plot')\n",
    "    fig = go.Figure(data = data)\n",
    "    plot(fig)\n",
    "    offline.init_notebook_mode(connected=False)\n",
    "\n",
    "    df3 = {'x':[1, 2, 3, 4, 5],'y':[10, 20, 30, 40, 50],'z': [[5, 4, 3, 2, 1]]*5}\n",
    "    offline.iplot(dict(data=[go.Surface(x=df3['x'], y=df3['y'], z=df3['z'])]))\n"
   ]
  },
  {
   "cell_type": "code",
   "execution_count": null,
   "metadata": {},
   "outputs": [],
   "source": []
  },
  {
   "cell_type": "code",
   "execution_count": 9,
   "metadata": {},
   "outputs": [
    {
     "output_type": "stream",
     "name": "stdout",
     "text": [
      "13.5\n-13.5\n18.0\n-18.0\n"
     ]
    },
    {
     "output_type": "display_data",
     "data": {
      "application/vnd.plotly.v1+json": {
       "config": {
        "plotlyServerURL": "https://plot.ly"
       },
       "data": [
        {
         "hovertemplate": "X (mm)=%{x}<br>Y (mm)=%{y}<br>Z (mm)=%{z}<br>Depth=%{marker.color}<extra></extra>",
         "legendgroup": "",
         "marker": {
          "color": [
           425.3982245600606,
           421.8771944308485,
           438.46669334642866,
           498.0897105566205,
           442.4065044181874,
           443.7223719806974,
           444.6003391333137,
           450.11121509145715,
           459.3036272306489,
           456.0003478290397,
           718.0464595015274,
           437.3648348521682,
           449.44200725713955,
           457.20458622448115,
           465.6481174733427,
           454.9911445294561,
           429.52991956203704,
           466.4093750278117,
           465.4291786790856,
           709.8660554914143,
           469.61125923185097,
           666.3040608251683,
           475.77690924785503,
           460.8841039814708,
           713.4101859546516,
           448.91853533870193,
           448.03204089968216,
           446.7033929278582,
           449.68746997424864,
           440.20266492954164,
           443.8411794619498,
           440.73504789843804,
           448.30685849174426,
           442.93022474372367,
           446.54702282624606,
           447.8157539401699,
           462.112245251142,
           448.03716691589807,
           487.6239880058642,
           445.49328793675915,
           470.6733433418803,
           431.5085290686814,
           475.0738925056505,
           718.8412703906653,
           717.2723424994584,
           460.54137396894896,
           447.67251837053016,
           688.1573065923692,
           694.6329402166731,
           703.351006555095,
           698.9266796165289,
           722.7031503465603,
           721.6972289131737,
           719.9521688305084,
           391.2331267522561,
           730.8714777667813,
           707.7776304497178,
           483.51735266391785,
           725.7896188480531,
           465.61111542785403,
           478.25943772934136,
           452.49173389203975,
           710.0404862370049,
           450.75224945754064,
           466.1115289897693,
           715.6372933773765,
           460.60631786814366,
           459.01415517432565,
           456.93422155636125,
           481.79551998259257,
           481.4405578306922,
           473.4040449631461,
           475.3683770999226,
           488.6360009504443,
           732.4858718434538,
           726.4082496537025,
           722.23413681384,
           712.1980040986423,
           707.9422687174045,
           702.9878797878488,
           703.0116530454558,
           707.9662095198124,
           716.1140128017878,
           485.9839073490777,
           723.8575688407545,
           515.9532605822709,
           469.61773632631304,
           481.9324480646049,
           481.9324480646049,
           446.9261230164282,
           437.18177041703865,
           467.30045583390483,
           467.40504569991776,
           459.2470299489726,
           460.3714695784573,
           468.6744353636372,
           466.9160066809814,
           444.9476165963942,
           436.87162586142705,
           483.25077653110685,
           471.36692613816166,
           466.8345937977616,
           443.9739718148901,
           492.0281840665908,
           485.0842379204898,
           471.7223450533207,
           514.3092982517713,
           504.89511753711037,
           457.71313386889386,
           449.57706464486904,
           711.1389854772063,
           706.1622249803272,
           704.7436820220533,
           705.8109372317705,
           460.94656676486755,
           473.10235088631515,
           473.00476690171894,
           470.441672196835,
           401.76053360106255,
           481.79254598357045,
           477.8107894051938,
           445.5166313199902,
           440.66688281728847,
           482.900264117236,
           488.87242924919235,
           445.90859366473717,
           432.84538139627915,
           464.66616397058465,
           463.22869204080746,
           475.61472853575987,
           401.13149867398266,
           500.62216990323975,
           396.7998402233488,
           401.95985862004005,
           390.79216723562075,
           383.1949840694588,
           395.1698273216294,
           402.7551927632417,
           397.98005803964367,
           400.76783862558227,
           397.2041690153336,
           370.6533700982634,
           414.3711881489634,
           378.47595648585525,
           377.09336444143537,
           395.41080780359505,
           354.4643643008982,
           379.9814940691111,
           395.40125729848745,
           402.5558677442642,
           399.35879324295774,
           395.7557684738389,
           387.76070244406435,
           391.3716173780986,
           386.61306110092704,
           397.3881982899371,
           399.77219688521063,
           401.726279541018,
           401.9357386254365,
           466.5072549790953,
           474.51652115406614,
           477.8607315834217,
           413.745916985005,
           403.9296523483555,
           409.511913647534,
           394.77926415831865,
           395.5603904849401,
           387.95213340288433,
           383.9526268729577,
           395.5603904849401,
           402.7546028281837,
           397.58438218207186,
           412.8398652678045,
           382.22241854805225,
           383.85534176373216,
           393.809817761059,
           478.1699363535727,
           375.8360153380705,
           379.4081528998503,
           359.2012561122066,
           409.3098442386352,
           402.5558677442642,
           395.36520531052815,
           391.7582354589516,
           391.7582354589516,
           387.37802944566903,
           398.57016608342997,
           393.4143163070377,
           415.6047591380903,
           417.4802512877245,
           418.9005587622244,
           480.1137165826523,
           437.6734778849249,
           430.0078367583582,
           424.72746918421694,
           407.0848697371081,
           404.73583702781576,
           413.8992603612294,
           390.79216723562075,
           391.1782129042392,
           395.1698273216294,
           390.79216723562075,
           412.5726601677639,
           408.70383543004925,
           355.70522598388084,
           401.13149867398266,
           398.7345395395685,
           380.4168588268084,
           371.73293117646773,
           386.0512861101949,
           407.9867484557126,
           390.30943948121,
           383.9452919620647,
           404.9371355618326,
           385.84922533963436,
           394.1939012592849,
           394.1939012592849,
           389.82705240499143,
           408.9071074791055,
           399.7780875068921,
           406.07951784408715,
           423.67854647324,
           425.0463655152651,
           496.61196274356234,
           486.21005654383185,
           481.864667755047,
           488.670722440075,
           421.6985096016705,
           402.3382967873848,
           403.5349878590821,
           384.513172018253,
           389.8529764882464,
           400.7648918606909,
           408.2974919369078,
           404.524044201874,
           395.43543385230714,
           396.81567828977063,
           390.93657795206,
           388.6005385121347,
           382.02218728443927,
           388.96136541449397,
           382.9981133467838,
           393.0843222444596,
           395.04526875055814,
           396.6163532707931,
           393.85745082616097,
           398.583120747543,
           398.97686274200896,
           398.97686274200896,
           390.6903856832352,
           396.48316716500204,
           459.4466666602258,
           457.6266974635178,
           470.9228018968278,
           457.4699687197695,
           457.1496541661707,
           463.24608926237323,
           438.61640561839204,
           445.12375256165143,
           459.01415517432565,
           456.93422155636125,
           446.54218925215895,
           447.4257358100454,
           463.5823842792634,
           396.79509162886103,
           400.3282899353038,
           399.5377482782475,
           394.44749040335455,
           392.8849972254821,
           394.8054153155517,
           392.44625765856125,
           427.905665957821,
           683.2455149672195,
           688.060767282158,
           437.4300402001659,
           441.86663203007157,
           500.5319490849431,
           494.2374348187815,
           487.416686153143,
           476.18862636874394,
           456.6726990585495,
           440.6246842824413,
           431.9713012983051,
           457.85093017072313,
           456.0372820368669,
           449.92804134874206,
           709.7219395854853,
           440.3137763122081,
           435.12136265375176,
           410.99878098989353,
           545.7796945654119,
           456.44603613601896,
           458.2613098740491,
           455.7619456558273,
           495.36405130754457,
           495.8533987470015,
           477.7754102510171,
           485.043966905304,
           495.35143669796486,
           492.91972826788475,
           437.2676312563543,
           684.1329388171334,
           682.8902822601308,
           678.1112145253275,
           672.307700184058,
           677.0458669758557,
           673.547917112823,
           443.98318917119263,
           484.8831701011794,
           482.4960440458115,
           487.28764092320637,
           489.6893604803127,
           484.88848439717236,
           483.45073036475594,
           468.1360427349243,
           450.52137064519036,
           448.73675650707264,
           450.29327042935927,
           455.12527724488075,
           710.5918886667613,
           454.0663657804125,
           447.022192774409,
           445.9618504976497,
           444.4203088520319,
           450.91432181084485,
           455.09986869815117,
           444.6003391333137,
           452.6470529229583,
           446.9414178020807,
           494.95037753943683,
           710.1454201144068,
           689.4483131531297,
           692.9943799048633,
           684.5576864781849,
           670.5332891616134,
           669.5398143075737
          ],
          "coloraxis": "coloraxis",
          "line": {
           "width": 0
          },
          "opacity": 1,
          "size": 3,
          "symbol": "circle"
         },
         "mode": "markers",
         "name": "",
         "scene": "scene",
         "showlegend": false,
         "type": "scatter3d",
         "x": [
          -138.22026190207256,
          -137.07620986206206,
          -142.46646481036848,
          -161.83915745079338,
          -143.74658702701936,
          -144.17413831571287,
          -144.4594071362434,
          -146.2499992785406,
          -149.23679503845446,
          -148.1634944987112,
          -233.30743750235015,
          -142.10844928312173,
          -146.03256047229746,
          -148.55477527235004,
          -151.2982448808632,
          -147.83558446917326,
          -124.78997740267152,
          -135.50444967712772,
          -135.21967631295223,
          -206.23515380260477,
          -136.4346830305468,
          -193.5792244192478,
          -138.22596994940557,
          -133.89921004744244,
          -207.2648188859369,
          -130.42289100064883,
          -130.16534055777007,
          -129.77933263881283,
          -130.6462871633465,
          -127.89069656699276,
          -128.9477827572667,
          -128.04536811752382,
          -115.1056373142298,
          -113.72515240205774,
          -114.65378831391116,
          -114.97954309700752,
          -118.65025817204156,
          -115.03639228679369,
          -125.20056038838176,
          -114.38323517889401,
          -120.84837455857063,
          -110.79255939130607,
          -121.9782435454795,
          -184.5670682676202,
          -184.1642360525945,
          -118.2469269790195,
          -114.94276645347163,
          -176.6887654011146,
          -155.26885803113854,
          -157.21757673743,
          -156.2286224976652,
          -161.54329337565613,
          -161.31844329558038,
          -160.928376152858,
          -87.45096481578632,
          -163.36913087505047,
          -158.20704440770353,
          -108.07893326070602,
          -162.23320082436766,
          -104.0764150294067,
          -106.90365002800775,
          -101.14388581692035,
          -158.71285260313925,
          -100.75506497922241,
          -88.91552952649371,
          -136.51511479981608,
          -87.8653543396765,
          -87.56163306223891,
          -87.16486450467484,
          -91.90741081987885,
          -91.8396981680024,
          -90.30665134825719,
          -90.68136774389312,
          -93.21230235257852,
          -139.72915303510038,
          -138.56978459717536,
          -137.7735299877601,
          -135.8590352815166,
          -135.047210339603,
          -134.1021101055315,
          -111.34610720923159,
          -112.13083186347889,
          -113.42131712616897,
          -76.97228917221497,
          -114.6477759155224,
          -81.7189684109426,
          -74.38014233451875,
          -76.3306010609461,
          -76.3306010609461,
          -70.78614386037184,
          -69.24279002759258,
          -74.01312116065371,
          -74.02968656804579,
          -72.73758380917359,
          -72.91567755056825,
          -74.23073813948773,
          -58.98520891054727,
          -56.20995584569973,
          -55.189720955814806,
          -61.048770232773855,
          -59.547490799086546,
          -58.97492407161262,
          -56.08695590562502,
          -62.15761467109973,
          -61.28039027049954,
          -59.592390649726575,
          -64.97237397720035,
          -63.78308637893789,
          -57.82261570827767,
          -56.794791140212105,
          -89.83774602413143,
          -89.20903496388554,
          -66.61789179884629,
          -66.71877711913564,
          -43.57227924581906,
          -44.72133915510305,
          -44.71211475268134,
          -44.46983096912156,
          -37.97755189473951,
          -45.542804450171424,
          -45.166417636533644,
          -42.11372091297847,
          -41.65528470525311,
          -45.6475146429048,
          -46.21205046027316,
          -42.15077226333135,
          -40.91593513935942,
          -43.923884702536014,
          -29.143879022090793,
          -29.92314238676229,
          -25.23705476403147,
          -31.49647723926244,
          -24.964529913953374,
          -25.28917075440392,
          -24.586559166961727,
          -24.10858491599762,
          -24.861978194622544,
          -25.33920893737892,
          -25.038782925152397,
          -25.214175213092908,
          -24.98996812536217,
          -23.319533446176138,
          -26.07002542189153,
          -23.811688865814407,
          -11.850636394118919,
          -12.426285242452163,
          -11.139491415407367,
          -11.94139952416594,
          -12.425985105737805,
          -12.650827797043325,
          -12.550355683204854,
          -12.43712606824974,
          -12.185870996163887,
          -12.299348569540758,
          -12.149804913992105,
          -12.488427241947543,
          -12.563347416049583,
          -12.624756937461683,
          -12.631339454373816,
          -14.660581106126498,
          0,
          0,
          0,
          0,
          0,
          0,
          0,
          0,
          0,
          0,
          0,
          0,
          0,
          0,
          0,
          0,
          15.02709563377966,
          11.811122606687205,
          11.923381552047143,
          11.288354237688116,
          12.863080059205968,
          12.650827797043325,
          12.424852126372805,
          12.311498532206814,
          12.311498532206814,
          12.173845012708709,
          12.525572076280522,
          12.363542969528067,
          13.060905729556499,
          13.11984544481312,
          13.164480405370114,
          15.08818138838852,
          27.536081226877688,
          27.05379996611385,
          26.721587397209788,
          25.61160912350551,
          25.46382051223244,
          26.04033424215849,
          24.586559166961727,
          24.61084710174757,
          24.861978194622544,
          24.586559166961727,
          25.956871632407985,
          25.713465811371975,
          22.379075933160156,
          25.23705476403147,
          25.086250877669208,
          23.933800090767303,
          35.13910776202881,
          36.492590799969214,
          38.56610248140581,
          36.89510480296002,
          36.29351574067021,
          38.27782918861096,
          36.473490433561714,
          37.26229455014026,
          37.26229455014026,
          36.849505798856164,
          38.65310202379342,
          37.79015556502774,
          38.38581610813012,
          40.049414115306035,
          40.178711082794386,
          46.94365177583537,
          61.42261423742939,
          60.87366397263551,
          61.73346863066533,
          53.272910609629214,
          50.827146958216126,
          50.97832419749565,
          48.575310025407376,
          49.24988420512539,
          50.62837969178285,
          51.57996837749443,
          51.103271070528734,
          49.95511257412908,
          50.12947799601755,
          49.38677490453226,
          49.0916644940609,
          48.26062547226595,
          61.60542816904207,
          60.66094182778366,
          62.2584403790384,
          62.569023793913175,
          62.81785913635314,
          62.38089191675007,
          63.129364502406666,
          63.19172710783242,
          63.19172710783242,
          61.87927807661644,
          62.79676452952841,
          72.76920315795364,
          72.48094835532515,
          74.58684441449155,
          72.45612496096382,
          72.40539211966427,
          88.36891766465052,
          83.67055423214534,
          84.91189705094789,
          87.56163306223891,
          87.16486450467484,
          85.18247832086332,
          85.35102384091527,
          88.43306937007759,
          75.69271191845624,
          76.36670554187155,
          76.21590165550928,
          75.24488303395006,
          74.94682151937398,
          75.31316086257986,
          74.86312747086689,
          81.62737136858439,
          152.72346691587398,
          153.79980333009456,
          97.7771983995016,
          98.76889416729064,
          111.88214615661222,
          110.47515552115118,
          108.95053756119559,
          106.44076884782994,
          102.07844225570577,
          98.49128595532082,
          96.55702569171481,
          102.34180811224994,
          101.93640972367606,
          100.57083263948736,
          158.64164899048643,
          98.4217897902299,
          111.72017739322303,
          105.52655112253753,
          140.13240793922478,
          117.19542294256013,
          117.66150602060787,
          117.01977836070391,
          127.18787087073702,
          127.31351393824725,
          122.67187540924866,
          124.53812356092999,
          127.18463198949387,
          126.560275383511,
          112.27124550799878,
          175.6554833783639,
          175.3364234036008,
          174.10936736606186,
          195.32344289113806,
          196.70000759583056,
          195.68375921711785,
          128.98904039171842,
          140.87158329170282,
          140.17805906221392,
          141.5701466417299,
          142.2679106754076,
          140.87312723741337,
          140.45542107762182,
          136.00609301869565,
          130.88855770410183,
          130.37007936807515,
          130.82228846537657,
          132.22611621719722,
          206.44602783355006,
          147.53510563895136,
          145.24631508562865,
          144.90178899516113,
          144.4009117519366,
          146.51094446984666,
          147.8709110930388,
          144.4594071362434,
          147.07394293644788,
          145.22006970615652,
          160.8191263204761,
          230.74023418476267,
          224.01533647800454,
          225.1675234097995,
          222.42627554439295,
          217.869472628443,
          217.54667308065333
         ],
         "y": [
          425.3982245600606,
          421.8771944308485,
          438.46669334642866,
          498.0897105566205,
          442.4065044181874,
          443.7223719806974,
          444.6003391333137,
          450.11121509145715,
          459.3036272306489,
          456.0003478290397,
          718.0464595015274,
          437.3648348521682,
          449.44200725713955,
          457.20458622448115,
          465.6481174733427,
          454.9911445294561,
          429.52991956203704,
          466.4093750278117,
          465.4291786790856,
          709.8660554914143,
          469.61125923185097,
          666.3040608251683,
          475.77690924785503,
          460.8841039814708,
          713.4101859546516,
          448.91853533870193,
          448.03204089968216,
          446.7033929278582,
          449.68746997424864,
          440.20266492954164,
          443.8411794619498,
          440.73504789843804,
          448.30685849174426,
          442.93022474372367,
          446.54702282624606,
          447.8157539401699,
          462.112245251142,
          448.03716691589807,
          487.6239880058642,
          445.49328793675915,
          470.6733433418803,
          431.5085290686814,
          475.0738925056505,
          718.8412703906653,
          717.2723424994584,
          460.54137396894896,
          447.67251837053016,
          688.1573065923692,
          694.6329402166731,
          703.351006555095,
          698.9266796165289,
          722.7031503465603,
          721.6972289131737,
          719.9521688305084,
          391.2331267522561,
          730.8714777667813,
          707.7776304497178,
          483.51735266391785,
          725.7896188480531,
          465.61111542785403,
          478.25943772934136,
          452.49173389203975,
          710.0404862370049,
          450.75224945754064,
          466.1115289897693,
          715.6372933773765,
          460.60631786814366,
          459.01415517432565,
          456.93422155636125,
          481.79551998259257,
          481.4405578306922,
          473.4040449631461,
          475.3683770999226,
          488.6360009504443,
          732.4858718434538,
          726.4082496537025,
          722.23413681384,
          712.1980040986423,
          707.9422687174045,
          702.9878797878488,
          703.0116530454558,
          707.9662095198124,
          716.1140128017878,
          485.9839073490777,
          723.8575688407545,
          515.9532605822709,
          469.61773632631304,
          481.9324480646049,
          481.9324480646049,
          446.9261230164282,
          437.18177041703865,
          467.30045583390483,
          467.40504569991776,
          459.2470299489726,
          460.3714695784573,
          468.6744353636372,
          466.9160066809814,
          444.9476165963942,
          436.87162586142705,
          483.25077653110685,
          471.36692613816166,
          466.8345937977616,
          443.9739718148901,
          492.0281840665908,
          485.0842379204898,
          471.7223450533207,
          514.3092982517713,
          504.89511753711037,
          457.71313386889386,
          449.57706464486904,
          711.1389854772063,
          706.1622249803272,
          704.7436820220533,
          705.8109372317705,
          460.94656676486755,
          473.10235088631515,
          473.00476690171894,
          470.441672196835,
          401.76053360106255,
          481.79254598357045,
          477.8107894051938,
          445.5166313199902,
          440.66688281728847,
          482.900264117236,
          488.87242924919235,
          445.90859366473717,
          432.84538139627915,
          464.66616397058465,
          463.22869204080746,
          475.61472853575987,
          401.13149867398266,
          500.62216990323975,
          396.7998402233488,
          401.95985862004005,
          390.79216723562075,
          383.1949840694588,
          395.1698273216294,
          402.7551927632417,
          397.98005803964367,
          400.76783862558227,
          397.2041690153336,
          370.6533700982634,
          414.3711881489634,
          378.47595648585525,
          377.09336444143537,
          395.41080780359505,
          354.4643643008982,
          379.9814940691111,
          395.40125729848745,
          402.5558677442642,
          399.35879324295774,
          395.7557684738389,
          387.76070244406435,
          391.3716173780986,
          386.61306110092704,
          397.3881982899371,
          399.77219688521063,
          401.726279541018,
          401.9357386254365,
          466.5072549790953,
          474.51652115406614,
          477.8607315834217,
          413.745916985005,
          403.9296523483555,
          409.511913647534,
          394.77926415831865,
          395.5603904849401,
          387.95213340288433,
          383.9526268729577,
          395.5603904849401,
          402.7546028281837,
          397.58438218207186,
          412.8398652678045,
          382.22241854805225,
          383.85534176373216,
          393.809817761059,
          478.1699363535727,
          375.8360153380705,
          379.4081528998503,
          359.2012561122066,
          409.3098442386352,
          402.5558677442642,
          395.36520531052815,
          391.7582354589516,
          391.7582354589516,
          387.37802944566903,
          398.57016608342997,
          393.4143163070377,
          415.6047591380903,
          417.4802512877245,
          418.9005587622244,
          480.1137165826523,
          437.6734778849249,
          430.0078367583582,
          424.72746918421694,
          407.0848697371081,
          404.73583702781576,
          413.8992603612294,
          390.79216723562075,
          391.1782129042392,
          395.1698273216294,
          390.79216723562075,
          412.5726601677639,
          408.70383543004925,
          355.70522598388084,
          401.13149867398266,
          398.7345395395685,
          380.4168588268084,
          371.73293117646773,
          386.0512861101949,
          407.9867484557126,
          390.30943948121,
          383.9452919620647,
          404.9371355618326,
          385.84922533963436,
          394.1939012592849,
          394.1939012592849,
          389.82705240499143,
          408.9071074791055,
          399.7780875068921,
          406.07951784408715,
          423.67854647324,
          425.0463655152651,
          496.61196274356234,
          486.21005654383185,
          481.864667755047,
          488.670722440075,
          421.6985096016705,
          402.3382967873848,
          403.5349878590821,
          384.513172018253,
          389.8529764882464,
          400.7648918606909,
          408.2974919369078,
          404.524044201874,
          395.43543385230714,
          396.81567828977063,
          390.93657795206,
          388.6005385121347,
          382.02218728443927,
          388.96136541449397,
          382.9981133467838,
          393.0843222444596,
          395.04526875055814,
          396.6163532707931,
          393.85745082616097,
          398.583120747543,
          398.97686274200896,
          398.97686274200896,
          390.6903856832352,
          396.48316716500204,
          459.4466666602258,
          457.6266974635178,
          470.9228018968278,
          457.4699687197695,
          457.1496541661707,
          463.24608926237323,
          438.61640561839204,
          445.12375256165143,
          459.01415517432565,
          456.93422155636125,
          446.54218925215895,
          447.4257358100454,
          463.5823842792634,
          396.79509162886103,
          400.3282899353038,
          399.5377482782475,
          394.44749040335455,
          392.8849972254821,
          394.8054153155517,
          392.44625765856125,
          427.905665957821,
          683.2455149672195,
          688.060767282158,
          437.4300402001659,
          441.86663203007157,
          500.5319490849431,
          494.2374348187815,
          487.416686153143,
          476.18862636874394,
          456.6726990585495,
          440.6246842824413,
          431.9713012983051,
          457.85093017072313,
          456.0372820368669,
          449.92804134874206,
          709.7219395854853,
          440.3137763122081,
          435.12136265375176,
          410.99878098989353,
          545.7796945654119,
          456.44603613601896,
          458.2613098740491,
          455.7619456558273,
          495.36405130754457,
          495.8533987470015,
          477.7754102510171,
          485.043966905304,
          495.35143669796486,
          492.91972826788475,
          437.2676312563543,
          684.1329388171334,
          682.8902822601308,
          678.1112145253275,
          672.307700184058,
          677.0458669758557,
          673.547917112823,
          443.98318917119263,
          484.8831701011794,
          482.4960440458115,
          487.28764092320637,
          489.6893604803127,
          484.88848439717236,
          483.45073036475594,
          468.1360427349243,
          450.52137064519036,
          448.73675650707264,
          450.29327042935927,
          455.12527724488075,
          710.5918886667613,
          454.0663657804125,
          447.022192774409,
          445.9618504976497,
          444.4203088520319,
          450.91432181084485,
          455.09986869815117,
          444.6003391333137,
          452.6470529229583,
          446.9414178020807,
          494.95037753943683,
          710.1454201144068,
          689.4483131531297,
          692.9943799048633,
          684.5576864781849,
          670.5332891616134,
          669.5398143075737
         ],
         "z": [
          -107.38486737371647,
          -91.86264479650016,
          -80.46281893076367,
          -74.53675169498122,
          -51.35565759060918,
          -36.718856800631436,
          -22.045818932112763,
          -7.4347968609284525,
          7.586634261609386,
          22.611096340628475,
          59.419688497887904,
          50.77040793145694,
          67.25685471153945,
          83.90140093635186,
          101.39364767825624,
          114.85511901710545,
          107.38486737371647,
          100.5824984968302,
          84.5891173374695,
          105.2062531800617,
          53.98928105679427,
          54.60753062658008,
          23.36479955198276,
          7.539512309673924,
          -11.670536762682762,
          -22.045818932112763,
          -36.718856800631436,
          -51.35565759060918,
          -66.64628270647658,
          -80.00434133001858,
          -95.71560340827389,
          -110.18621173998734,
          -111.11999319541097,
          -94.70166693149133,
          -80.46281893076367,
          -65.8008753148511,
          -52.67246932370172,
          -36.40502041772005,
          -23.7416511576599,
          -7.22536596343751,
          7.6337562135448485,
          21.009477016500625,
          38.60187509809971,
          81.93495228131378,
          105.39412148931181,
          82.98444573486168,
          95.71560340827389,
          170.57074585738152,
          170.88200634252274,
          149.2514493823932,
          124.99245590313075,
          105.39412148931181,
          81.64232745173767,
          58.05973083860526,
          18.90538888480325,
          11.764780666553685,
          -11.393040823507263,
          -23.36479955198276,
          -58.530485412972325,
          -52.67246932370172,
          -69.7461098091034,
          -80.92129653150877,
          -150.67096044988878,
          -110.88654783155506,
          -113.92133756168182,
          -150.87374774524528,
          -81.83825173299894,
          -66.505381474539,
          -51.35565759060918,
          -38.60187509809971,
          -23.113565148198,
          -7.5709269442975655,
          7.602341578921207,
          23.459012453402043,
          58.68740360442802,
          81.64232745173767,
          104.64264825231136,
          126.53981780564543,
          149.2514493823932,
          171.81578779794637,
          170.88200634252274,
          148.44030020096716,
          126.53981780564543,
          70.02791227297857,
          80.91076537779738,
          41.11256616139075,
          22.422670537789905,
          7.66517084816849,
          -7.66517084816849,
          -21.339222171468123,
          -34.83583850316315,
          -52.23353207933754,
          -67.3507888661645,
          -81.15053533188131,
          -96.52675258969995,
          -113.92133756168182,
          -112.98755610625821,
          -92.87658127328272,
          -76.85230782489607,
          -69.32340611329066,
          -52.453000701519635,
          -37.03269318354281,
          -21.103689917919912,
          -7.790829386663055,
          7.68087816548031,
          22.422670537789905,
          40.79872977847937,
          56.18396727861517,
          65.65997408291351,
          79.0873861285284,
          148.44030020096716,
          170.88200634252274,
          169.94822488709912,
          146.81800183811504,
          80.80667713132249,
          67.63259133003967,
          52.453000701519635,
          37.189611374998506,
          19.031006086695633,
          7.602341578921207,
          -7.539512309673924,
          -21.103689917919912,
          -34.83583850316315,
          -53.550343812430086,
          -69.88701104104099,
          -78.17043092703821,
          -90.03755913829154,
          -112.05377465083458,
          -111.43125368055217,
          -98.68981707350275,
          -70.1470729139991,
          -71.38995751504187,
          -43.893724436418104,
          -31.697474674049356,
          -18.46572867817992,
          -6.031609847739139,
          6.220097655480988,
          19.031006086695633,
          31.383638291137977,
          44.33266168078228,
          56.64229523890822,
          64.8172708053374,
          85.9818132311613,
          91.04369190380311,
          90.5768011760913,
          81.92606732403105,
          61.89447610058744,
          54.10607306403173,
          43.67425581423601,
          31.697474674049356,
          18.842580283857064,
          6.220097655480988,
          -6.094439116986422,
          -18.46572867817992,
          -30.44212914240384,
          -43.893724436418104,
          -56.924097702783385,
          -70.1470729139991,
          -83.2779826264078,
          -112.05377465083458,
          -113.92133756168182,
          -98.96020013397809,
          -72.21022211735202,
          -57.48770263053372,
          -45.21053616951065,
          -31.069801908226598,
          -18.65415448101849,
          -6.094439116986422,
          6.031609847739139,
          18.65415448101849,
          31.697474674049356,
          43.893724436418104,
          58.75581371797196,
          66.70849090841091,
          79.4926197797529,
          94.54537236164168,
          114.85511901710545,
          77.8703214169008,
          66.25001330766581,
          51.1471471933425,
          45.21053616951065,
          31.697474674049356,
          18.65415448101849,
          6.157268386233705,
          -6.157268386233705,
          -18.277302875341352,
          -31.383638291137977,
          -43.45478719205392,
          -59.17851741378471,
          -72.89793851846964,
          -86.79296241258734,
          -115.32200974481727,
          -105.28385909901333,
          -89.2264099568655,
          -74.27337132070492,
          -58.051307558284044,
          -44.77159892514646,
          -32.638983822783494,
          -18.46572867817992,
          -6.157268386233705,
          6.220097655480988,
          18.46572867817992,
          32.53437169514637,
          45.21053616951065,
          50.72444349752975,
          70.1470729139991,
          82.7372165054571,
          91.51058263151491,
          89.64301972066767,
          80.30376896117895,
          71.52250571623438,
          55.796887847282726,
          42.57691270332556,
          32.011311056960736,
          18.277302875341352,
          6.220097655480988,
          -6.220097655480988,
          -18.46572867817992,
          -32.32514743987212,
          -44.33266168078228,
          -58.051307558284044,
          -74.27337132070492,
          -88.41526077543945,
          -119.75747165807947,
          -117.65646338337632,
          -100.5824984968302,
          -85.96455013970477,
          -60.493595578535476,
          -44.77159892514646,
          -32.011311056960736,
          -18.277302875341352,
          -6.172975703545525,
          6.345756193975553,
          19.407857692372776,
          32.08977015268858,
          44.00345874750915,
          56.924097702783385,
          68.77164011176382,
          81.11491814260499,
          92.44436408693853,
          94.54537236164168,
          80.30376896117895,
          69.45935651288146,
          56.924097702783385,
          44.33266168078228,
          31.383638291137977,
          19.031006086695633,
          6.345756193975553,
          -6.345756193975553,
          -18.65415448101849,
          -31.59286254641223,
          -51.35565759060918,
          -65.94177654678867,
          -83.21368453523422,
          -95.91839070363041,
          -111.11999319541097,
          -113.22100147011412,
          -92.4710066825697,
          -79.0873861285284,
          -66.505381474539,
          -51.35565759060918,
          -35.777347651897294,
          -21.48054152359705,
          -7.413853771179359,
          6.345756193975553,
          19.219431889534203,
          32.011311056960736,
          44.33266168078228,
          56.924097702783385,
          70.1470729139991,
          82.7372165054571,
          104.58352300744562,
          168.0806619762519,
          146.006852656689,
          78.22774062713134,
          64.4388300727878,
          56.622904522979354,
          39.85722062974523,
          23.55322535482133,
          7.66517084816849,
          -7.351024501932076,
          -21.29211572075848,
          -34.83583850316315,
          -51.79459483497336,
          -66.505381474539,
          -80.46281893076367,
          -150.60336468476993,
          -108.3186488291401,
          -107.85175810142829,
          -87.87449465448874,
          -98.34344535982227,
          -67.06898640228934,
          -52.23353207933754,
          -37.03269318354281,
          -24.11850276333704,
          -8.042146463652186,
          7.748943207164866,
          23.61603395576752,
          40.249516108384455,
          56.18396727861517,
          64.25096176353769,
          123.27316490033665,
          146.006852656689,
          168.0806619762519,
          168.0806619762519,
          146.006852656689,
          122.4135193989396,
          65.8008753148511,
          55.74503003425099,
          39.54338424683385,
          23.93007696049847,
          8.010731829028545,
          -7.932195242469441,
          -23.7416511576599,
          -38.36649781091618,
          -51.79459483497336,
          -66.505381474539,
          -81.83825173299894,
          -98.14905095255205,
          -177.651921894344,
          -114.62167365324954,
          -97.337901771126,
          -81.83825173299894,
          -66.505381474539,
          -52.34326639042859,
          -37.66036594936557,
          -22.045818932112763,
          -7.476683040426641,
          7.382439136555718,
          24.542460819723825,
          58.765862700155864,
          80.03289088906901,
          103.70330670606083,
          125.62286260415524,
          146.006852656689,
          169.01444343167552
         ]
        }
       ],
       "layout": {
        "coloraxis": {
         "cmax": 1454.464364300898,
         "cmin": 254.46436430089818,
         "colorbar": {
          "title": {
           "text": "Depth"
          }
         },
         "colorscale": [
          [
           0,
           "rgb(255,0,0)"
          ],
          [
           0.125,
           "rgb(255,111,0)"
          ],
          [
           0.25,
           "rgb(255,234,0)"
          ],
          [
           0.375,
           "rgb(151,255,0)"
          ],
          [
           0.5,
           "rgb(44,255,150)"
          ],
          [
           0.625,
           "rgb(0,152,255)"
          ],
          [
           0.75,
           "rgb(0,25,255)"
          ],
          [
           0.875,
           "rgb(0,0,200)"
          ],
          [
           1,
           "rgb(150,0,90)"
          ]
         ]
        },
        "legend": {
         "tracegroupgap": 0
        },
        "scene": {
         "domain": {
          "x": [
           0,
           1
          ],
          "y": [
           0,
           1
          ]
         },
         "xaxis": {
          "title": {
           "text": "X (mm)"
          }
         },
         "yaxis": {
          "title": {
           "text": "Y (mm)"
          }
         },
         "zaxis": {
          "title": {
           "text": "Z (mm)"
          }
         }
        },
        "template": {
         "data": {
          "bar": [
           {
            "error_x": {
             "color": "#2a3f5f"
            },
            "error_y": {
             "color": "#2a3f5f"
            },
            "marker": {
             "line": {
              "color": "#E5ECF6",
              "width": 0.5
             }
            },
            "type": "bar"
           }
          ],
          "barpolar": [
           {
            "marker": {
             "line": {
              "color": "#E5ECF6",
              "width": 0.5
             }
            },
            "type": "barpolar"
           }
          ],
          "carpet": [
           {
            "aaxis": {
             "endlinecolor": "#2a3f5f",
             "gridcolor": "white",
             "linecolor": "white",
             "minorgridcolor": "white",
             "startlinecolor": "#2a3f5f"
            },
            "baxis": {
             "endlinecolor": "#2a3f5f",
             "gridcolor": "white",
             "linecolor": "white",
             "minorgridcolor": "white",
             "startlinecolor": "#2a3f5f"
            },
            "type": "carpet"
           }
          ],
          "choropleth": [
           {
            "colorbar": {
             "outlinewidth": 0,
             "ticks": ""
            },
            "type": "choropleth"
           }
          ],
          "contour": [
           {
            "colorbar": {
             "outlinewidth": 0,
             "ticks": ""
            },
            "colorscale": [
             [
              0,
              "#0d0887"
             ],
             [
              0.1111111111111111,
              "#46039f"
             ],
             [
              0.2222222222222222,
              "#7201a8"
             ],
             [
              0.3333333333333333,
              "#9c179e"
             ],
             [
              0.4444444444444444,
              "#bd3786"
             ],
             [
              0.5555555555555556,
              "#d8576b"
             ],
             [
              0.6666666666666666,
              "#ed7953"
             ],
             [
              0.7777777777777778,
              "#fb9f3a"
             ],
             [
              0.8888888888888888,
              "#fdca26"
             ],
             [
              1,
              "#f0f921"
             ]
            ],
            "type": "contour"
           }
          ],
          "contourcarpet": [
           {
            "colorbar": {
             "outlinewidth": 0,
             "ticks": ""
            },
            "type": "contourcarpet"
           }
          ],
          "heatmap": [
           {
            "colorbar": {
             "outlinewidth": 0,
             "ticks": ""
            },
            "colorscale": [
             [
              0,
              "#0d0887"
             ],
             [
              0.1111111111111111,
              "#46039f"
             ],
             [
              0.2222222222222222,
              "#7201a8"
             ],
             [
              0.3333333333333333,
              "#9c179e"
             ],
             [
              0.4444444444444444,
              "#bd3786"
             ],
             [
              0.5555555555555556,
              "#d8576b"
             ],
             [
              0.6666666666666666,
              "#ed7953"
             ],
             [
              0.7777777777777778,
              "#fb9f3a"
             ],
             [
              0.8888888888888888,
              "#fdca26"
             ],
             [
              1,
              "#f0f921"
             ]
            ],
            "type": "heatmap"
           }
          ],
          "heatmapgl": [
           {
            "colorbar": {
             "outlinewidth": 0,
             "ticks": ""
            },
            "colorscale": [
             [
              0,
              "#0d0887"
             ],
             [
              0.1111111111111111,
              "#46039f"
             ],
             [
              0.2222222222222222,
              "#7201a8"
             ],
             [
              0.3333333333333333,
              "#9c179e"
             ],
             [
              0.4444444444444444,
              "#bd3786"
             ],
             [
              0.5555555555555556,
              "#d8576b"
             ],
             [
              0.6666666666666666,
              "#ed7953"
             ],
             [
              0.7777777777777778,
              "#fb9f3a"
             ],
             [
              0.8888888888888888,
              "#fdca26"
             ],
             [
              1,
              "#f0f921"
             ]
            ],
            "type": "heatmapgl"
           }
          ],
          "histogram": [
           {
            "marker": {
             "colorbar": {
              "outlinewidth": 0,
              "ticks": ""
             }
            },
            "type": "histogram"
           }
          ],
          "histogram2d": [
           {
            "colorbar": {
             "outlinewidth": 0,
             "ticks": ""
            },
            "colorscale": [
             [
              0,
              "#0d0887"
             ],
             [
              0.1111111111111111,
              "#46039f"
             ],
             [
              0.2222222222222222,
              "#7201a8"
             ],
             [
              0.3333333333333333,
              "#9c179e"
             ],
             [
              0.4444444444444444,
              "#bd3786"
             ],
             [
              0.5555555555555556,
              "#d8576b"
             ],
             [
              0.6666666666666666,
              "#ed7953"
             ],
             [
              0.7777777777777778,
              "#fb9f3a"
             ],
             [
              0.8888888888888888,
              "#fdca26"
             ],
             [
              1,
              "#f0f921"
             ]
            ],
            "type": "histogram2d"
           }
          ],
          "histogram2dcontour": [
           {
            "colorbar": {
             "outlinewidth": 0,
             "ticks": ""
            },
            "colorscale": [
             [
              0,
              "#0d0887"
             ],
             [
              0.1111111111111111,
              "#46039f"
             ],
             [
              0.2222222222222222,
              "#7201a8"
             ],
             [
              0.3333333333333333,
              "#9c179e"
             ],
             [
              0.4444444444444444,
              "#bd3786"
             ],
             [
              0.5555555555555556,
              "#d8576b"
             ],
             [
              0.6666666666666666,
              "#ed7953"
             ],
             [
              0.7777777777777778,
              "#fb9f3a"
             ],
             [
              0.8888888888888888,
              "#fdca26"
             ],
             [
              1,
              "#f0f921"
             ]
            ],
            "type": "histogram2dcontour"
           }
          ],
          "mesh3d": [
           {
            "colorbar": {
             "outlinewidth": 0,
             "ticks": ""
            },
            "type": "mesh3d"
           }
          ],
          "parcoords": [
           {
            "line": {
             "colorbar": {
              "outlinewidth": 0,
              "ticks": ""
             }
            },
            "type": "parcoords"
           }
          ],
          "pie": [
           {
            "automargin": true,
            "type": "pie"
           }
          ],
          "scatter": [
           {
            "marker": {
             "colorbar": {
              "outlinewidth": 0,
              "ticks": ""
             }
            },
            "type": "scatter"
           }
          ],
          "scatter3d": [
           {
            "line": {
             "colorbar": {
              "outlinewidth": 0,
              "ticks": ""
             }
            },
            "marker": {
             "colorbar": {
              "outlinewidth": 0,
              "ticks": ""
             }
            },
            "type": "scatter3d"
           }
          ],
          "scattercarpet": [
           {
            "marker": {
             "colorbar": {
              "outlinewidth": 0,
              "ticks": ""
             }
            },
            "type": "scattercarpet"
           }
          ],
          "scattergeo": [
           {
            "marker": {
             "colorbar": {
              "outlinewidth": 0,
              "ticks": ""
             }
            },
            "type": "scattergeo"
           }
          ],
          "scattergl": [
           {
            "marker": {
             "colorbar": {
              "outlinewidth": 0,
              "ticks": ""
             }
            },
            "type": "scattergl"
           }
          ],
          "scattermapbox": [
           {
            "marker": {
             "colorbar": {
              "outlinewidth": 0,
              "ticks": ""
             }
            },
            "type": "scattermapbox"
           }
          ],
          "scatterpolar": [
           {
            "marker": {
             "colorbar": {
              "outlinewidth": 0,
              "ticks": ""
             }
            },
            "type": "scatterpolar"
           }
          ],
          "scatterpolargl": [
           {
            "marker": {
             "colorbar": {
              "outlinewidth": 0,
              "ticks": ""
             }
            },
            "type": "scatterpolargl"
           }
          ],
          "scatterternary": [
           {
            "marker": {
             "colorbar": {
              "outlinewidth": 0,
              "ticks": ""
             }
            },
            "type": "scatterternary"
           }
          ],
          "surface": [
           {
            "colorbar": {
             "outlinewidth": 0,
             "ticks": ""
            },
            "colorscale": [
             [
              0,
              "#0d0887"
             ],
             [
              0.1111111111111111,
              "#46039f"
             ],
             [
              0.2222222222222222,
              "#7201a8"
             ],
             [
              0.3333333333333333,
              "#9c179e"
             ],
             [
              0.4444444444444444,
              "#bd3786"
             ],
             [
              0.5555555555555556,
              "#d8576b"
             ],
             [
              0.6666666666666666,
              "#ed7953"
             ],
             [
              0.7777777777777778,
              "#fb9f3a"
             ],
             [
              0.8888888888888888,
              "#fdca26"
             ],
             [
              1,
              "#f0f921"
             ]
            ],
            "type": "surface"
           }
          ],
          "table": [
           {
            "cells": {
             "fill": {
              "color": "#EBF0F8"
             },
             "line": {
              "color": "white"
             }
            },
            "header": {
             "fill": {
              "color": "#C8D4E3"
             },
             "line": {
              "color": "white"
             }
            },
            "type": "table"
           }
          ]
         },
         "layout": {
          "annotationdefaults": {
           "arrowcolor": "#2a3f5f",
           "arrowhead": 0,
           "arrowwidth": 1
          },
          "autotypenumbers": "strict",
          "coloraxis": {
           "colorbar": {
            "outlinewidth": 0,
            "ticks": ""
           }
          },
          "colorscale": {
           "diverging": [
            [
             0,
             "#8e0152"
            ],
            [
             0.1,
             "#c51b7d"
            ],
            [
             0.2,
             "#de77ae"
            ],
            [
             0.3,
             "#f1b6da"
            ],
            [
             0.4,
             "#fde0ef"
            ],
            [
             0.5,
             "#f7f7f7"
            ],
            [
             0.6,
             "#e6f5d0"
            ],
            [
             0.7,
             "#b8e186"
            ],
            [
             0.8,
             "#7fbc41"
            ],
            [
             0.9,
             "#4d9221"
            ],
            [
             1,
             "#276419"
            ]
           ],
           "sequential": [
            [
             0,
             "#0d0887"
            ],
            [
             0.1111111111111111,
             "#46039f"
            ],
            [
             0.2222222222222222,
             "#7201a8"
            ],
            [
             0.3333333333333333,
             "#9c179e"
            ],
            [
             0.4444444444444444,
             "#bd3786"
            ],
            [
             0.5555555555555556,
             "#d8576b"
            ],
            [
             0.6666666666666666,
             "#ed7953"
            ],
            [
             0.7777777777777778,
             "#fb9f3a"
            ],
            [
             0.8888888888888888,
             "#fdca26"
            ],
            [
             1,
             "#f0f921"
            ]
           ],
           "sequentialminus": [
            [
             0,
             "#0d0887"
            ],
            [
             0.1111111111111111,
             "#46039f"
            ],
            [
             0.2222222222222222,
             "#7201a8"
            ],
            [
             0.3333333333333333,
             "#9c179e"
            ],
            [
             0.4444444444444444,
             "#bd3786"
            ],
            [
             0.5555555555555556,
             "#d8576b"
            ],
            [
             0.6666666666666666,
             "#ed7953"
            ],
            [
             0.7777777777777778,
             "#fb9f3a"
            ],
            [
             0.8888888888888888,
             "#fdca26"
            ],
            [
             1,
             "#f0f921"
            ]
           ]
          },
          "colorway": [
           "#636efa",
           "#EF553B",
           "#00cc96",
           "#ab63fa",
           "#FFA15A",
           "#19d3f3",
           "#FF6692",
           "#B6E880",
           "#FF97FF",
           "#FECB52"
          ],
          "font": {
           "color": "#2a3f5f"
          },
          "geo": {
           "bgcolor": "white",
           "lakecolor": "white",
           "landcolor": "#E5ECF6",
           "showlakes": true,
           "showland": true,
           "subunitcolor": "white"
          },
          "hoverlabel": {
           "align": "left"
          },
          "hovermode": "closest",
          "mapbox": {
           "style": "light"
          },
          "paper_bgcolor": "white",
          "plot_bgcolor": "#E5ECF6",
          "polar": {
           "angularaxis": {
            "gridcolor": "white",
            "linecolor": "white",
            "ticks": ""
           },
           "bgcolor": "#E5ECF6",
           "radialaxis": {
            "gridcolor": "white",
            "linecolor": "white",
            "ticks": ""
           }
          },
          "scene": {
           "xaxis": {
            "backgroundcolor": "#E5ECF6",
            "gridcolor": "white",
            "gridwidth": 2,
            "linecolor": "white",
            "showbackground": true,
            "ticks": "",
            "zerolinecolor": "white"
           },
           "yaxis": {
            "backgroundcolor": "#E5ECF6",
            "gridcolor": "white",
            "gridwidth": 2,
            "linecolor": "white",
            "showbackground": true,
            "ticks": "",
            "zerolinecolor": "white"
           },
           "zaxis": {
            "backgroundcolor": "#E5ECF6",
            "gridcolor": "white",
            "gridwidth": 2,
            "linecolor": "white",
            "showbackground": true,
            "ticks": "",
            "zerolinecolor": "white"
           }
          },
          "shapedefaults": {
           "line": {
            "color": "#2a3f5f"
           }
          },
          "ternary": {
           "aaxis": {
            "gridcolor": "white",
            "linecolor": "white",
            "ticks": ""
           },
           "baxis": {
            "gridcolor": "white",
            "linecolor": "white",
            "ticks": ""
           },
           "bgcolor": "#E5ECF6",
           "caxis": {
            "gridcolor": "white",
            "linecolor": "white",
            "ticks": ""
           }
          },
          "title": {
           "x": 0.05
          },
          "xaxis": {
           "automargin": true,
           "gridcolor": "white",
           "linecolor": "white",
           "ticks": "",
           "title": {
            "standoff": 15
           },
           "zerolinecolor": "white",
           "zerolinewidth": 2
          },
          "yaxis": {
           "automargin": true,
           "gridcolor": "white",
           "linecolor": "white",
           "ticks": "",
           "title": {
            "standoff": 15
           },
           "zerolinecolor": "white",
           "zerolinewidth": 2
          }
         }
        },
        "title": {
         "text": "ٌRadar Point Cloud"
        }
       }
      }
     },
     "metadata": {}
    }
   ],
   "source": [
    "# plot_3D(\"waleed2_12_7\",'y')\\\n",
    "plot_3D_threshold(\"waleed_14_7_125\",'y',1000)\n",
    "# points_to_image(\"gedo_13_7\")"
   ]
  },
  {
   "cell_type": "code",
   "execution_count": null,
   "metadata": {},
   "outputs": [],
   "source": []
  },
  {
   "cell_type": "code",
   "execution_count": null,
   "metadata": {},
   "outputs": [],
   "source": [
    "import numpy as np\n",
    "y = 1184*np.cos((np.pi*.45*75)/180)*np.cos((np.pi*.45*50)/180)\n",
    "print(y)"
   ]
  },
  {
   "cell_type": "code",
   "execution_count": null,
   "metadata": {},
   "outputs": [],
   "source": []
  }
 ],
 "metadata": {
  "kernelspec": {
   "name": "python3",
   "display_name": "Python 3.7.9 64-bit ('tensorflow': conda)"
  },
  "language_info": {
   "codemirror_mode": {
    "name": "ipython",
    "version": 3
   },
   "file_extension": ".py",
   "mimetype": "text/x-python",
   "name": "python",
   "nbconvert_exporter": "python",
   "pygments_lexer": "ipython3",
   "version": "3.7.9"
  },
  "interpreter": {
   "hash": "78f5414a2b82b24a0f75db7369e80ac59b30f4e57f7ac86c9d8f1053b13985a0"
  }
 },
 "nbformat": 4,
 "nbformat_minor": 4
}