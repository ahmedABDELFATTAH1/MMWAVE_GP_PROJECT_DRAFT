{
 "cells": [
  {
   "cell_type": "code",
   "execution_count": null,
   "metadata": {},
   "outputs": [],
   "source": [
    "import numpy as np\n",
    "import pandas as pd\n",
    "import plotly.express as px\n",
    "\n",
    "color = px.colors.sequential.Rainbow[::-1]\n",
    "marker_size = 2\n",
    "\n",
    "def plot_3D (exp_name , depth_axis):\n",
    "    my_sample_x = np.loadtxt(\"3D_Experements/\"+exp_name+\"_x.txt\")\n",
    "    my_sample_y = np.loadtxt(\"3D_Experements/\"+exp_name+\"_y.txt\")\n",
    "    my_sample_z = np.loadtxt(\"3D_Experements/\"+exp_name+\"_z.txt\")\n",
    "    df = pd.DataFrame(my_sample_x,columns=['X (mm)'])\n",
    "    df['Y (mm)'] = my_sample_y\n",
    "    df['Z (mm)'] = my_sample_z\n",
    "    df.head()\n",
    "    min_depth = 0\n",
    "    max_depth = 0\n",
    "    if depth_axis == 'x':\n",
    "        df['Depth'] = my_sample_x\n",
    "        max_depth = np.amax(my_sample_x)\n",
    "        min_depth = np.amin(my_sample_x)\n",
    "\n",
    "    elif depth_axis == 'y':\n",
    "        df['Depth'] = my_sample_y\n",
    "        max_depth = np.amax(my_sample_y)\n",
    "        min_depth = np.amin(my_sample_y)\n",
    "\n",
    "    elif depth_axis == 'z':\n",
    "        df['Depth'] = my_sample_z\n",
    "        max_depth = np.amax(my_sample_z)\n",
    "        min_depth = np.amin(my_sample_z)\n",
    "        \n",
    "\n",
    "    else:\n",
    "        print(\"invalid depth axis\")\n",
    "        return\n",
    "\n",
    "    fig = px.scatter_3d(df, x='X (mm)', y='Y (mm)', z='Z (mm)', color='Depth', title=\"ٌRadar Point Cloud\" , range_color=[min_depth,max_depth],color_continuous_scale=color , opacity=1)\n",
    "    fig.update_traces(marker=dict(size=marker_size, line=dict(width=0))) \n",
    "    fig.show()\n",
    "\n"
   ]
  },
  {
   "cell_type": "code",
   "execution_count": null,
   "metadata": {},
   "outputs": [],
   "source": [
    "import numpy as np\n",
    "import pandas as pd\n",
    "import plotly.express as px\n",
    "\n",
    "color = px.colors.sequential.Rainbow[::-1]\n",
    "marker_size = 2\n",
    "\n",
    "def plot_3D (exp_name , depth_axis):\n",
    "    dist = np.loadtxt(\"3D_Experements/\"+exp_name+\"_x.txt\")\n",
    "    upper_angle = np.loadtxt(\"3D_Experements/\"+exp_name+\"_y.txt\")\n",
    "    lower_angle = np.loadtxt(\"3D_Experements/\"+exp_name+\"_z.txt\")\n",
    "\n",
    "    # print(\"print upper_angle = \"+upper_angle)\n",
    "    #x , y , z = np.array(dist)*np.cos(uAngel)*np.sin(lAngel) , np.array(dist)*np.cos(uAngel)*np.cos(lAngel) , np.array(dist)*np.sin(uAngel)\n",
    "\n",
    "    my_sample_x = np.array(dist)*np.cos(upper_angle)*np.sin(lower_angle)\n",
    "    my_sample_y =  np.array(dist)*np.cos(upper_angle)*np.cos(lower_angle)\n",
    "    my_sample_z =  np.array(dist)*np.sin(upper_angle)\n",
    "\n",
    "    df = pd.DataFrame(my_sample_x,columns=['X (mm)'])\n",
    "    df['Y (mm)'] = my_sample_y\n",
    "    df['Z (mm)'] = my_sample_z\n",
    "    df.head()\n",
    "    min_depth = 0\n",
    "    max_depth = 0\n",
    "    if depth_axis == 'x':\n",
    "        df['Depth'] = my_sample_x\n",
    "        max_depth = np.amax(my_sample_x)\n",
    "        min_depth = np.amin(my_sample_x)\n",
    "\n",
    "    elif depth_axis == 'y':\n",
    "        df['Depth'] = my_sample_y\n",
    "        max_depth = np.amax(my_sample_y)\n",
    "        min_depth = np.amin(my_sample_y)\n",
    "\n",
    "    elif depth_axis == 'z':\n",
    "        df['Depth'] = my_sample_z\n",
    "        max_depth = np.amax(my_sample_z)\n",
    "        min_depth = np.amin(my_sample_z)\n",
    "        \n",
    "\n",
    "    else:\n",
    "        print(\"invalid depth axis\")\n",
    "        return\n",
    "   \n",
    "\n",
    "    fig = px.scatter_3d(df, x='X (mm)', y='Y (mm)', z='Z (mm)', color='Depth', title=\"ٌRadar Point Cloud\" , range_color=[min_depth-200,max_depth+200],color_continuous_scale=color , opacity=1)\n",
    "    fig.update_traces(marker=dict(size=marker_size, line=dict(width=0))) \n",
    "    fig.show()\n",
    "\n"
   ]
  },
  {
   "cell_type": "markdown",
   "metadata": {},
   "source": [
    "# 1 ) Corner mapping experement\n",
    "![title](img/corner.jpg)\n"
   ]
  },
  {
   "cell_type": "code",
   "execution_count": null,
   "metadata": {},
   "outputs": [],
   "source": [
    "plot_3D(\"3D_corner\",'y')\n",
    "plot_3D(\"3D_corner\",'z')"
   ]
  },
  {
   "cell_type": "code",
   "execution_count": null,
   "metadata": {},
   "outputs": [],
   "source": [
    "plot_3D(\"3D_corner(1)\",'y')\n",
    "plot_3D(\"3D_corner(1)\",'z')"
   ]
  },
  {
   "cell_type": "markdown",
   "metadata": {},
   "source": [
    "# 2 ) Cylinder mapping experement\n",
    "![title](img/cylinder.jpg)\n"
   ]
  },
  {
   "cell_type": "code",
   "execution_count": null,
   "metadata": {},
   "outputs": [],
   "source": [
    "plot_3D(\"3D_cylinder\",'y')\n",
    "plot_3D(\"3D_cylinder\",'z')"
   ]
  },
  {
   "cell_type": "code",
   "execution_count": null,
   "metadata": {},
   "outputs": [],
   "source": [
    "plot_3D(\"3D_cylinder(1)\",'y')\n",
    "plot_3D(\"3D_cylinder(1)\",'z')"
   ]
  },
  {
   "cell_type": "markdown",
   "metadata": {},
   "source": [
    "# 3 ) Body mapping experement\n",
    "![title](img/ezzat_body.jpg)\n"
   ]
  },
  {
   "cell_type": "code",
   "execution_count": null,
   "metadata": {},
   "outputs": [],
   "source": [
    "plot_3D(\"3D_ezzat_body\",'y')\n",
    "plot_3D(\"3D_ezzat_body\",'z')"
   ]
  },
  {
   "cell_type": "markdown",
   "metadata": {},
   "source": [
    "# 4 ) Face mapping experement\n",
    "![title](img/ezzat_face.jpg)\n"
   ]
  },
  {
   "cell_type": "code",
   "execution_count": null,
   "metadata": {},
   "outputs": [],
   "source": [
    "plot_3D(\"3D_ezzat_face\",'y')\n",
    "plot_3D(\"3D_ezzat_face\",'z')"
   ]
  },
  {
   "cell_type": "code",
   "execution_count": null,
   "metadata": {},
   "outputs": [],
   "source": [
    "plot_3D(\"waleed_face\",'y')\n",
    "plot_3D(\"waleed_face\",'z')"
   ]
  },
  {
   "cell_type": "code",
   "execution_count": null,
   "metadata": {},
   "outputs": [],
   "source": [
    "plot_3D(\"wall\",'y')\n",
    "plot_3D(\"wall\",'z')"
   ]
  },
  {
   "cell_type": "code",
   "execution_count": null,
   "metadata": {},
   "outputs": [],
   "source": [
    "#50\n",
    "plot_3D(\"wall1\",'y')\n",
    "plot_3D(\"wall1\",'z')"
   ]
  },
  {
   "cell_type": "code",
   "execution_count": null,
   "metadata": {},
   "outputs": [],
   "source": [
    "#50\n",
    "plot_3D(\"wall2\",'y')\n",
    "plot_3D(\"wall2\",'z')"
   ]
  },
  {
   "cell_type": "code",
   "execution_count": null,
   "metadata": {},
   "outputs": [],
   "source": [
    "#50\n",
    "plot_3D(\"wall4\",'y')\n",
    "# plot_3D(\"wall4\",'z')"
   ]
  },
  {
   "cell_type": "code",
   "execution_count": null,
   "metadata": {},
   "outputs": [],
   "source": [
    "#50\n",
    "plot_3D(\"wall4d\",'y')\n",
    "plot_3D(\"wall4d\",'z')"
   ]
  },
  {
   "cell_type": "code",
   "execution_count": null,
   "metadata": {},
   "outputs": [],
   "source": [
    "#50\n",
    "plot_3D(\"wall7\",'y')\n",
    "plot_3D(\"wall7\",'z')"
   ]
  },
  {
   "cell_type": "code",
   "execution_count": null,
   "metadata": {},
   "outputs": [],
   "source": [
    "plot_3D(\"hello3\",'y')\n",
    "plot_3D(\"hello3\",'z')"
   ]
  },
  {
   "cell_type": "code",
   "execution_count": 44,
   "metadata": {},
   "outputs": [],
   "source": [
    "import numpy as np\n",
    "from plotly import offline\n",
    "from plotly import graph_objs as go\n",
    "import torch\n",
    "from PIL import Image\n",
    "import plotly.express as px\n",
    "import cv2\n",
    "import pandas as pd\n",
    "color = px.colors.sequential.Rainbow[::-1]\n",
    "marker_size = 3\n",
    "\n",
    "def points_to_image(exp_name):\n",
    "    dist = np.loadtxt(\"3D_Experements/\"+exp_name+\"_x.txt\")\n",
    "    upper_angle = np.loadtxt(\"3D_Experements/\"+exp_name+\"_y.txt\")\n",
    "    lower_angle = np.loadtxt(\"3D_Experements/\"+exp_name+\"_z.txt\")\n",
    "\n",
    "    print(np.amax(upper_angle*180/np.pi))\n",
    "    print(np.amin(upper_angle*180/np.pi))\n",
    "    print(np.amax(lower_angle*180/np.pi))\n",
    "    print(np.amin(lower_angle*180/np.pi))\n",
    "    \n",
    "\n",
    "    #x , y , z = np.array(dist)*np.cos(uAngel)*np.sin(lAngel) , np.array(dist)*np.cos(uAngel)*np.cos(lAngel) , np.array(dist)*np.sin(uAngel)\n",
    "\n",
    "    my_sample_x = np.array(dist)*np.cos(upper_angle)*np.sin(lower_angle)\n",
    "    my_sample_y =  np.array(dist)*np.cos(upper_angle)*np.cos(lower_angle)\n",
    "    my_sample_z =  np.array(dist)*np.sin(upper_angle)\n",
    "    \n",
    "    my_sample_x = my_sample_x[~np.isnan(my_sample_x)]\n",
    "    my_sample_y = my_sample_y[~np.isnan(my_sample_y)]\n",
    "    my_sample_z = my_sample_z[~np.isnan(my_sample_z)]\n",
    "    \n",
    "    x_min = np.min(my_sample_x)\n",
    "    x_max = np.max(my_sample_x)\n",
    "    y_min = np.min(my_sample_y)\n",
    "    y_max = np.max(my_sample_y)\n",
    "    z_min = np.min(my_sample_z)\n",
    "    z_max = np.max(my_sample_z)\n",
    "    width = 1+(x_max - x_min).astype(int)\n",
    "    hight = 1+(z_max - z_min).astype(int)\n",
    "    \n",
    "    \n",
    "    \n",
    "    normalization_factor = (1 / y_max)\n",
    "    \n",
    "    my_sample_y = 1-  my_sample_y * normalization_factor\n",
    "    print(\"img :: \",width,hight)\n",
    "    img = np.zeros((width,hight))\n",
    "    \n",
    "    for i in range(len(my_sample_x)):\n",
    "        x = (my_sample_x[i] - x_min).astype(int)\n",
    "        z = (my_sample_z[i] - z_min).astype(int)\n",
    "#         print(\"x,z :: \",x,z)\n",
    "        img[x,z] = my_sample_y[i]\n",
    "        \n",
    "#     img = Image.fromarray(img)\n",
    "    print(len(my_sample_x))\n",
    "    \n",
    "    kernel = np.ones((5,5), np.uint8)\n",
    " \n",
    "    # The first parameter is the original image,\n",
    "    # kernel is the matrix with which image is\n",
    "    # convolved and third parameter is the number\n",
    "    # of iterations, which will determine how much\n",
    "    # you want to erode/dilate a given image.\n",
    "    img_erosion = cv2.erode(img, kernel, iterations=1)\n",
    "    img_dilation = cv2.dilate(img, kernel, iterations=2)\n",
    "\n",
    "    cv2.imshow('Input', img)\n",
    "    cv2.imshow('Erosion', img_erosion)\n",
    "    cv2.imshow('Dilation', img_dilation)\n",
    "\n",
    "    cv2.waitKey(0)\n",
    "#     img.show()\n",
    "    \n",
    "def plot_3D (exp_name , depth_axis):\n",
    "    dist = np.loadtxt(\"3D_Experements/\"+exp_name+\"_x.txt\")\n",
    "    upper_angle = np.loadtxt(\"3D_Experements/\"+exp_name+\"_y.txt\")\n",
    "    lower_angle = np.loadtxt(\"3D_Experements/\"+exp_name+\"_z.txt\")\n",
    "\n",
    "    print(np.amax(upper_angle*180/np.pi))\n",
    "    print(np.amin(upper_angle*180/np.pi))\n",
    "    print(np.amax(lower_angle*180/np.pi))\n",
    "    print(np.amin(lower_angle*180/np.pi))\n",
    "    \n",
    "\n",
    "    #x , y , z = np.array(dist)*np.cos(uAngel)*np.sin(lAngel) , np.array(dist)*np.cos(uAngel)*np.cos(lAngel) , np.array(dist)*np.sin(uAngel)\n",
    "\n",
    "    my_sample_x = np.array(dist)*np.cos(upper_angle)*np.sin(lower_angle)\n",
    "    my_sample_y =  np.array(dist)*np.cos(upper_angle)*np.cos(lower_angle)\n",
    "    my_sample_z =  np.array(dist)*np.sin(upper_angle)\n",
    "    \n",
    "    my_sample_x = my_sample_x[~np.isnan(my_sample_x)]\n",
    "    my_sample_y = my_sample_y[~np.isnan(my_sample_y)]\n",
    "    my_sample_z = my_sample_z[~np.isnan(my_sample_z)]\n",
    "\n",
    "    df = pd.DataFrame(my_sample_x,columns=['X (mm)'])\n",
    "    df['Y (mm)'] = my_sample_y\n",
    "    df['Z (mm)'] = my_sample_z\n",
    "    df.head()\n",
    "    min_depth = 0\n",
    "    max_depth = 0\n",
    "    if depth_axis == 'x':\n",
    "        df['Depth'] = my_sample_x\n",
    "        max_depth = np.amax(my_sample_x)\n",
    "        min_depth = np.amin(my_sample_x)\n",
    "\n",
    "    elif depth_axis == 'y':\n",
    "        df['Depth'] = my_sample_y\n",
    "        max_depth = np.amax(my_sample_y)\n",
    "        min_depth = np.amin(my_sample_y)\n",
    "\n",
    "    elif depth_axis == 'z':\n",
    "        df['Depth'] = my_sample_z\n",
    "        max_depth = np.amax(my_sample_z)\n",
    "        min_depth = np.amin(my_sample_z)\n",
    "        \n",
    "\n",
    "    else:\n",
    "        print(\"invalid depth axis\")\n",
    "        return\n",
    "   \n",
    "\n",
    "    fig = px.scatter_3d(df, x='X (mm)', y='Y (mm)', z='Z (mm)', color='Depth', title=\"ٌRadar Point Cloud\" , range_color=[min_depth-200,max_depth+200],color_continuous_scale=color , opacity=1)\n",
    "    fig.update_traces(marker=dict(size=marker_size, line=dict(width=0))) \n",
    "    fig.show()\n",
    "    \n",
    "    \n",
    "def plot_3D_threshold (exp_name , depth_axis ,threshold):\n",
    "    dist = np.loadtxt(\"3D_Experements/\"+exp_name+\"_x.txt\")\n",
    "    upper_angle = np.loadtxt(\"3D_Experements/\"+exp_name+\"_y.txt\")\n",
    "    lower_angle = np.loadtxt(\"3D_Experements/\"+exp_name+\"_z.txt\")\n",
    "\n",
    "    print(np.amax(upper_angle*180/np.pi))\n",
    "    print(np.amin(upper_angle*180/np.pi))\n",
    "    print(np.amax(lower_angle*180/np.pi))\n",
    "    print(np.amin(lower_angle*180/np.pi))\n",
    "    \n",
    "\n",
    "    #x , y , z = np.array(dist)*np.cos(uAngel)*np.sin(lAngel) , np.array(dist)*np.cos(uAngel)*np.cos(lAngel) , np.array(dist)*np.sin(uAngel)\n",
    "\n",
    "    my_sample_x = np.array(dist)*np.cos(upper_angle)*np.sin(lower_angle)\n",
    "    my_sample_y =  np.array(dist)*np.cos(upper_angle)*np.cos(lower_angle)\n",
    "    my_sample_z =  np.array(dist)*np.sin(upper_angle)\n",
    "    my_sample_x = my_sample_x[~np.isnan(my_sample_x)]\n",
    "    my_sample_y = my_sample_y[~np.isnan(my_sample_y)]\n",
    "    my_sample_z = my_sample_z[~np.isnan(my_sample_z)]\n",
    "\n",
    "    df = pd.DataFrame()\n",
    "    \n",
    "    indx = []\n",
    "    min_depth = 0\n",
    "    max_depth = 0\n",
    "    if depth_axis == 'x':\n",
    "        min_depth = np.amin(my_sample_x)\n",
    "        max_depth = (min_depth + threshold)\n",
    "        indx = my_sample_x<= (min_depth + threshold)\n",
    "        df['Depth'] = my_sample_x[indx]\n",
    "\n",
    "    elif depth_axis == 'y':\n",
    "        min_depth = np.amin(my_sample_y)\n",
    "        max_depth = (min_depth + threshold)\n",
    "        indx = my_sample_y <= (min_depth + threshold)\n",
    "#         print(my_sample_y , (min_depth + threshold))\n",
    "#         print(type(my_sample_y),type(my_sample_y[indx]))\n",
    "        df['Depth'] = my_sample_y[indx]\n",
    "\n",
    "    elif depth_axis == 'z':\n",
    "        min_depth = np.amin(my_sample_z)\n",
    "        max_depth = (min_depth + threshold)\n",
    "        indx = my_sample_z<= (min_depth + threshold)\n",
    "        df['Depth'] = my_sample_z[indx]\n",
    "        \n",
    "\n",
    "    else:\n",
    "        print(\"invalid depth axis\")\n",
    "        return\n",
    "    df['X (mm)'] = my_sample_x[indx]\n",
    "    df['Y (mm)'] = my_sample_y[indx]\n",
    "    df['Z (mm)'] = my_sample_z[indx]\n",
    "    df.head()\n",
    "   \n",
    "\n",
    "    fig = px.scatter_3d(df, x='X (mm)', y='Y (mm)', z='Z (mm)', color='Depth', title=\"ٌRadar Point Cloud\" , range_color=[min_depth-100,max_depth+100],color_continuous_scale=color , opacity=1)\n",
    "    fig.update_traces(marker=dict(size=marker_size, line=dict(width=0))) \n",
    "    fig.show()\n",
    "\n",
    "\n",
    "def plot_2D (exp_name):\n",
    "    dist = np.loadtxt(\"3D_Experements/\"+exp_name+\"_x.txt\")\n",
    "    upper_angle = np.loadtxt(\"3D_Experements/\"+exp_name+\"_y.txt\")\n",
    "    lower_angle = np.loadtxt(\"3D_Experements/\"+exp_name+\"_z.txt\")\n",
    "\n",
    "    print(np.amax(upper_angle*180/np.pi))\n",
    "    print(np.amin(upper_angle*180/np.pi))\n",
    "    print(np.amax(lower_angle*180/np.pi))\n",
    "    print(np.amin(lower_angle*180/np.pi))\n",
    "    \n",
    "\n",
    "    #x , y , z = np.array(dist)*np.cos(uAngel)*np.sin(lAngel) , np.array(dist)*np.cos(uAngel)*np.cos(lAngel) , np.array(dist)*np.sin(uAngel)\n",
    "\n",
    "    my_sample_x = np.array(dist)*np.cos(upper_angle)*np.sin(lower_angle)\n",
    "    my_sample_y =  np.array(dist)*np.cos(upper_angle)*np.cos(lower_angle)\n",
    "    my_sample_z =  np.array(dist)*np.sin(upper_angle)\n",
    "\n",
    "    minx = np.min(my_sample_x)\n",
    "    miny = np.min(my_sample_y)\n",
    "    minz = np.min(my_sample_z)\n",
    "\n",
    "    maxx = np.max(my_sample_x)\n",
    "    maxy = np.max(my_sample_y)\n",
    "    maxz = np.max(my_sample_z)\n",
    "\n",
    "    # img =np.zeros(int(maxx-minx),int(maxz-minz))\n",
    "    # img =np.zeros((int(maxx-minx),int(maxz-minz)), dtype=np.float64)\n",
    "    # img =np.zeros(len(my_sample_x),len(my_sample_z)), dtype=np.float64)\n",
    "\n",
    "    # for i in range(len(my_sample_x) - 1):\n",
    "    #     img[int(my_sample_x[i] - minx -1)][int(my_sample_z[i] - minz -1)] = (my_sample_y[i] / maxy)*255\n",
    "    \n",
    "    trace = go.Surface(x = my_sample_x, y = my_sample_y, z =my_sample_z )\n",
    "    data = [trace]\n",
    "    layout = go.Layout(title = '3D Surface plot')\n",
    "    fig = go.Figure(data = data)\n",
    "    plot(fig)\n",
    "    offline.init_notebook_mode(connected=False)\n",
    "\n",
    "    df3 = {'x':[1, 2, 3, 4, 5],'y':[10, 20, 30, 40, 50],'z': [[5, 4, 3, 2, 1]]*5}\n",
    "    offline.iplot(dict(data=[go.Surface(x=df3['x'], y=df3['y'], z=df3['z'])]))\n"
   ]
  },
  {
   "cell_type": "code",
   "execution_count": 53,
   "metadata": {},
   "outputs": [
    {
     "name": "stdout",
     "output_type": "stream",
     "text": [
      "13.5\n",
      "-13.5\n",
      "18.0\n",
      "-18.0\n"
     ]
    },
    {
     "data": {
      "application/vnd.plotly.v1+json": {
       "config": {
        "plotlyServerURL": "https://plot.ly"
       },
       "data": [
        {
         "hovertemplate": "X (mm)=%{x}<br>Y (mm)=%{y}<br>Z (mm)=%{z}<br>Depth=%{marker.color}<extra></extra>",
         "legendgroup": "",
         "marker": {
          "color": [
           358.35176525439886,
           367.7980687777735,
           352.6508409664782,
           342.43235964586245,
           353.33504687451045,
           369.7533967520498,
           348.5437904707895,
           363.42029942379986,
           358.9488726240394,
           356.9394445986652,
           356.1985054484258,
           366.75372706346116,
           362.26750931780765,
           365.0914309299697,
           329.200385825061,
           317.1506857573241,
           317.5977533818295,
           365.5181092278094,
           340.09426091304243,
           347.8267271254272,
           348.6313752364632,
           341.2966068812211,
           340.0971072543379,
           338.20891064669127,
           335.94382454033195,
           315.02633889402074,
           315.3375389738255,
           311.91615518749103,
           316.52171708497343,
           318.38404643171486,
           318.7625383127568,
           316.182423096783,
           310.6802783847513,
           309.4753370609397,
           307.217113396577,
           300.20605760228824,
           305.3667624621823,
           307.20244906077846,
           312.6931044943727,
           321.8844406148491,
           322.84183452757827,
           327.47421045922533,
           324.942326495836,
           319.80264119098086,
           315.4934466619366,
           318.85613286674396,
           317.9105586319497,
           316.6512450575926,
           319.01792787080836,
           361.1549209889271,
           372.8880462847684,
           306.86155509721203,
           308.88738120756597,
           310.1158181020161,
           300.40442323158254,
           302.33066882182294,
           310.18395087653295,
           315.96101586420474,
           311.65364098813467,
           325.84955136877096,
           323.8103912660652,
           319.2826296135898,
           307.3541097602895,
           307.6935676042615,
           303.3794151640751,
           303.229715736412,
           305.3667624621823,
           307.20244906077846,
           316.4203528883624,
           300.5219052269062,
           324.0511350885714,
           294.8180598479355,
           291.81991008677005,
           304.84387884212435,
           302.9133262234068,
           305.9889126832516,
           300.818682804713,
           310.48452650800897,
           313.19667944839205,
           307.1172761945711,
           312.73297218789685,
           301.69072870484706,
           301.56787856974506,
           298.48504352973276,
           300.78464183732905,
           306.3564065346975,
           286.8972862499203,
           283.12493748703133,
           306.94211976307514,
           320.84101366630773,
           306.7957574110972,
           305.8736917993332,
           301.00548573085075,
           302.78076518868426,
           302.03300658088006,
           306.5988118223644,
           303.81064495046115,
           308.3926435407092,
           324.07753380818605,
           328.0189296646708,
           323.1984490602607,
           305.5998173904052,
           302.31485696713617,
           301.71786571273805,
           299.06391584674003,
           301.821777556177,
           307.9515360939754,
           309.73234498884324,
           309.77744264705643,
           308.70479780560754,
           306.9944254245864,
           308.83989658212744,
           302.52284384467663,
           310.0371581126318,
           302.6512408943116,
           301.2680523029611,
           312.90271613451404,
           314.7922252899156,
           314.92201373774446,
           322.9268959215449,
           319.5039415664526,
           317.5273760921732,
           305.0514227320257,
           304.84598783303744,
           303.48590486661755,
           299.3381719212868,
           308.75930262106067,
           315.1421945902614,
           318.07846153400243,
           319.02453516919036,
           315.7094025723113,
           316.021277419413,
           311.7630350401574,
           307.20881164440556,
           306.29777777348386,
           311.35391860947294,
           334.63976570198787,
           332.93812348236526,
           331.3135617487854,
           340.0634879818828,
           327.24208308508594,
           309.992767829369,
           309.4459030782505,
           313.9829724982775,
           314.2931418842463,
           318.2218061577994,
           317.907759654506,
           321.1970133217284,
           322.84811095720113,
           318.9759383414805,
           313.5219474564675,
           328.6874819045093,
           356.95192032705984,
           370.30219885260414,
           318.1955046980399,
           318.16759554236694,
           319.11393429244157,
           308.0473456487864,
           306.6169024068324,
           304.448466039033,
           308.0473456487864,
           348.78763854829367,
           355.8599239341455,
           363.28393653784315,
           355.7123403825525,
           353.73502333603716,
           348.5096516269029,
           347.6150432968174,
           351.68912627010246,
           356.39463034940735,
           365.8025631381339,
           364.38969271362856,
           370.62763361843275,
           334.29083240499494,
           371.13797976756365
          ],
          "coloraxis": "coloraxis",
          "line": {
           "width": 0
          },
          "opacity": 1,
          "size": 3,
          "symbol": "circle"
         },
         "mode": "markers",
         "name": "",
         "scene": "scene",
         "showlegend": false,
         "type": "scatter3d",
         "x": [
          -116.43554671098504,
          -119.50483678232375,
          -114.58320412310705,
          -111.26301827645095,
          -102.65332054167588,
          -58.563184802669625,
          -55.20391318230843,
          -45.91066054090716,
          -45.34578797252615,
          -45.09193817904844,
          -44.99833579673231,
          -46.331770382720656,
          -34.24436196253271,
          -34.51130114795069,
          -31.11859849542588,
          -29.97956648166186,
          -30.02182681459683,
          -34.55163412205674,
          -32.148372880630774,
          -32.87930614135458,
          -32.955367782153324,
          -32.26202803732986,
          -21.3970963368355,
          -21.278301075555945,
          -21.13579393687348,
          -19.81977728765282,
          -19.83935633712304,
          -19.624101114658778,
          -19.91385850895497,
          -20.031026340121915,
          -20.05483903087588,
          -19.892511940586804,
          -19.5463463368479,
          -19.47053785440012,
          -19.32846246397243,
          -9.434355434035108,
          -9.596537117933353,
          -9.654225893353052,
          -9.826776691761555,
          -10.11562606597751,
          -10.145713381787223,
          -10.29129166022798,
          -10.211724001203612,
          -10.050202883434133,
          -9.914780989731835,
          -10.020457661024416,
          -9.990741793558035,
          -9.951166270138284,
          -10.02554227386663,
          -11.349750629863486,
          0,
          0,
          0,
          0,
          0,
          0,
          0,
          0,
          0,
          0,
          0,
          0,
          0,
          0,
          0,
          9.529377718982225,
          9.596537117933353,
          9.654225893353052,
          9.94391019140073,
          9.444281345515513,
          10.183717182943365,
          9.265030783165841,
          9.170810131133646,
          9.580104838179704,
          9.519434777973196,
          9.616088976299608,
          9.45360795663137,
          9.7573693323846,
          9.842602172239337,
          9.651549228199944,
          19.675490884446436,
          18.980771809976574,
          18.97304273460457,
          18.7790871938643,
          18.923765656203777,
          19.274311378154344,
          18.05004730038884,
          17.812711233206965,
          19.311161331023783,
          20.185605616139444,
          19.301952992350632,
          19.243941541200464,
          18.937659976279694,
          19.049351092651527,
          28.55052505664841,
          28.982120723712924,
          28.71856135634599,
          29.15168774554866,
          30.63434640481828,
          31.00691800695079,
          30.551248430174113,
          28.887687946699643,
          28.577167762378245,
          28.520735473866992,
          28.26986334897565,
          28.530558035061116,
          29.109990815291887,
          29.27832681786852,
          29.28258980169068,
          38.9984852301139,
          38.78241495030811,
          39.01555217458049,
          38.21752282864704,
          39.166801479566544,
          38.23374314812175,
          38.059005793102685,
          39.52880564337219,
          39.7675061605423,
          39.783902254486,
          40.79515404529983,
          40.36273434917163,
          40.11303606134788,
          38.5369566278378,
          38.51100416473747,
          48.06744518868468,
          47.41050882752283,
          48.90266934063082,
          49.91362011282465,
          50.378679109352525,
          50.52852245256756,
          50.003457031609244,
          50.05285315471875,
          49.37841381871412,
          48.65709569506506,
          48.51280210530243,
          49.313616141812595,
          53.00173200104331,
          52.73221835045577,
          63.201442036951896,
          64.87057973457509,
          62.424765943736006,
          59.134283077423625,
          59.02996304691406,
          59.895455326958086,
          59.95462330174751,
          60.704056093019354,
          60.644148518545066,
          61.271607213252565,
          61.58657093207795,
          60.847914500877884,
          59.80751009675459,
          62.700490514815684,
          68.09222050389565,
          82.7723481186033,
          71.12512203883612,
          71.11888360342792,
          71.33041537586139,
          68.85673973867561,
          68.53699779181764,
          68.05229483713718,
          68.85673973867561,
          77.96327412270216,
          79.54411720104655,
          81.20358062733517,
          79.51112836882548,
          90.8237171263538,
          89.482069704748,
          89.25237332596062,
          90.2984200420174,
          91.50658814311521,
          93.92213472453285,
          93.55937125666566,
          107.67728141315163,
          97.12046477291905,
          120.59003964657131
         ],
         "y": [
          358.35176525439886,
          367.7980687777735,
          352.6508409664782,
          342.43235964586245,
          353.33504687451045,
          369.7533967520498,
          348.5437904707895,
          363.42029942379986,
          358.9488726240394,
          356.9394445986652,
          356.1985054484258,
          366.75372706346116,
          362.26750931780765,
          365.0914309299697,
          329.200385825061,
          317.1506857573241,
          317.5977533818295,
          365.5181092278094,
          340.09426091304243,
          347.8267271254272,
          348.6313752364632,
          341.2966068812211,
          340.0971072543379,
          338.20891064669127,
          335.94382454033195,
          315.02633889402074,
          315.3375389738255,
          311.91615518749103,
          316.52171708497343,
          318.38404643171486,
          318.7625383127568,
          316.182423096783,
          310.6802783847513,
          309.4753370609397,
          307.217113396577,
          300.20605760228824,
          305.3667624621823,
          307.20244906077846,
          312.6931044943727,
          321.8844406148491,
          322.84183452757827,
          327.47421045922533,
          324.942326495836,
          319.80264119098086,
          315.4934466619366,
          318.85613286674396,
          317.9105586319497,
          316.6512450575926,
          319.01792787080836,
          361.1549209889271,
          372.8880462847684,
          306.86155509721203,
          308.88738120756597,
          310.1158181020161,
          300.40442323158254,
          302.33066882182294,
          310.18395087653295,
          315.96101586420474,
          311.65364098813467,
          325.84955136877096,
          323.8103912660652,
          319.2826296135898,
          307.3541097602895,
          307.6935676042615,
          303.3794151640751,
          303.229715736412,
          305.3667624621823,
          307.20244906077846,
          316.4203528883624,
          300.5219052269062,
          324.0511350885714,
          294.8180598479355,
          291.81991008677005,
          304.84387884212435,
          302.9133262234068,
          305.9889126832516,
          300.818682804713,
          310.48452650800897,
          313.19667944839205,
          307.1172761945711,
          312.73297218789685,
          301.69072870484706,
          301.56787856974506,
          298.48504352973276,
          300.78464183732905,
          306.3564065346975,
          286.8972862499203,
          283.12493748703133,
          306.94211976307514,
          320.84101366630773,
          306.7957574110972,
          305.8736917993332,
          301.00548573085075,
          302.78076518868426,
          302.03300658088006,
          306.5988118223644,
          303.81064495046115,
          308.3926435407092,
          324.07753380818605,
          328.0189296646708,
          323.1984490602607,
          305.5998173904052,
          302.31485696713617,
          301.71786571273805,
          299.06391584674003,
          301.821777556177,
          307.9515360939754,
          309.73234498884324,
          309.77744264705643,
          308.70479780560754,
          306.9944254245864,
          308.83989658212744,
          302.52284384467663,
          310.0371581126318,
          302.6512408943116,
          301.2680523029611,
          312.90271613451404,
          314.7922252899156,
          314.92201373774446,
          322.9268959215449,
          319.5039415664526,
          317.5273760921732,
          305.0514227320257,
          304.84598783303744,
          303.48590486661755,
          299.3381719212868,
          308.75930262106067,
          315.1421945902614,
          318.07846153400243,
          319.02453516919036,
          315.7094025723113,
          316.021277419413,
          311.7630350401574,
          307.20881164440556,
          306.29777777348386,
          311.35391860947294,
          334.63976570198787,
          332.93812348236526,
          331.3135617487854,
          340.0634879818828,
          327.24208308508594,
          309.992767829369,
          309.4459030782505,
          313.9829724982775,
          314.2931418842463,
          318.2218061577994,
          317.907759654506,
          321.1970133217284,
          322.84811095720113,
          318.9759383414805,
          313.5219474564675,
          328.6874819045093,
          356.95192032705984,
          370.30219885260414,
          318.1955046980399,
          318.16759554236694,
          319.11393429244157,
          308.0473456487864,
          306.6169024068324,
          304.448466039033,
          308.0473456487864,
          348.78763854829367,
          355.8599239341455,
          363.28393653784315,
          355.7123403825525,
          353.73502333603716,
          348.5096516269029,
          347.6150432968174,
          351.68912627010246,
          356.39463034940735,
          365.8025631381339,
          364.38969271362856,
          370.62763361843275,
          334.29083240499494,
          371.13797976756365
         ],
         "z": [
          -90.46007849416334,
          67.4944525096882,
          76.7887891749994,
          86.4414833020724,
          88.3357256830746,
          89.87646508452357,
          -50.22346133952946,
          -52.133455816905574,
          -39.943289237140476,
          -28.315015880448932,
          -16.931404283637278,
          -5.807219600427415,
          87.36044282963215,
          75.94384211101392,
          47.0610114671526,
          35.169846704680005,
          25.10691063291038,
          -17.3142376608331,
          -26.885316802741535,
          -38.57161034850241,
          -49.838778611064946,
          -59.831326897234526,
          -70.56997878406635,
          -59.143610496116885,
          -47.906418858778096,
          -14.88563842424708,
          -4.963512270535333,
          4.90965861118052,
          14.956298100311544,
          25.10691063291038,
          35.26129196392254,
          45.088394220026444,
          54.329595688293416,
          64.21597686289563,
          73.9021323292409,
          72.108679057713,
          63.2696361512319,
          53.64187928717578,
          44.52478929227611,
          35.553916793498665,
          25.42074701582176,
          15.450915832762792,
          5.107122028814837,
          -5.026341539782616,
          -14.88563842424708,
          -25.10691063291038,
          -35.11497954913448,
          -45.088394220026444,
          -55.7050284905287,
          -74.82851198655311,
          -77.22140207175995,
          -53.555914737036076,
          -43.961184364525785,
          -34.23710506040612,
          -23.64234084599061,
          -14.257552414785179,
          -4.872758881622592,
          4.963512270535333,
          14.697212621408509,
          25.64491586075846,
          35.749000013216076,
          45.4406472998704,
          53.64187928717578,
          63.72027458535748,
          72.83495352304249,
          72.83495352304249,
          63.2696361512319,
          53.64187928717578,
          34.95037808249791,
          23.663263271518037,
          15.289408001758302,
          4.633658606987099,
          -4.5865366550516375,
          -14.383169616677558,
          -23.851565101264864,
          -33.79816781604194,
          -42.833974509025126,
          -54.214976288107145,
          -64.891934514084,
          -73.7687349784661,
          -64.891934514084,
          -43.02184281827523,
          -33.359230571677756,
          -23.537728718353485,
          -14.212689128395043,
          -4.822146414728947,
          4.5158537271484445,
          13.378232001538516,
          24.204631032040165,
          35.49121147287521,
          43.749832516619406,
          53.489053420260745,
          62.45848696980585,
          72.83495352304249,
          72.83495352304249,
          63.77660438962318,
          53.2598146198882,
          44.08642990402586,
          35.93798688231732,
          25.930731138052753,
          15.309596480633864,
          -4.822146414728947,
          -14.320361015731368,
          -23.851565101264864,
          -33.164147351960345,
          -43.14708835777531,
          -53.985737487734596,
          -64.42842069612625,
          -74.70251643388973,
          -74.70251643388973,
          -64.08078533265795,
          -54.329595688293416,
          -43.39757943677545,
          -34.50046740702462,
          -24.008483292720552,
          -14.320361015731368,
          -4.954536660642865,
          4.984455360284428,
          14.969383225508667,
          25.616894755141374,
          35.553916793498665,
          55.85785435744373,
          63.67521074194492,
          73.7687349784661,
          73.7687349784661,
          62.76266791284062,
          54.55883448866596,
          45.41045417874092,
          35.553916793498665,
          25.42074701582176,
          15.07406422708565,
          -5.026341539782616,
          -14.88563842424708,
          -24.479237867087623,
          -34.23710506040612,
          -55.01731208941106,
          -70.16440419335332,
          -80.92772613671387,
          -69.84895728946542,
          -60.420798098192506,
          -47.41326454699656,
          -34.84064377140687,
          -24.793074249999002,
          -15.07406422708565,
          -5.026341539782616,
          5.089170809029898,
          15.262490029924221,
          25.734583398733143,
          36.28547886743897,
          46.215604075527104,
          55.7050284905287,
          69.29531578468256,
          87.24186740672121,
          91.09556865132664,
          46.40347238477721,
          35.99285403786284,
          25.734583398733143,
          14.88563842424708,
          4.935588150869875,
          -4.9006830012880505,
          -14.88563842424708,
          -28.12758581843241,
          -40.256815840257744,
          -52.978863208531074,
          -63.613767103381534,
          -51.976898892530485,
          -39.723820614958385,
          -28.24527446202418,
          -17.123194832955107,
          -5.780292770750009,
          5.932878138921981,
          53.5424681362814,
          6.06302448236278,
          -16.416598072310467,
          6.1303415565562975
         ]
        }
       ],
       "layout": {
        "coloraxis": {
         "cmax": 473.12493748703133,
         "cmin": 183.12493748703133,
         "colorbar": {
          "title": {
           "text": "Depth"
          }
         },
         "colorscale": [
          [
           0,
           "rgb(255,0,0)"
          ],
          [
           0.125,
           "rgb(255,111,0)"
          ],
          [
           0.25,
           "rgb(255,234,0)"
          ],
          [
           0.375,
           "rgb(151,255,0)"
          ],
          [
           0.5,
           "rgb(44,255,150)"
          ],
          [
           0.625,
           "rgb(0,152,255)"
          ],
          [
           0.75,
           "rgb(0,25,255)"
          ],
          [
           0.875,
           "rgb(0,0,200)"
          ],
          [
           1,
           "rgb(150,0,90)"
          ]
         ]
        },
        "legend": {
         "tracegroupgap": 0
        },
        "scene": {
         "domain": {
          "x": [
           0,
           1
          ],
          "y": [
           0,
           1
          ]
         },
         "xaxis": {
          "title": {
           "text": "X (mm)"
          }
         },
         "yaxis": {
          "title": {
           "text": "Y (mm)"
          }
         },
         "zaxis": {
          "title": {
           "text": "Z (mm)"
          }
         }
        },
        "template": {
         "data": {
          "bar": [
           {
            "error_x": {
             "color": "#2a3f5f"
            },
            "error_y": {
             "color": "#2a3f5f"
            },
            "marker": {
             "line": {
              "color": "#E5ECF6",
              "width": 0.5
             }
            },
            "type": "bar"
           }
          ],
          "barpolar": [
           {
            "marker": {
             "line": {
              "color": "#E5ECF6",
              "width": 0.5
             }
            },
            "type": "barpolar"
           }
          ],
          "carpet": [
           {
            "aaxis": {
             "endlinecolor": "#2a3f5f",
             "gridcolor": "white",
             "linecolor": "white",
             "minorgridcolor": "white",
             "startlinecolor": "#2a3f5f"
            },
            "baxis": {
             "endlinecolor": "#2a3f5f",
             "gridcolor": "white",
             "linecolor": "white",
             "minorgridcolor": "white",
             "startlinecolor": "#2a3f5f"
            },
            "type": "carpet"
           }
          ],
          "choropleth": [
           {
            "colorbar": {
             "outlinewidth": 0,
             "ticks": ""
            },
            "type": "choropleth"
           }
          ],
          "contour": [
           {
            "colorbar": {
             "outlinewidth": 0,
             "ticks": ""
            },
            "colorscale": [
             [
              0,
              "#0d0887"
             ],
             [
              0.1111111111111111,
              "#46039f"
             ],
             [
              0.2222222222222222,
              "#7201a8"
             ],
             [
              0.3333333333333333,
              "#9c179e"
             ],
             [
              0.4444444444444444,
              "#bd3786"
             ],
             [
              0.5555555555555556,
              "#d8576b"
             ],
             [
              0.6666666666666666,
              "#ed7953"
             ],
             [
              0.7777777777777778,
              "#fb9f3a"
             ],
             [
              0.8888888888888888,
              "#fdca26"
             ],
             [
              1,
              "#f0f921"
             ]
            ],
            "type": "contour"
           }
          ],
          "contourcarpet": [
           {
            "colorbar": {
             "outlinewidth": 0,
             "ticks": ""
            },
            "type": "contourcarpet"
           }
          ],
          "heatmap": [
           {
            "colorbar": {
             "outlinewidth": 0,
             "ticks": ""
            },
            "colorscale": [
             [
              0,
              "#0d0887"
             ],
             [
              0.1111111111111111,
              "#46039f"
             ],
             [
              0.2222222222222222,
              "#7201a8"
             ],
             [
              0.3333333333333333,
              "#9c179e"
             ],
             [
              0.4444444444444444,
              "#bd3786"
             ],
             [
              0.5555555555555556,
              "#d8576b"
             ],
             [
              0.6666666666666666,
              "#ed7953"
             ],
             [
              0.7777777777777778,
              "#fb9f3a"
             ],
             [
              0.8888888888888888,
              "#fdca26"
             ],
             [
              1,
              "#f0f921"
             ]
            ],
            "type": "heatmap"
           }
          ],
          "heatmapgl": [
           {
            "colorbar": {
             "outlinewidth": 0,
             "ticks": ""
            },
            "colorscale": [
             [
              0,
              "#0d0887"
             ],
             [
              0.1111111111111111,
              "#46039f"
             ],
             [
              0.2222222222222222,
              "#7201a8"
             ],
             [
              0.3333333333333333,
              "#9c179e"
             ],
             [
              0.4444444444444444,
              "#bd3786"
             ],
             [
              0.5555555555555556,
              "#d8576b"
             ],
             [
              0.6666666666666666,
              "#ed7953"
             ],
             [
              0.7777777777777778,
              "#fb9f3a"
             ],
             [
              0.8888888888888888,
              "#fdca26"
             ],
             [
              1,
              "#f0f921"
             ]
            ],
            "type": "heatmapgl"
           }
          ],
          "histogram": [
           {
            "marker": {
             "colorbar": {
              "outlinewidth": 0,
              "ticks": ""
             }
            },
            "type": "histogram"
           }
          ],
          "histogram2d": [
           {
            "colorbar": {
             "outlinewidth": 0,
             "ticks": ""
            },
            "colorscale": [
             [
              0,
              "#0d0887"
             ],
             [
              0.1111111111111111,
              "#46039f"
             ],
             [
              0.2222222222222222,
              "#7201a8"
             ],
             [
              0.3333333333333333,
              "#9c179e"
             ],
             [
              0.4444444444444444,
              "#bd3786"
             ],
             [
              0.5555555555555556,
              "#d8576b"
             ],
             [
              0.6666666666666666,
              "#ed7953"
             ],
             [
              0.7777777777777778,
              "#fb9f3a"
             ],
             [
              0.8888888888888888,
              "#fdca26"
             ],
             [
              1,
              "#f0f921"
             ]
            ],
            "type": "histogram2d"
           }
          ],
          "histogram2dcontour": [
           {
            "colorbar": {
             "outlinewidth": 0,
             "ticks": ""
            },
            "colorscale": [
             [
              0,
              "#0d0887"
             ],
             [
              0.1111111111111111,
              "#46039f"
             ],
             [
              0.2222222222222222,
              "#7201a8"
             ],
             [
              0.3333333333333333,
              "#9c179e"
             ],
             [
              0.4444444444444444,
              "#bd3786"
             ],
             [
              0.5555555555555556,
              "#d8576b"
             ],
             [
              0.6666666666666666,
              "#ed7953"
             ],
             [
              0.7777777777777778,
              "#fb9f3a"
             ],
             [
              0.8888888888888888,
              "#fdca26"
             ],
             [
              1,
              "#f0f921"
             ]
            ],
            "type": "histogram2dcontour"
           }
          ],
          "mesh3d": [
           {
            "colorbar": {
             "outlinewidth": 0,
             "ticks": ""
            },
            "type": "mesh3d"
           }
          ],
          "parcoords": [
           {
            "line": {
             "colorbar": {
              "outlinewidth": 0,
              "ticks": ""
             }
            },
            "type": "parcoords"
           }
          ],
          "pie": [
           {
            "automargin": true,
            "type": "pie"
           }
          ],
          "scatter": [
           {
            "marker": {
             "colorbar": {
              "outlinewidth": 0,
              "ticks": ""
             }
            },
            "type": "scatter"
           }
          ],
          "scatter3d": [
           {
            "line": {
             "colorbar": {
              "outlinewidth": 0,
              "ticks": ""
             }
            },
            "marker": {
             "colorbar": {
              "outlinewidth": 0,
              "ticks": ""
             }
            },
            "type": "scatter3d"
           }
          ],
          "scattercarpet": [
           {
            "marker": {
             "colorbar": {
              "outlinewidth": 0,
              "ticks": ""
             }
            },
            "type": "scattercarpet"
           }
          ],
          "scattergeo": [
           {
            "marker": {
             "colorbar": {
              "outlinewidth": 0,
              "ticks": ""
             }
            },
            "type": "scattergeo"
           }
          ],
          "scattergl": [
           {
            "marker": {
             "colorbar": {
              "outlinewidth": 0,
              "ticks": ""
             }
            },
            "type": "scattergl"
           }
          ],
          "scattermapbox": [
           {
            "marker": {
             "colorbar": {
              "outlinewidth": 0,
              "ticks": ""
             }
            },
            "type": "scattermapbox"
           }
          ],
          "scatterpolar": [
           {
            "marker": {
             "colorbar": {
              "outlinewidth": 0,
              "ticks": ""
             }
            },
            "type": "scatterpolar"
           }
          ],
          "scatterpolargl": [
           {
            "marker": {
             "colorbar": {
              "outlinewidth": 0,
              "ticks": ""
             }
            },
            "type": "scatterpolargl"
           }
          ],
          "scatterternary": [
           {
            "marker": {
             "colorbar": {
              "outlinewidth": 0,
              "ticks": ""
             }
            },
            "type": "scatterternary"
           }
          ],
          "surface": [
           {
            "colorbar": {
             "outlinewidth": 0,
             "ticks": ""
            },
            "colorscale": [
             [
              0,
              "#0d0887"
             ],
             [
              0.1111111111111111,
              "#46039f"
             ],
             [
              0.2222222222222222,
              "#7201a8"
             ],
             [
              0.3333333333333333,
              "#9c179e"
             ],
             [
              0.4444444444444444,
              "#bd3786"
             ],
             [
              0.5555555555555556,
              "#d8576b"
             ],
             [
              0.6666666666666666,
              "#ed7953"
             ],
             [
              0.7777777777777778,
              "#fb9f3a"
             ],
             [
              0.8888888888888888,
              "#fdca26"
             ],
             [
              1,
              "#f0f921"
             ]
            ],
            "type": "surface"
           }
          ],
          "table": [
           {
            "cells": {
             "fill": {
              "color": "#EBF0F8"
             },
             "line": {
              "color": "white"
             }
            },
            "header": {
             "fill": {
              "color": "#C8D4E3"
             },
             "line": {
              "color": "white"
             }
            },
            "type": "table"
           }
          ]
         },
         "layout": {
          "annotationdefaults": {
           "arrowcolor": "#2a3f5f",
           "arrowhead": 0,
           "arrowwidth": 1
          },
          "autotypenumbers": "strict",
          "coloraxis": {
           "colorbar": {
            "outlinewidth": 0,
            "ticks": ""
           }
          },
          "colorscale": {
           "diverging": [
            [
             0,
             "#8e0152"
            ],
            [
             0.1,
             "#c51b7d"
            ],
            [
             0.2,
             "#de77ae"
            ],
            [
             0.3,
             "#f1b6da"
            ],
            [
             0.4,
             "#fde0ef"
            ],
            [
             0.5,
             "#f7f7f7"
            ],
            [
             0.6,
             "#e6f5d0"
            ],
            [
             0.7,
             "#b8e186"
            ],
            [
             0.8,
             "#7fbc41"
            ],
            [
             0.9,
             "#4d9221"
            ],
            [
             1,
             "#276419"
            ]
           ],
           "sequential": [
            [
             0,
             "#0d0887"
            ],
            [
             0.1111111111111111,
             "#46039f"
            ],
            [
             0.2222222222222222,
             "#7201a8"
            ],
            [
             0.3333333333333333,
             "#9c179e"
            ],
            [
             0.4444444444444444,
             "#bd3786"
            ],
            [
             0.5555555555555556,
             "#d8576b"
            ],
            [
             0.6666666666666666,
             "#ed7953"
            ],
            [
             0.7777777777777778,
             "#fb9f3a"
            ],
            [
             0.8888888888888888,
             "#fdca26"
            ],
            [
             1,
             "#f0f921"
            ]
           ],
           "sequentialminus": [
            [
             0,
             "#0d0887"
            ],
            [
             0.1111111111111111,
             "#46039f"
            ],
            [
             0.2222222222222222,
             "#7201a8"
            ],
            [
             0.3333333333333333,
             "#9c179e"
            ],
            [
             0.4444444444444444,
             "#bd3786"
            ],
            [
             0.5555555555555556,
             "#d8576b"
            ],
            [
             0.6666666666666666,
             "#ed7953"
            ],
            [
             0.7777777777777778,
             "#fb9f3a"
            ],
            [
             0.8888888888888888,
             "#fdca26"
            ],
            [
             1,
             "#f0f921"
            ]
           ]
          },
          "colorway": [
           "#636efa",
           "#EF553B",
           "#00cc96",
           "#ab63fa",
           "#FFA15A",
           "#19d3f3",
           "#FF6692",
           "#B6E880",
           "#FF97FF",
           "#FECB52"
          ],
          "font": {
           "color": "#2a3f5f"
          },
          "geo": {
           "bgcolor": "white",
           "lakecolor": "white",
           "landcolor": "#E5ECF6",
           "showlakes": true,
           "showland": true,
           "subunitcolor": "white"
          },
          "hoverlabel": {
           "align": "left"
          },
          "hovermode": "closest",
          "mapbox": {
           "style": "light"
          },
          "paper_bgcolor": "white",
          "plot_bgcolor": "#E5ECF6",
          "polar": {
           "angularaxis": {
            "gridcolor": "white",
            "linecolor": "white",
            "ticks": ""
           },
           "bgcolor": "#E5ECF6",
           "radialaxis": {
            "gridcolor": "white",
            "linecolor": "white",
            "ticks": ""
           }
          },
          "scene": {
           "xaxis": {
            "backgroundcolor": "#E5ECF6",
            "gridcolor": "white",
            "gridwidth": 2,
            "linecolor": "white",
            "showbackground": true,
            "ticks": "",
            "zerolinecolor": "white"
           },
           "yaxis": {
            "backgroundcolor": "#E5ECF6",
            "gridcolor": "white",
            "gridwidth": 2,
            "linecolor": "white",
            "showbackground": true,
            "ticks": "",
            "zerolinecolor": "white"
           },
           "zaxis": {
            "backgroundcolor": "#E5ECF6",
            "gridcolor": "white",
            "gridwidth": 2,
            "linecolor": "white",
            "showbackground": true,
            "ticks": "",
            "zerolinecolor": "white"
           }
          },
          "shapedefaults": {
           "line": {
            "color": "#2a3f5f"
           }
          },
          "ternary": {
           "aaxis": {
            "gridcolor": "white",
            "linecolor": "white",
            "ticks": ""
           },
           "baxis": {
            "gridcolor": "white",
            "linecolor": "white",
            "ticks": ""
           },
           "bgcolor": "#E5ECF6",
           "caxis": {
            "gridcolor": "white",
            "linecolor": "white",
            "ticks": ""
           }
          },
          "title": {
           "x": 0.05
          },
          "xaxis": {
           "automargin": true,
           "gridcolor": "white",
           "linecolor": "white",
           "ticks": "",
           "title": {
            "standoff": 15
           },
           "zerolinecolor": "white",
           "zerolinewidth": 2
          },
          "yaxis": {
           "automargin": true,
           "gridcolor": "white",
           "linecolor": "white",
           "ticks": "",
           "title": {
            "standoff": 15
           },
           "zerolinecolor": "white",
           "zerolinewidth": 2
          }
         }
        },
        "title": {
         "text": "ٌRadar Point Cloud"
        }
       }
      },
      "text/html": [
       "<div>                            <div id=\"afda8727-6532-40f3-a2a5-620062127646\" class=\"plotly-graph-div\" style=\"height:525px; width:100%;\"></div>            <script type=\"text/javascript\">                require([\"plotly\"], function(Plotly) {                    window.PLOTLYENV=window.PLOTLYENV || {};                                    if (document.getElementById(\"afda8727-6532-40f3-a2a5-620062127646\")) {                    Plotly.newPlot(                        \"afda8727-6532-40f3-a2a5-620062127646\",                        [{\"hovertemplate\": \"X (mm)=%{x}<br>Y (mm)=%{y}<br>Z (mm)=%{z}<br>Depth=%{marker.color}<extra></extra>\", \"legendgroup\": \"\", \"marker\": {\"color\": [358.35176525439886, 367.7980687777735, 352.6508409664782, 342.43235964586245, 353.33504687451045, 369.7533967520498, 348.5437904707895, 363.42029942379986, 358.9488726240394, 356.9394445986652, 356.1985054484258, 366.75372706346116, 362.26750931780765, 365.0914309299697, 329.200385825061, 317.1506857573241, 317.5977533818295, 365.5181092278094, 340.09426091304243, 347.8267271254272, 348.6313752364632, 341.2966068812211, 340.0971072543379, 338.20891064669127, 335.94382454033195, 315.02633889402074, 315.3375389738255, 311.91615518749103, 316.52171708497343, 318.38404643171486, 318.7625383127568, 316.182423096783, 310.6802783847513, 309.4753370609397, 307.217113396577, 300.20605760228824, 305.3667624621823, 307.20244906077846, 312.6931044943727, 321.8844406148491, 322.84183452757827, 327.47421045922533, 324.942326495836, 319.80264119098086, 315.4934466619366, 318.85613286674396, 317.9105586319497, 316.6512450575926, 319.01792787080836, 361.1549209889271, 372.8880462847684, 306.86155509721203, 308.88738120756597, 310.1158181020161, 300.40442323158254, 302.33066882182294, 310.18395087653295, 315.96101586420474, 311.65364098813467, 325.84955136877096, 323.8103912660652, 319.2826296135898, 307.3541097602895, 307.6935676042615, 303.3794151640751, 303.229715736412, 305.3667624621823, 307.20244906077846, 316.4203528883624, 300.5219052269062, 324.0511350885714, 294.8180598479355, 291.81991008677005, 304.84387884212435, 302.9133262234068, 305.9889126832516, 300.818682804713, 310.48452650800897, 313.19667944839205, 307.1172761945711, 312.73297218789685, 301.69072870484706, 301.56787856974506, 298.48504352973276, 300.78464183732905, 306.3564065346975, 286.8972862499203, 283.12493748703133, 306.94211976307514, 320.84101366630773, 306.7957574110972, 305.8736917993332, 301.00548573085075, 302.78076518868426, 302.03300658088006, 306.5988118223644, 303.81064495046115, 308.3926435407092, 324.07753380818605, 328.0189296646708, 323.1984490602607, 305.5998173904052, 302.31485696713617, 301.71786571273805, 299.06391584674003, 301.821777556177, 307.9515360939754, 309.73234498884324, 309.77744264705643, 308.70479780560754, 306.9944254245864, 308.83989658212744, 302.52284384467663, 310.0371581126318, 302.6512408943116, 301.2680523029611, 312.90271613451404, 314.7922252899156, 314.92201373774446, 322.9268959215449, 319.5039415664526, 317.5273760921732, 305.0514227320257, 304.84598783303744, 303.48590486661755, 299.3381719212868, 308.75930262106067, 315.1421945902614, 318.07846153400243, 319.02453516919036, 315.7094025723113, 316.021277419413, 311.7630350401574, 307.20881164440556, 306.29777777348386, 311.35391860947294, 334.63976570198787, 332.93812348236526, 331.3135617487854, 340.0634879818828, 327.24208308508594, 309.992767829369, 309.4459030782505, 313.9829724982775, 314.2931418842463, 318.2218061577994, 317.907759654506, 321.1970133217284, 322.84811095720113, 318.9759383414805, 313.5219474564675, 328.6874819045093, 356.95192032705984, 370.30219885260414, 318.1955046980399, 318.16759554236694, 319.11393429244157, 308.0473456487864, 306.6169024068324, 304.448466039033, 308.0473456487864, 348.78763854829367, 355.8599239341455, 363.28393653784315, 355.7123403825525, 353.73502333603716, 348.5096516269029, 347.6150432968174, 351.68912627010246, 356.39463034940735, 365.8025631381339, 364.38969271362856, 370.62763361843275, 334.29083240499494, 371.13797976756365], \"coloraxis\": \"coloraxis\", \"line\": {\"width\": 0}, \"opacity\": 1, \"size\": 3, \"symbol\": \"circle\"}, \"mode\": \"markers\", \"name\": \"\", \"scene\": \"scene\", \"showlegend\": false, \"type\": \"scatter3d\", \"x\": [-116.43554671098504, -119.50483678232375, -114.58320412310705, -111.26301827645095, -102.65332054167588, -58.563184802669625, -55.20391318230843, -45.91066054090716, -45.34578797252615, -45.09193817904844, -44.99833579673231, -46.331770382720656, -34.24436196253271, -34.51130114795069, -31.11859849542588, -29.97956648166186, -30.02182681459683, -34.55163412205674, -32.148372880630774, -32.87930614135458, -32.955367782153324, -32.26202803732986, -21.3970963368355, -21.278301075555945, -21.13579393687348, -19.81977728765282, -19.83935633712304, -19.624101114658778, -19.91385850895497, -20.031026340121915, -20.05483903087588, -19.892511940586804, -19.5463463368479, -19.47053785440012, -19.32846246397243, -9.434355434035108, -9.596537117933353, -9.654225893353052, -9.826776691761555, -10.11562606597751, -10.145713381787223, -10.29129166022798, -10.211724001203612, -10.050202883434133, -9.914780989731835, -10.020457661024416, -9.990741793558035, -9.951166270138284, -10.02554227386663, -11.349750629863486, 0.0, 0.0, 0.0, 0.0, 0.0, 0.0, 0.0, 0.0, 0.0, 0.0, 0.0, 0.0, 0.0, 0.0, 0.0, 9.529377718982225, 9.596537117933353, 9.654225893353052, 9.94391019140073, 9.444281345515513, 10.183717182943365, 9.265030783165841, 9.170810131133646, 9.580104838179704, 9.519434777973196, 9.616088976299608, 9.45360795663137, 9.7573693323846, 9.842602172239337, 9.651549228199944, 19.675490884446436, 18.980771809976574, 18.97304273460457, 18.7790871938643, 18.923765656203777, 19.274311378154344, 18.05004730038884, 17.812711233206965, 19.311161331023783, 20.185605616139444, 19.301952992350632, 19.243941541200464, 18.937659976279694, 19.049351092651527, 28.55052505664841, 28.982120723712924, 28.71856135634599, 29.15168774554866, 30.63434640481828, 31.00691800695079, 30.551248430174113, 28.887687946699643, 28.577167762378245, 28.520735473866992, 28.26986334897565, 28.530558035061116, 29.109990815291887, 29.27832681786852, 29.28258980169068, 38.9984852301139, 38.78241495030811, 39.01555217458049, 38.21752282864704, 39.166801479566544, 38.23374314812175, 38.059005793102685, 39.52880564337219, 39.7675061605423, 39.783902254486, 40.79515404529983, 40.36273434917163, 40.11303606134788, 38.5369566278378, 38.51100416473747, 48.06744518868468, 47.41050882752283, 48.90266934063082, 49.91362011282465, 50.378679109352525, 50.52852245256756, 50.003457031609244, 50.05285315471875, 49.37841381871412, 48.65709569506506, 48.51280210530243, 49.313616141812595, 53.00173200104331, 52.73221835045577, 63.201442036951896, 64.87057973457509, 62.424765943736006, 59.134283077423625, 59.02996304691406, 59.895455326958086, 59.95462330174751, 60.704056093019354, 60.644148518545066, 61.271607213252565, 61.58657093207795, 60.847914500877884, 59.80751009675459, 62.700490514815684, 68.09222050389565, 82.7723481186033, 71.12512203883612, 71.11888360342792, 71.33041537586139, 68.85673973867561, 68.53699779181764, 68.05229483713718, 68.85673973867561, 77.96327412270216, 79.54411720104655, 81.20358062733517, 79.51112836882548, 90.8237171263538, 89.482069704748, 89.25237332596062, 90.2984200420174, 91.50658814311521, 93.92213472453285, 93.55937125666566, 107.67728141315163, 97.12046477291905, 120.59003964657131], \"y\": [358.35176525439886, 367.7980687777735, 352.6508409664782, 342.43235964586245, 353.33504687451045, 369.7533967520498, 348.5437904707895, 363.42029942379986, 358.9488726240394, 356.9394445986652, 356.1985054484258, 366.75372706346116, 362.26750931780765, 365.0914309299697, 329.200385825061, 317.1506857573241, 317.5977533818295, 365.5181092278094, 340.09426091304243, 347.8267271254272, 348.6313752364632, 341.2966068812211, 340.0971072543379, 338.20891064669127, 335.94382454033195, 315.02633889402074, 315.3375389738255, 311.91615518749103, 316.52171708497343, 318.38404643171486, 318.7625383127568, 316.182423096783, 310.6802783847513, 309.4753370609397, 307.217113396577, 300.20605760228824, 305.3667624621823, 307.20244906077846, 312.6931044943727, 321.8844406148491, 322.84183452757827, 327.47421045922533, 324.942326495836, 319.80264119098086, 315.4934466619366, 318.85613286674396, 317.9105586319497, 316.6512450575926, 319.01792787080836, 361.1549209889271, 372.8880462847684, 306.86155509721203, 308.88738120756597, 310.1158181020161, 300.40442323158254, 302.33066882182294, 310.18395087653295, 315.96101586420474, 311.65364098813467, 325.84955136877096, 323.8103912660652, 319.2826296135898, 307.3541097602895, 307.6935676042615, 303.3794151640751, 303.229715736412, 305.3667624621823, 307.20244906077846, 316.4203528883624, 300.5219052269062, 324.0511350885714, 294.8180598479355, 291.81991008677005, 304.84387884212435, 302.9133262234068, 305.9889126832516, 300.818682804713, 310.48452650800897, 313.19667944839205, 307.1172761945711, 312.73297218789685, 301.69072870484706, 301.56787856974506, 298.48504352973276, 300.78464183732905, 306.3564065346975, 286.8972862499203, 283.12493748703133, 306.94211976307514, 320.84101366630773, 306.7957574110972, 305.8736917993332, 301.00548573085075, 302.78076518868426, 302.03300658088006, 306.5988118223644, 303.81064495046115, 308.3926435407092, 324.07753380818605, 328.0189296646708, 323.1984490602607, 305.5998173904052, 302.31485696713617, 301.71786571273805, 299.06391584674003, 301.821777556177, 307.9515360939754, 309.73234498884324, 309.77744264705643, 308.70479780560754, 306.9944254245864, 308.83989658212744, 302.52284384467663, 310.0371581126318, 302.6512408943116, 301.2680523029611, 312.90271613451404, 314.7922252899156, 314.92201373774446, 322.9268959215449, 319.5039415664526, 317.5273760921732, 305.0514227320257, 304.84598783303744, 303.48590486661755, 299.3381719212868, 308.75930262106067, 315.1421945902614, 318.07846153400243, 319.02453516919036, 315.7094025723113, 316.021277419413, 311.7630350401574, 307.20881164440556, 306.29777777348386, 311.35391860947294, 334.63976570198787, 332.93812348236526, 331.3135617487854, 340.0634879818828, 327.24208308508594, 309.992767829369, 309.4459030782505, 313.9829724982775, 314.2931418842463, 318.2218061577994, 317.907759654506, 321.1970133217284, 322.84811095720113, 318.9759383414805, 313.5219474564675, 328.6874819045093, 356.95192032705984, 370.30219885260414, 318.1955046980399, 318.16759554236694, 319.11393429244157, 308.0473456487864, 306.6169024068324, 304.448466039033, 308.0473456487864, 348.78763854829367, 355.8599239341455, 363.28393653784315, 355.7123403825525, 353.73502333603716, 348.5096516269029, 347.6150432968174, 351.68912627010246, 356.39463034940735, 365.8025631381339, 364.38969271362856, 370.62763361843275, 334.29083240499494, 371.13797976756365], \"z\": [-90.46007849416334, 67.4944525096882, 76.7887891749994, 86.4414833020724, 88.3357256830746, 89.87646508452357, -50.22346133952946, -52.133455816905574, -39.943289237140476, -28.315015880448932, -16.931404283637278, -5.807219600427415, 87.36044282963215, 75.94384211101392, 47.0610114671526, 35.169846704680005, 25.10691063291038, -17.3142376608331, -26.885316802741535, -38.57161034850241, -49.838778611064946, -59.831326897234526, -70.56997878406635, -59.143610496116885, -47.906418858778096, -14.88563842424708, -4.963512270535333, 4.90965861118052, 14.956298100311544, 25.10691063291038, 35.26129196392254, 45.088394220026444, 54.329595688293416, 64.21597686289563, 73.9021323292409, 72.108679057713, 63.2696361512319, 53.64187928717578, 44.52478929227611, 35.553916793498665, 25.42074701582176, 15.450915832762792, 5.107122028814837, -5.026341539782616, -14.88563842424708, -25.10691063291038, -35.11497954913448, -45.088394220026444, -55.7050284905287, -74.82851198655311, -77.22140207175995, -53.555914737036076, -43.961184364525785, -34.23710506040612, -23.64234084599061, -14.257552414785179, -4.872758881622592, 4.963512270535333, 14.697212621408509, 25.64491586075846, 35.749000013216076, 45.4406472998704, 53.64187928717578, 63.72027458535748, 72.83495352304249, 72.83495352304249, 63.2696361512319, 53.64187928717578, 34.95037808249791, 23.663263271518037, 15.289408001758302, 4.633658606987099, -4.5865366550516375, -14.383169616677558, -23.851565101264864, -33.79816781604194, -42.833974509025126, -54.214976288107145, -64.891934514084, -73.7687349784661, -64.891934514084, -43.02184281827523, -33.359230571677756, -23.537728718353485, -14.212689128395043, -4.822146414728947, 4.5158537271484445, 13.378232001538516, 24.204631032040165, 35.49121147287521, 43.749832516619406, 53.489053420260745, 62.45848696980585, 72.83495352304249, 72.83495352304249, 63.77660438962318, 53.2598146198882, 44.08642990402586, 35.93798688231732, 25.930731138052753, 15.309596480633864, -4.822146414728947, -14.320361015731368, -23.851565101264864, -33.164147351960345, -43.14708835777531, -53.985737487734596, -64.42842069612625, -74.70251643388973, -74.70251643388973, -64.08078533265795, -54.329595688293416, -43.39757943677545, -34.50046740702462, -24.008483292720552, -14.320361015731368, -4.954536660642865, 4.984455360284428, 14.969383225508667, 25.616894755141374, 35.553916793498665, 55.85785435744373, 63.67521074194492, 73.7687349784661, 73.7687349784661, 62.76266791284062, 54.55883448866596, 45.41045417874092, 35.553916793498665, 25.42074701582176, 15.07406422708565, -5.026341539782616, -14.88563842424708, -24.479237867087623, -34.23710506040612, -55.01731208941106, -70.16440419335332, -80.92772613671387, -69.84895728946542, -60.420798098192506, -47.41326454699656, -34.84064377140687, -24.793074249999002, -15.07406422708565, -5.026341539782616, 5.089170809029898, 15.262490029924221, 25.734583398733143, 36.28547886743897, 46.215604075527104, 55.7050284905287, 69.29531578468256, 87.24186740672121, 91.09556865132664, 46.40347238477721, 35.99285403786284, 25.734583398733143, 14.88563842424708, 4.935588150869875, -4.9006830012880505, -14.88563842424708, -28.12758581843241, -40.256815840257744, -52.978863208531074, -63.613767103381534, -51.976898892530485, -39.723820614958385, -28.24527446202418, -17.123194832955107, -5.780292770750009, 5.932878138921981, 53.5424681362814, 6.06302448236278, -16.416598072310467, 6.1303415565562975]}],                        {\"coloraxis\": {\"cmax\": 473.12493748703133, \"cmin\": 183.12493748703133, \"colorbar\": {\"title\": {\"text\": \"Depth\"}}, \"colorscale\": [[0.0, \"rgb(255,0,0)\"], [0.125, \"rgb(255,111,0)\"], [0.25, \"rgb(255,234,0)\"], [0.375, \"rgb(151,255,0)\"], [0.5, \"rgb(44,255,150)\"], [0.625, \"rgb(0,152,255)\"], [0.75, \"rgb(0,25,255)\"], [0.875, \"rgb(0,0,200)\"], [1.0, \"rgb(150,0,90)\"]]}, \"legend\": {\"tracegroupgap\": 0}, \"scene\": {\"domain\": {\"x\": [0.0, 1.0], \"y\": [0.0, 1.0]}, \"xaxis\": {\"title\": {\"text\": \"X (mm)\"}}, \"yaxis\": {\"title\": {\"text\": \"Y (mm)\"}}, \"zaxis\": {\"title\": {\"text\": \"Z (mm)\"}}}, \"template\": {\"data\": {\"bar\": [{\"error_x\": {\"color\": \"#2a3f5f\"}, \"error_y\": {\"color\": \"#2a3f5f\"}, \"marker\": {\"line\": {\"color\": \"#E5ECF6\", \"width\": 0.5}}, \"type\": \"bar\"}], \"barpolar\": [{\"marker\": {\"line\": {\"color\": \"#E5ECF6\", \"width\": 0.5}}, \"type\": \"barpolar\"}], \"carpet\": [{\"aaxis\": {\"endlinecolor\": \"#2a3f5f\", \"gridcolor\": \"white\", \"linecolor\": \"white\", \"minorgridcolor\": \"white\", \"startlinecolor\": \"#2a3f5f\"}, \"baxis\": {\"endlinecolor\": \"#2a3f5f\", \"gridcolor\": \"white\", \"linecolor\": \"white\", \"minorgridcolor\": \"white\", \"startlinecolor\": \"#2a3f5f\"}, \"type\": \"carpet\"}], \"choropleth\": [{\"colorbar\": {\"outlinewidth\": 0, \"ticks\": \"\"}, \"type\": \"choropleth\"}], \"contour\": [{\"colorbar\": {\"outlinewidth\": 0, \"ticks\": \"\"}, \"colorscale\": [[0.0, \"#0d0887\"], [0.1111111111111111, \"#46039f\"], [0.2222222222222222, \"#7201a8\"], [0.3333333333333333, \"#9c179e\"], [0.4444444444444444, \"#bd3786\"], [0.5555555555555556, \"#d8576b\"], [0.6666666666666666, \"#ed7953\"], [0.7777777777777778, \"#fb9f3a\"], [0.8888888888888888, \"#fdca26\"], [1.0, \"#f0f921\"]], \"type\": \"contour\"}], \"contourcarpet\": [{\"colorbar\": {\"outlinewidth\": 0, \"ticks\": \"\"}, \"type\": \"contourcarpet\"}], \"heatmap\": [{\"colorbar\": {\"outlinewidth\": 0, \"ticks\": \"\"}, \"colorscale\": [[0.0, \"#0d0887\"], [0.1111111111111111, \"#46039f\"], [0.2222222222222222, \"#7201a8\"], [0.3333333333333333, \"#9c179e\"], [0.4444444444444444, \"#bd3786\"], [0.5555555555555556, \"#d8576b\"], [0.6666666666666666, \"#ed7953\"], [0.7777777777777778, \"#fb9f3a\"], [0.8888888888888888, \"#fdca26\"], [1.0, \"#f0f921\"]], \"type\": \"heatmap\"}], \"heatmapgl\": [{\"colorbar\": {\"outlinewidth\": 0, \"ticks\": \"\"}, \"colorscale\": [[0.0, \"#0d0887\"], [0.1111111111111111, \"#46039f\"], [0.2222222222222222, \"#7201a8\"], [0.3333333333333333, \"#9c179e\"], [0.4444444444444444, \"#bd3786\"], [0.5555555555555556, \"#d8576b\"], [0.6666666666666666, \"#ed7953\"], [0.7777777777777778, \"#fb9f3a\"], [0.8888888888888888, \"#fdca26\"], [1.0, \"#f0f921\"]], \"type\": \"heatmapgl\"}], \"histogram\": [{\"marker\": {\"colorbar\": {\"outlinewidth\": 0, \"ticks\": \"\"}}, \"type\": \"histogram\"}], \"histogram2d\": [{\"colorbar\": {\"outlinewidth\": 0, \"ticks\": \"\"}, \"colorscale\": [[0.0, \"#0d0887\"], [0.1111111111111111, \"#46039f\"], [0.2222222222222222, \"#7201a8\"], [0.3333333333333333, \"#9c179e\"], [0.4444444444444444, \"#bd3786\"], [0.5555555555555556, \"#d8576b\"], [0.6666666666666666, \"#ed7953\"], [0.7777777777777778, \"#fb9f3a\"], [0.8888888888888888, \"#fdca26\"], [1.0, \"#f0f921\"]], \"type\": \"histogram2d\"}], \"histogram2dcontour\": [{\"colorbar\": {\"outlinewidth\": 0, \"ticks\": \"\"}, \"colorscale\": [[0.0, \"#0d0887\"], [0.1111111111111111, \"#46039f\"], [0.2222222222222222, \"#7201a8\"], [0.3333333333333333, \"#9c179e\"], [0.4444444444444444, \"#bd3786\"], [0.5555555555555556, \"#d8576b\"], [0.6666666666666666, \"#ed7953\"], [0.7777777777777778, \"#fb9f3a\"], [0.8888888888888888, \"#fdca26\"], [1.0, \"#f0f921\"]], \"type\": \"histogram2dcontour\"}], \"mesh3d\": [{\"colorbar\": {\"outlinewidth\": 0, \"ticks\": \"\"}, \"type\": \"mesh3d\"}], \"parcoords\": [{\"line\": {\"colorbar\": {\"outlinewidth\": 0, \"ticks\": \"\"}}, \"type\": \"parcoords\"}], \"pie\": [{\"automargin\": true, \"type\": \"pie\"}], \"scatter\": [{\"marker\": {\"colorbar\": {\"outlinewidth\": 0, \"ticks\": \"\"}}, \"type\": \"scatter\"}], \"scatter3d\": [{\"line\": {\"colorbar\": {\"outlinewidth\": 0, \"ticks\": \"\"}}, \"marker\": {\"colorbar\": {\"outlinewidth\": 0, \"ticks\": \"\"}}, \"type\": \"scatter3d\"}], \"scattercarpet\": [{\"marker\": {\"colorbar\": {\"outlinewidth\": 0, \"ticks\": \"\"}}, \"type\": \"scattercarpet\"}], \"scattergeo\": [{\"marker\": {\"colorbar\": {\"outlinewidth\": 0, \"ticks\": \"\"}}, \"type\": \"scattergeo\"}], \"scattergl\": [{\"marker\": {\"colorbar\": {\"outlinewidth\": 0, \"ticks\": \"\"}}, \"type\": \"scattergl\"}], \"scattermapbox\": [{\"marker\": {\"colorbar\": {\"outlinewidth\": 0, \"ticks\": \"\"}}, \"type\": \"scattermapbox\"}], \"scatterpolar\": [{\"marker\": {\"colorbar\": {\"outlinewidth\": 0, \"ticks\": \"\"}}, \"type\": \"scatterpolar\"}], \"scatterpolargl\": [{\"marker\": {\"colorbar\": {\"outlinewidth\": 0, \"ticks\": \"\"}}, \"type\": \"scatterpolargl\"}], \"scatterternary\": [{\"marker\": {\"colorbar\": {\"outlinewidth\": 0, \"ticks\": \"\"}}, \"type\": \"scatterternary\"}], \"surface\": [{\"colorbar\": {\"outlinewidth\": 0, \"ticks\": \"\"}, \"colorscale\": [[0.0, \"#0d0887\"], [0.1111111111111111, \"#46039f\"], [0.2222222222222222, \"#7201a8\"], [0.3333333333333333, \"#9c179e\"], [0.4444444444444444, \"#bd3786\"], [0.5555555555555556, \"#d8576b\"], [0.6666666666666666, \"#ed7953\"], [0.7777777777777778, \"#fb9f3a\"], [0.8888888888888888, \"#fdca26\"], [1.0, \"#f0f921\"]], \"type\": \"surface\"}], \"table\": [{\"cells\": {\"fill\": {\"color\": \"#EBF0F8\"}, \"line\": {\"color\": \"white\"}}, \"header\": {\"fill\": {\"color\": \"#C8D4E3\"}, \"line\": {\"color\": \"white\"}}, \"type\": \"table\"}]}, \"layout\": {\"annotationdefaults\": {\"arrowcolor\": \"#2a3f5f\", \"arrowhead\": 0, \"arrowwidth\": 1}, \"autotypenumbers\": \"strict\", \"coloraxis\": {\"colorbar\": {\"outlinewidth\": 0, \"ticks\": \"\"}}, \"colorscale\": {\"diverging\": [[0, \"#8e0152\"], [0.1, \"#c51b7d\"], [0.2, \"#de77ae\"], [0.3, \"#f1b6da\"], [0.4, \"#fde0ef\"], [0.5, \"#f7f7f7\"], [0.6, \"#e6f5d0\"], [0.7, \"#b8e186\"], [0.8, \"#7fbc41\"], [0.9, \"#4d9221\"], [1, \"#276419\"]], \"sequential\": [[0.0, \"#0d0887\"], [0.1111111111111111, \"#46039f\"], [0.2222222222222222, \"#7201a8\"], [0.3333333333333333, \"#9c179e\"], [0.4444444444444444, \"#bd3786\"], [0.5555555555555556, \"#d8576b\"], [0.6666666666666666, \"#ed7953\"], [0.7777777777777778, \"#fb9f3a\"], [0.8888888888888888, \"#fdca26\"], [1.0, \"#f0f921\"]], \"sequentialminus\": [[0.0, \"#0d0887\"], [0.1111111111111111, \"#46039f\"], [0.2222222222222222, \"#7201a8\"], [0.3333333333333333, \"#9c179e\"], [0.4444444444444444, \"#bd3786\"], [0.5555555555555556, \"#d8576b\"], [0.6666666666666666, \"#ed7953\"], [0.7777777777777778, \"#fb9f3a\"], [0.8888888888888888, \"#fdca26\"], [1.0, \"#f0f921\"]]}, \"colorway\": [\"#636efa\", \"#EF553B\", \"#00cc96\", \"#ab63fa\", \"#FFA15A\", \"#19d3f3\", \"#FF6692\", \"#B6E880\", \"#FF97FF\", \"#FECB52\"], \"font\": {\"color\": \"#2a3f5f\"}, \"geo\": {\"bgcolor\": \"white\", \"lakecolor\": \"white\", \"landcolor\": \"#E5ECF6\", \"showlakes\": true, \"showland\": true, \"subunitcolor\": \"white\"}, \"hoverlabel\": {\"align\": \"left\"}, \"hovermode\": \"closest\", \"mapbox\": {\"style\": \"light\"}, \"paper_bgcolor\": \"white\", \"plot_bgcolor\": \"#E5ECF6\", \"polar\": {\"angularaxis\": {\"gridcolor\": \"white\", \"linecolor\": \"white\", \"ticks\": \"\"}, \"bgcolor\": \"#E5ECF6\", \"radialaxis\": {\"gridcolor\": \"white\", \"linecolor\": \"white\", \"ticks\": \"\"}}, \"scene\": {\"xaxis\": {\"backgroundcolor\": \"#E5ECF6\", \"gridcolor\": \"white\", \"gridwidth\": 2, \"linecolor\": \"white\", \"showbackground\": true, \"ticks\": \"\", \"zerolinecolor\": \"white\"}, \"yaxis\": {\"backgroundcolor\": \"#E5ECF6\", \"gridcolor\": \"white\", \"gridwidth\": 2, \"linecolor\": \"white\", \"showbackground\": true, \"ticks\": \"\", \"zerolinecolor\": \"white\"}, \"zaxis\": {\"backgroundcolor\": \"#E5ECF6\", \"gridcolor\": \"white\", \"gridwidth\": 2, \"linecolor\": \"white\", \"showbackground\": true, \"ticks\": \"\", \"zerolinecolor\": \"white\"}}, \"shapedefaults\": {\"line\": {\"color\": \"#2a3f5f\"}}, \"ternary\": {\"aaxis\": {\"gridcolor\": \"white\", \"linecolor\": \"white\", \"ticks\": \"\"}, \"baxis\": {\"gridcolor\": \"white\", \"linecolor\": \"white\", \"ticks\": \"\"}, \"bgcolor\": \"#E5ECF6\", \"caxis\": {\"gridcolor\": \"white\", \"linecolor\": \"white\", \"ticks\": \"\"}}, \"title\": {\"x\": 0.05}, \"xaxis\": {\"automargin\": true, \"gridcolor\": \"white\", \"linecolor\": \"white\", \"ticks\": \"\", \"title\": {\"standoff\": 15}, \"zerolinecolor\": \"white\", \"zerolinewidth\": 2}, \"yaxis\": {\"automargin\": true, \"gridcolor\": \"white\", \"linecolor\": \"white\", \"ticks\": \"\", \"title\": {\"standoff\": 15}, \"zerolinecolor\": \"white\", \"zerolinewidth\": 2}}}, \"title\": {\"text\": \"\\u064cRadar Point Cloud\"}},                        {\"responsive\": true}                    ).then(function(){\n",
       "                            \n",
       "var gd = document.getElementById('afda8727-6532-40f3-a2a5-620062127646');\n",
       "var x = new MutationObserver(function (mutations, observer) {{\n",
       "        var display = window.getComputedStyle(gd).display;\n",
       "        if (!display || display === 'none') {{\n",
       "            console.log([gd, 'removed!']);\n",
       "            Plotly.purge(gd);\n",
       "            observer.disconnect();\n",
       "        }}\n",
       "}});\n",
       "\n",
       "// Listen for the removal of the full notebook cells\n",
       "var notebookContainer = gd.closest('#notebook-container');\n",
       "if (notebookContainer) {{\n",
       "    x.observe(notebookContainer, {childList: true});\n",
       "}}\n",
       "\n",
       "// Listen for the clearing of the current output cell\n",
       "var outputEl = gd.closest('.output');\n",
       "if (outputEl) {{\n",
       "    x.observe(outputEl, {childList: true});\n",
       "}}\n",
       "\n",
       "                        })                };                });            </script>        </div>"
      ]
     },
     "metadata": {},
     "output_type": "display_data"
    }
   ],
   "source": [
    "# plot_3D(\"waleed2_12_7\",'y')\\\n",
    "plot_3D_threshold(\"waleed4_13_7\",'y',90)\n",
    "# points_to_image(\"gedo_13_7\")"
   ]
  },
  {
   "cell_type": "code",
   "execution_count": null,
   "metadata": {},
   "outputs": [],
   "source": []
  },
  {
   "cell_type": "code",
   "execution_count": null,
   "metadata": {},
   "outputs": [],
   "source": [
    "import numpy as np\n",
    "y = 1184*np.cos((np.pi*.45*75)/180)*np.cos((np.pi*.45*50)/180)\n",
    "print(y)"
   ]
  },
  {
   "cell_type": "code",
   "execution_count": null,
   "metadata": {},
   "outputs": [],
   "source": []
  }
 ],
 "metadata": {
  "kernelspec": {
   "display_name": "Python 3",
   "language": "python",
   "name": "python3"
  },
  "language_info": {
   "codemirror_mode": {
    "name": "ipython",
    "version": 3
   },
   "file_extension": ".py",
   "mimetype": "text/x-python",
   "name": "python",
   "nbconvert_exporter": "python",
   "pygments_lexer": "ipython3",
   "version": "3.7.9"
  }
 },
 "nbformat": 4,
 "nbformat_minor": 4
}
