{
 "cells": [
  {
   "cell_type": "code",
   "execution_count": 126,
   "metadata": {},
   "outputs": [
    {
     "data": {
      "text/plain": [
       "True"
      ]
     },
     "execution_count": 126,
     "metadata": {},
     "output_type": "execute_result"
    }
   ],
   "source": [
    "import serial\n",
    "import matplotlib.pyplot as plt\n",
    "ser = serial.Serial()\n",
    "import time\n",
    "ser.baudrate = 1000000\n",
    "ser.port = 'COM3'\n",
    "ser\n",
    "ser.open()\n",
    "ser.is_open"
   ]
  },
  {
   "cell_type": "code",
   "execution_count": 149,
   "metadata": {},
   "outputs": [
    {
     "data": {
      "text/plain": [
       "[<matplotlib.lines.Line2D at 0x1d54f04de88>]"
      ]
     },
     "execution_count": 149,
     "metadata": {},
     "output_type": "execute_result"
    },
    {
     "data": {
      "image/png": "[encoded data removed]",
      "text/plain": [
       "<Figure size 432x288 with 1 Axes>"
      ]
     },
     "metadata": {
      "needs_background": "light"
     },
     "output_type": "display_data"
    }
   ],
   "source": [
    "\n",
    "# while (1):\n",
    "Magnitude = []\n",
    "Distance = []\n",
    "line = ser.readline()\n",
    "# print((line))\n",
    "newLine = line.decode(\"utf-8\")\n",
    "# print (\"**********************************************************************************************************************\")\n",
    "# print (newLine)\n",
    "splittedLine = newLine.split(\"\\t\")\n",
    "# print (\"**********************************************************************************************************************\")\n",
    "#     print (splittedLine)\n",
    "# print (\"**********************************************************************************************************************\")\n",
    "j  =0\n",
    "for i in range (3,len(splittedLine)):\n",
    "    if (splittedLine[i] != '\\n' and splittedLine[i] !='\\r' and splittedLine[i] !='\\r\\n'):\n",
    "        Magnitude.append(int(splittedLine[i]))\n",
    "        j+=32.3\n",
    "        Distance.append(j)\n",
    "#     print (Magnitude)\n",
    "#     plt.cla()\n",
    "#     plt.clf()\n",
    "#     if (len (Magnitude) > 4):\n",
    "plt.figure()\n",
    "plt.plot(Distance,Magnitude)"
   ]
  },
  {
   "cell_type": "code",
   "execution_count": 121,
   "metadata": {},
   "outputs": [
    {
     "data": {
      "text/plain": [
       "False"
      ]
     },
     "execution_count": 121,
     "metadata": {},
     "output_type": "execute_result"
    }
   ],
   "source": [
    "ser.close()\n",
    "ser.is_open"
   ]
  },
  {
   "cell_type": "code",
   "execution_count": null,
   "metadata": {},
   "outputs": [],
   "source": []
  }
 ],
 "metadata": {
  "kernelspec": {
   "display_name": "Python 3",
   "language": "python",
   "name": "python3"
  },
  "language_info": {
   "codemirror_mode": {
    "name": "ipython",
    "version": 3
   },
   "file_extension": ".py",
   "mimetype": "text/x-python",
   "name": "python",
   "nbconvert_exporter": "python",
   "pygments_lexer": "ipython3",
   "version": "3.7.7"
  }
 },
 "nbformat": 4,
 "nbformat_minor": 4
}
